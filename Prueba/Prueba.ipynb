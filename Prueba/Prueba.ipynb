{
 "cells": [
  {
   "cell_type": "markdown",
   "id": "221d752a-cc44-4d8a-8876-f65667fb5fa8",
   "metadata": {},
   "source": [
    "Program to characterize the flux of homogeneous cylindrical synchrotron source, the expression for this is deduced in (https://www.cv.nrao.edu/~sransom/web/Ch5.html)\n",
    "$$\n",
    "    S \\propto\\left(\\frac{\\nu}{\\nu_1}\\right)^{5 / 2}\\left\\{1-\\exp \\left[-\\left(\\frac{\\nu}{\\nu_1}\\right)^{-(\\delta+4) / 2}\\right]\\right\\},\n",
    "$$\n",
    "in particular in expression 5.90. We will compute the flux for every frecuency '$\\nu$' and plot it, with a slider to select $\\delta$. Parameter $\\delta$ represent the exponent of the power law that determines the energy distribution of electrons in cosmic rays \n",
    "$$\n",
    "    n(E)dE \\propto E^{-\\delta} dE\n",
    "$$"
   ]
  },
  {
   "cell_type": "code",
   "execution_count": 1,
   "id": "15fa3c15-58db-40d1-925d-0de258862e8f",
   "metadata": {},
   "outputs": [],
   "source": [
    "import numpy as np\n",
    "import matplotlib.pyplot as plt\n",
    "\n",
    "#Packages to make an interactive plot\n",
    "from ipywidgets import interact, interactive, fixed, interact_manual\n",
    "import ipywidgets as widget\n",
    "\n",
    "#Packages for using tables and units in astropy\n",
    "from astropy.table import QTable\n",
    "import astropy.units as u\n",
    "from astropy.io import ascii"
   ]
  },
  {
   "cell_type": "markdown",
   "id": "0f8da930-51db-4849-a825-b9653cacacac",
   "metadata": {},
   "source": [
    "Function for ploting the values of flux for every point in a given matrix in a Log Log scale"
   ]
  },
  {
   "cell_type": "code",
   "execution_count": 2,
   "id": "4390896b-55e2-4809-b612-90cda26caad4",
   "metadata": {},
   "outputs": [],
   "source": [
    "def LogLogPlot(table):\n",
    "    \"\"\"\n",
    "    LogLogPlot plots a table of data in LogLog scale, with x axis named as v/v_1 and y axis as Spectrum.\n",
    "    \n",
    "    Parameters\n",
    "    :table: 2 dimensional array containing table[0] the x points with their value of flux table[1]\n",
    "\n",
    "    \"\"\"\n",
    "    #Plot both axis in logscale\n",
    "    plt.xscale(\"log\")\n",
    "    plt.yscale(\"log\")\n",
    "    \n",
    "    #Y axis will be the Flux spectrum, X axis will be the frequency ratio with the critical frequency\n",
    "    plt.ylabel(\"Spectrum\")\n",
    "    plt.xlabel(\"v/v_1\")\n",
    "    \n",
    "    plt.plot(table[0],table[1])"
   ]
  },
  {
   "cell_type": "markdown",
   "id": "54c8a179-76dc-48b8-8b63-5bdd92934771",
   "metadata": {},
   "source": [
    "A function that given a number of points, a range and a $\\delta$ gives a table with the values of flux at every frecuency."
   ]
  },
  {
   "cell_type": "code",
   "execution_count": 3,
   "id": "97476102-7211-407e-8735-a2b641f6fbe1",
   "metadata": {},
   "outputs": [],
   "source": [
    "def FluxHomCylSource(delta, size=1000, range=[0.1,10]):\n",
    "    \"\"\"\n",
    "    FluxHomCylSource calculates the spectrum of an homogeneus cylindrical source in a range and with a number of points given\n",
    "    by the user. It relies on the expression 5.90 of NRAO book. The result is given in a 2 dimensional array as an output and\n",
    "    also in a table saved in 'Flux_Spectrum.dat'\n",
    "    \n",
    "    Parameters\n",
    "    :delta: Exponent of the power law defining energy distribution of cosmic ray electrons from syncrotron emission\n",
    "    :size: Number of points that we want to compute\n",
    "    :range: Minimun (range[0]) and maximun (range[1]) of the interval that will be sampled\n",
    "\n",
    "    Output\n",
    "    :table: Table containing the value of flux (table[1]) for each value of frequency sampled (table[0])\n",
    "\n",
    "    Also output a file with a table of the values computed\n",
    "    \"\"\"\n",
    "    #Define x as the ratio between a frequency and the critical frequency, and give it values in the interval\n",
    "    x= np.linspace(range[0],range[1], size)\n",
    "\n",
    "    #Computing the flux array according to the bibliography expression\n",
    "    S= x**(5/2)*(1- np.exp(-x**(-(delta+4)/2)))\n",
    "\n",
    "    #Saving this information to a table and the table to an archive\n",
    "    table= QTable([x,S],names=['Frequency ratio', 'Flux spectrum'], meta={'name': 'Flux Spectrum Table'})\n",
    "    #Save the Table in a text file\n",
    "    ascii.write(table, 'Flux_Spectrum.dat', overwrite=True, format='ecsv')\n",
    "    \n",
    "    #Return the value as an array\n",
    "    return np.array([x,S])"
   ]
  },
  {
   "cell_type": "markdown",
   "id": "33c3ca28-0e77-46df-897a-e47fde1660a8",
   "metadata": {},
   "source": [
    "We had problems handing the interact() function when the argument is a function composition insted of a simple function, so we did the composite function previusly."
   ]
  },
  {
   "cell_type": "code",
   "execution_count": 4,
   "id": "e212a33e-fa56-47c0-bf79-0279470efb4b",
   "metadata": {},
   "outputs": [],
   "source": [
    "#We define a function containing both because interact dont work well with multiple function\n",
    "def PlotFluxSources(delta, size=1000, range=[0.1,10]):\n",
    "    #Ploting the results here so we can apply interact function\n",
    "    table= FluxHomCylSource(delta,size,range)\n",
    "    LogLogPlot(table)"
   ]
  },
  {
   "cell_type": "markdown",
   "id": "4f5a2cd3-dbec-420b-a3fa-0a95dcc6f4a7",
   "metadata": {},
   "source": [
    "Now we make an interacting function to see how this works and behave"
   ]
  },
  {
   "cell_type": "code",
   "execution_count": 5,
   "id": "b0b72b4a-637e-4b09-a622-c3b6e461cffb",
   "metadata": {},
   "outputs": [
    {
     "data": {
      "application/vnd.jupyter.widget-view+json": {
       "model_id": "f118a4365d9d4d8d9410400942131ff0",
       "version_major": 2,
       "version_minor": 0
      },
      "text/plain": [
       "interactive(children=(FloatSlider(value=2.5, description='delta', max=7.5, min=-2.5), IntSlider(value=1000, de…"
      ]
     },
     "metadata": {},
     "output_type": "display_data"
    },
    {
     "data": {
      "text/plain": [
       "<function __main__.PlotFluxSources(delta, size=1000, range=[0.1, 10])>"
      ]
     },
     "execution_count": 5,
     "metadata": {},
     "output_type": "execute_result"
    }
   ],
   "source": [
    "interact(PlotFluxSources, delta=2.5, range= fixed([0.01,10]), size= widget.IntSlider(min=0, max= 30000, step=100, value=1000))"
   ]
  }
 ],
 "metadata": {
  "kernelspec": {
   "display_name": "Python 3 (ipykernel)",
   "language": "python",
   "name": "python3"
  },
  "language_info": {
   "codemirror_mode": {
    "name": "ipython",
    "version": 3
   },
   "file_extension": ".py",
   "mimetype": "text/x-python",
   "name": "python",
   "nbconvert_exporter": "python",
   "pygments_lexer": "ipython3",
   "version": "3.11.7"
  }
 },
 "nbformat": 4,
 "nbformat_minor": 5
}
