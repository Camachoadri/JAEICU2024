{
 "cells": [
  {
   "cell_type": "code",
   "execution_count": 26,
   "id": "d2fbfb72-e836-46be-a691-958ad14930b2",
   "metadata": {},
   "outputs": [],
   "source": [
    "import numpy as np\n",
    "import matplotlib.pyplot as plt\n",
    "import scipy\n",
    "\n",
    "#gamma function\n",
    "from scipy import special\n",
    "\n",
    "#Fitting the spectrum\n",
    "from astropy.modeling import models, fitting\n",
    "from astropy.modeling.models import custom_model\n",
    "from astropy.modeling.fitting import fitter_unit_support\n",
    "from astropy.modeling.core import Fittable1DModel, Parameter\n",
    "\n",
    "#Packages to make an interactive plot\n",
    "from ipywidgets import interact, interactive, fixed, interact_manual\n",
    "import ipywidgets as widget\n",
    "\n",
    "#Packages for using tables and units in astropy\n",
    "from astropy.table import QTable\n",
    "import astropy.units as u\n",
    "from astropy.io import ascii\n",
    "\n",
    "#Astropy module to handle units\n",
    "from astropy import units as u\n",
    "from astropy.units import Quantity\n",
    "from astropy import constants as const\n",
    "\n",
    "#Importing the constant that will be needed\n",
    "from astropy.constants import c, k_B,m_e,e\n",
    "\n",
    "#Packages to make an interactive plot\n",
    "from ipywidgets import interact, interactive, fixed, interact_manual\n",
    "import ipywidgets as widget"
   ]
  },
  {
   "cell_type": "markdown",
   "id": "4d92aaba-380e-4eb6-9332-aa7e9c939b9d",
   "metadata": {},
   "source": [
    "My first attemp to make a python class. Trying to recreate the class on astropy fitting (https://docs.astropy.org/en/stable/_modules/astropy/modeling/functional_models.html#Gaussian1D)"
   ]
  },
  {
   "cell_type": "code",
   "execution_count": 39,
   "id": "d04cde79-0e42-4f29-86bb-0f63d18f4457",
   "metadata": {},
   "outputs": [],
   "source": [
    "class lineal(Fittable1DModel):\n",
    "\n",
    "    n_inputs = 1\n",
    "    n_outputs = 1\n",
    "\n",
    "    b = Parameter(\n",
    "        default=0, description=\"Pendiente\"\n",
    "    )\n",
    "\n",
    "    @property\n",
    "    def evaluate(x, b):\n",
    "        self.x=self.x.to(u.s)\n",
    "        y=self.b*self.x\n",
    "        return y\n",
    "    def input_units(self):\n",
    "        if self.mean.input_unit is None:\n",
    "            return None\n",
    "        return {self.inputs[0]: self.x.input_unit}\n",
    "\n",
    "    def _parameter_units_for_data_units(self, inputs_unit, outputs_unit):\n",
    "        return {\n",
    "            \"b\": inputs_unit[self.inputs[0]],\n",
    "            \"y\": outputs_unit[self.outputs[0]],\n",
    "        }"
   ]
  },
  {
   "cell_type": "markdown",
   "id": "6ff47454-9d70-44bc-ad1b-6d9a095c3463",
   "metadata": {},
   "source": [
    "Some GitHub code (https://github.com/astropy/astropy/issues/9889) (https://github.com/astropy/astropy/pull/10174/commits/dbe56f4ed7059df507d3fac6f12d16140e82018f) that helped a lot."
   ]
  },
  {
   "cell_type": "code",
   "execution_count": 57,
   "id": "075849cc-1c02-400a-af63-ebfb69070bd0",
   "metadata": {},
   "outputs": [],
   "source": [
    "class  CustomInputNamesModel(Fittable1DModel):\n",
    "\n",
    "    n_inputs = 1\n",
    "    n_outputs = 1\n",
    "\n",
    "    a = Parameter(default=1.0)\n",
    "    b = Parameter(default=1.0)\n",
    "\n",
    "    def __init__(self, a=a, b=b):\n",
    "        super().__init__(a=a, b=b)\n",
    "        self.inputs = ('inn',)\n",
    "        self.outputs = ('out',)\n",
    "\n",
    "    @staticmethod\n",
    "    def evaluate(inn, a, b):\n",
    "        return a * inn + b\n",
    "\n",
    "    @property\n",
    "    def input_units(self):\n",
    "        if self.a.unit is None and self.b.unit is None:\n",
    "            return None\n",
    "        else:\n",
    "            return {'inn': self.b.unit / self.a.unit}\n",
    "\n",
    "    def _parameter_units_for_data_units(self, inputs_unit, outputs_unit):\n",
    "        return {'a': outputs_unit['out'] / inputs_unit['inn'],\n",
    "                'b': outputs_unit['out']\n",
    "               }\n",
    "\n",
    "\n",
    "def models_with_custom_names():\n",
    "    line = models.Linear1D(1 * u.m / u.s, 2 * u.m)\n",
    "    line.inputs = ('inn',)\n",
    "    line.outputs = ('out',)\n",
    "\n",
    "    custom_names_model = CustomInputNamesModel(1 * u.m / u.s, 2 * u.m)\n",
    "    return [line, custom_names_model]"
   ]
  },
  {
   "cell_type": "code",
   "execution_count": 58,
   "id": "81d1b88c-c0ab-4d6e-9397-bc9a6e4d0f99",
   "metadata": {},
   "outputs": [],
   "source": [
    "x1 = np.linspace(0,10,100)*u.s\n",
    "\n",
    "b = -1*u.m/u.s\n",
    "c = 1*u.m\n",
    "y1 = (b*x1+c)\n",
    "y1 =(y1.value + np.random.normal(0., 0.2, x1.value.shape))*u.m\n",
    "\n",
    "exp_model = CustomInputNamesModel(-1.*u.m/u.s, 2*u.m)  \n",
    "fitter = fitting.LevMarLSQFitter()\n",
    "exp_fit = fitter(exp_model, x1, y1)"
   ]
  },
  {
   "cell_type": "code",
   "execution_count": 71,
   "id": "a47b71a6-1df7-4385-b111-85c7c5c0977e",
   "metadata": {},
   "outputs": [
    {
     "data": {
      "image/png": "[encoded data removed]",
      "text/plain": [
       "<Figure size 640x480 with 1 Axes>"
      ]
     },
     "metadata": {},
     "output_type": "display_data"
    }
   ],
   "source": [
    "plt.errorbar(x1 , y1, fmt='.')\n",
    "plt.plot(x1, exp_fit(x1))\n",
    "plt.show()"
   ]
  },
  {
   "cell_type": "code",
   "execution_count": 54,
   "id": "4e72ebd7-d3c5-4756-8898-c2ebade48dff",
   "metadata": {},
   "outputs": [],
   "source": [
    "def calc_reduced_chi_square(fit, x, y, N, n_free):\n",
    "    '''\n",
    "    fit (array) values for the fit\n",
    "    x,y,yerr (arrays) data\n",
    "    N total number of points\n",
    "    n_free number of parameters we are fitting\n",
    "    '''\n",
    "    return 1.0/(N-n_free)*sum(((fit - y))**2)"
   ]
  },
  {
   "cell_type": "code",
   "execution_count": 60,
   "id": "d557ae61-1c1d-4354-9930-9dab8ee2f61e",
   "metadata": {},
   "outputs": [
    {
     "data": {
      "text/latex": [
       "$0.040972109 \\; \\mathrm{m^{2}}$"
      ],
      "text/plain": [
       "<Quantity 0.04097211 m2>"
      ]
     },
     "execution_count": 60,
     "metadata": {},
     "output_type": "execute_result"
    }
   ],
   "source": [
    "calc_reduced_chi_square(exp_fit(x1), x1, y1, len(x1), 3)"
   ]
  },
  {
   "cell_type": "code",
   "execution_count": 69,
   "id": "03d026f1-456b-4674-ab96-27fdf8b13ed3",
   "metadata": {},
   "outputs": [],
   "source": [
    "a=3.0*u.dimensionless_unscaled\n",
    "if a.unit is None:\n",
    "    a"
   ]
  },
  {
   "cell_type": "code",
   "execution_count": null,
   "id": "0aff4d00-f4cf-4bc0-b475-b21f67f983a4",
   "metadata": {},
   "outputs": [],
   "source": []
  }
 ],
 "metadata": {
  "kernelspec": {
   "display_name": "Python 3 (ipykernel)",
   "language": "python",
   "name": "python3"
  },
  "language_info": {
   "codemirror_mode": {
    "name": "ipython",
    "version": 3
   },
   "file_extension": ".py",
   "mimetype": "text/x-python",
   "name": "python",
   "nbconvert_exporter": "python",
   "pygments_lexer": "ipython3",
   "version": "3.11.7"
  }
 },
 "nbformat": 4,
 "nbformat_minor": 5
}
