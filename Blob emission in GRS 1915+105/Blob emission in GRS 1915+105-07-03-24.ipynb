{
 "cells": [
  {
   "cell_type": "markdown",
   "id": "010506a2-de56-424f-b057-a10cbeceacea",
   "metadata": {},
   "source": [
    "In this project we will recreate the analysis made by Mirabel et.al in 'Accretion instabilities and jet formation in GRS 1915+105'. This object emits a X-ray oscillating flux and the ejection of plasma clouds with very high energy partciles. data were collected by VLA on May 15 1997. The emission observed is consisten with a synchrotron emission from an adiabatically expanding blob, i.e., can be described with a van deer Laan model."
   ]
  },
  {
   "cell_type": "markdown",
   "id": "d645a8c7-cfce-4951-968f-13b39e05cf59",
   "metadata": {},
   "source": [
    "One of the easiest models to study the evolution of an expanding glob was proposed by van der laan, it consider that\n",
    "$$\n",
    "    N_0 \\propto R^{-(2+p)}~~~~~~~~~~B\\propto R^{-2}\n",
    "$$"
   ]
  },
  {
   "cell_type": "markdown",
   "id": "85a74bbb-e417-483d-89f8-5ce6747a2c78",
   "metadata": {},
   "source": [
    "In this code we will calculate Brightness temperature, magnetic field, and the parameters of the power law describing the relativistic electron population. We assume a constant expansion of $0.2c$"
   ]
  },
  {
   "cell_type": "markdown",
   "id": "05f58c2c-7b67-4c2c-976a-f456dd9589ec",
   "metadata": {},
   "source": [
    "# 1. Introduction."
   ]
  },
  {
   "cell_type": "markdown",
   "id": "064ff1cb-9a78-4e40-9ff9-a359452dfc64",
   "metadata": {},
   "source": [
    "Some usefull libraries."
   ]
  },
  {
   "cell_type": "code",
   "execution_count": 2,
   "id": "950b642d-195a-4012-bf05-40e6a2f4152a",
   "metadata": {},
   "outputs": [],
   "source": [
    "import numpy as np\n",
    "import matplotlib.pyplot as plt\n",
    "import scipy\n",
    "\n",
    "#gamma function\n",
    "from scipy import special\n",
    "\n",
    "#Fitting the spectrum\n",
    "from astropy.modeling import models, fitting\n",
    "from astropy.modeling.models import custom_model\n",
    "#Make a custom user model with units implementation\n",
    "from astropy.modeling.core import Fittable1DModel, Parameter\n",
    "\n",
    "from scipy.optimize import curve_fit\n",
    "\n",
    "#Packages to make an interactive plot\n",
    "from ipywidgets import interact, interactive, fixed, interact_manual\n",
    "import ipywidgets as widget\n",
    "\n",
    "#Packages for using tables and units in astropy\n",
    "from astropy.table import QTable\n",
    "import astropy.units as u\n",
    "from astropy.io import ascii\n",
    "\n",
    "#Astropy module to handle units\n",
    "from astropy import units as u\n",
    "from astropy.units import Quantity\n",
    "from astropy import constants as const\n",
    "\n",
    "#Importing the constant that will be needed\n",
    "from astropy.constants import c, k_B,m_e,e\n",
    "\n",
    "#Packages to make an interactive plot\n",
    "from ipywidgets import interact, interactive, fixed, interact_manual\n",
    "import ipywidgets as widget"
   ]
  },
  {
   "cell_type": "markdown",
   "id": "28b7725c-58b8-4209-a7cc-397f50355914",
   "metadata": {},
   "source": [
    "Some functions that will be needed. Power law for the expanding radius and the expresions for magnetic field an dnumber density as a function of r."
   ]
  },
  {
   "cell_type": "code",
   "execution_count": 3,
   "id": "3928c5cd-ed07-45a9-afd5-075187e9bab5",
   "metadata": {},
   "outputs": [],
   "source": [
    "def PLradius(time, speed, r0, a):\n",
    "    \"\"\"\n",
    "    PLradius gives the radius after a given t of an expanding object with initial radius and a given speed driven by a power law\n",
    "\n",
    "    Parameters\n",
    "    :t: time of the expansion\n",
    "    :v: speed of the expansion\n",
    "    :r0: initial radius\n",
    "    :a: parameter of the power law\n",
    "\n",
    "    Output\n",
    "    :r: radius at the end of the expansion\n",
    "    \"\"\"\n",
    "    \n",
    "    r=r0 + (speed*(time**a))\n",
    "    return r\n",
    "\n",
    "def Br(r, B0, r0):\n",
    "    \"\"\"\n",
    "    Br returns the value of the magnetic field at a given r known the value B0 at r0\n",
    "\n",
    "    Parameters\n",
    "    :r: radius at which the magnetic field will be calculated\n",
    "    :B0: magnetic field at a starting radius\n",
    "    :r0: radius at starting\n",
    "\n",
    "    Output\n",
    "    :Br: Magentic field at a radius r of the object\n",
    "    \"\"\"\n",
    "    \n",
    "    Br=B0*((r/r0)**(-2))\n",
    "    return Br\n",
    "\n",
    "def Nr(r, N0, r0, p):\n",
    "    \"\"\"\n",
    "    Nr returns the value of the electron density at a given r known the value N0 at r0\n",
    "\n",
    "    Parameters\n",
    "    :r: radius at which the magnetic field will be calculated\n",
    "    :N0: electron density at a starting radius\n",
    "    :r0: radius at starting\n",
    "    :p: exponent of the power law\n",
    "\n",
    "    Output\n",
    "    :Nr: electron density at a radius r of the object\n",
    "    \"\"\"\n",
    "    \n",
    "    Nr=N0*((r/r0)**(-(2+p)))\n",
    "    return Nr"
   ]
  },
  {
   "cell_type": "markdown",
   "id": "51d4c61d-951d-4a89-8a6b-629204406a41",
   "metadata": {},
   "source": [
    "Let's read the data points and save it on a python table."
   ]
  },
  {
   "cell_type": "code",
   "execution_count": 4,
   "id": "2416c913-4c01-454c-bf0e-8cd1be4292a5",
   "metadata": {},
   "outputs": [],
   "source": [
    "#Defining variables to save time and flux values of each point\n",
    "time=[]\n",
    "flux=[]\n",
    "#Saving the table in a list where each element is a 2D array with the coordinates of the points\n",
    "with open('Data/2cm.csv', 'r') as f:\n",
    "    l = [[float(num.replace(',', '.')) for num in line.split()] for line in f]\n",
    "#Saving time and flux of each point individually\n",
    "for value in l:\n",
    "    time.append(value[0])\n",
    "    flux.append(value[1])\n",
    "#Making a table out of the previus values\n",
    "cm2= QTable([time*u.hour,flux*u.mJy],names=['UT time (hours)', 'Flux density (mJy)'], meta={'name': 'Light curves of GRS 1915+105 for May 15, 1997 obtained with the VLA at 2 cm'})\n",
    "\n",
    "#Repeat for 3.6cm wavelenght\n",
    "time=[] #Cleaning the list\n",
    "flux=[]\n",
    "with open('Data/3.6cm.csv', 'r') as f:\n",
    "    l = [[float(num.replace(',', '.')) for num in line.split()] for line in f]\n",
    "for value in l:\n",
    "    time.append(value[0])\n",
    "    flux.append(value[1])\n",
    "cm3= QTable([time*u.hour,flux*u.mJy],names=['UT time (hours)', 'Flux density (mJy)'], meta={'name': 'Light curves of GRS 1915+105 for May 15, 1997 obtained with the VLA at 3.6 cm'})\n",
    "\n",
    "#Repeat for 6cm wavelength\n",
    "time=[]\n",
    "flux=[]\n",
    "with open('Data/6cm.csv', 'r') as f:\n",
    "    l = [[float(num.replace(',', '.')) for num in line.split()] for line in f]\n",
    "for value in l:\n",
    "    time.append(value[0])\n",
    "    flux.append(value[1])\n",
    "cm6= QTable([time*u.hour,flux*u.mJy],names=['UT time (hours)', 'Flux density (mJy)'], meta={'name': 'Light curves of GRS 1915+105 for May 15, 1997 obtained with the VLA at 6 cm'})"
   ]
  },
  {
   "cell_type": "code",
   "execution_count": 5,
   "id": "6adc500e-04aa-4e7d-bf5b-20da061ddc00",
   "metadata": {},
   "outputs": [
    {
     "data": {
      "text/plain": [
       "<matplotlib.collections.PathCollection at 0x7f1b3cbc2210>"
      ]
     },
     "execution_count": 5,
     "metadata": {},
     "output_type": "execute_result"
    },
    {
     "data": {
      "image/png": "[encoded data removed]",
      "text/plain": [
       "<Figure size 640x480 with 1 Axes>"
      ]
     },
     "metadata": {},
     "output_type": "display_data"
    }
   ],
   "source": [
    "plt.scatter(cm6['UT time (hours)'],cm6['Flux density (mJy)'])"
   ]
  },
  {
   "cell_type": "markdown",
   "id": "8002423c-546b-460c-9c31-e1d6ab808456",
   "metadata": {},
   "source": [
    "# 2. Calculus."
   ]
  },
  {
   "cell_type": "markdown",
   "id": "ba9f1043-d06c-4103-9de4-d1fbb167fe43",
   "metadata": {},
   "source": [
    "We want to make a least squares fit to our data, the expression to fit will be \n",
    "It is whown in the bibliografy that the intensity is\n",
    "$$\n",
    "    F_\\nu = \\Omega I_\\nu = \\frac{\\pi R^2}{D^2}I_\\nu,\n",
    "$$\n",
    "with\n",
    "$$\n",
    "    I_\\nu = S(\\nu_1) J\\left( \\frac{\\nu}{\\nu_1},p \\right),\n",
    "$$\n",
    "is the frequency at the transition from thick to thin, where $S(\\nu_1)= \\frac{c_5}{c_6}B^{-1/2} \\left( \\frac{\\nu_1}{2c_1} \\right)^{5/2}$ is the source function at $\\nu_1$ and $J(z, p)=z^{\\frac{5}{2}}\\left[1-\\exp \\left(-z^{-\\frac{p+4}{2}}\\right)\\right]$. And $\\nu_1$\n",
    "$$\n",
    "    \\nu_1=2c_1(sc_6)^{\\frac{2}{p+4}}N_0^{\\frac{2}{p+4}}B^{\\frac{p+2}{p+4}}~~Hz,\n",
    "$$\n",
    "where $c_6$, $c_5$ and $c_1$ are constants given by (Pacholcyzk)\n",
    "$$\n",
    "c_1=\\frac{3 e}{4 \\pi m^3 c^5}\n",
    "$$\n",
    "\n",
    "$$\n",
    "c_5=\\frac{\\sqrt{3}}{16 \\pi} \\frac{e^3}{m c^2}\\left(\\frac{\\gamma+7 / 3}{\\gamma+1}\\right) \\Gamma\\left(\\frac{3 \\gamma-1}{12}\\right) \\Gamma\\left(\\frac{3 \\gamma+7}{12}\\right)\n",
    "$$\n",
    "\n",
    "$$\n",
    "c_6=\\frac{\\sqrt{3} \\pi}{72} e m^5 c^{10}\\left(\\gamma+\\frac{10}{3}\\right) \\Gamma\\left(\\frac{3 \\gamma+2}{12}\\right) \\Gamma\\left(\\frac{3 \\gamma+10}{12}\\right)\n",
    "$$"
   ]
  },
  {
   "cell_type": "code",
   "execution_count": 6,
   "id": "370bee29-87e6-46e3-8bd8-8c91b825e1c3",
   "metadata": {},
   "outputs": [],
   "source": [
    "#First of all defininf Pacholcyzk's constants\n",
    "c1=(const.e.esu*3/(4*np.pi*const.m_e**3*c**5)).cgs.value\n",
    "\n",
    "def Pacholcyzk5(p):\n",
    "    \"\"\"\n",
    "    Pacholcyzk5 returns the value of the Pacholcyzk c5 constant given p\n",
    "    Parameters\n",
    "    :p: Coefficient of the power law defining the electron population\n",
    "\n",
    "    Output\n",
    "    :c5: Value of the constant\n",
    "    \"\"\"\n",
    "    c5=3**0.5/(16*np.pi)*(const.e.esu**3/(const.m_e*const.c**2))*(p+7/3)/(p+1)*scipy.special.gamma((3*p-1)/12)*scipy.special.gamma((3*p+7)/12)\n",
    "    #return only the value in SI units to make possible a fit\n",
    "    return c5.cgs.value\n",
    "    \n",
    "def Pacholcyzk6(p):\n",
    "    \"\"\"\n",
    "    Pacholcyzk6 returns the value of the Pacholcyzk c6 constant given p\n",
    "    Parameters\n",
    "    :p: Coefficient of the power law defining the electron population\n",
    "\n",
    "    Output\n",
    "    :c6: Value of the constant\n",
    "    \"\"\"\n",
    "    c6=np.pi*3**0.5/(72)*const.e.esu*const.m_e**5*const.c**10*(p+10/3)*scipy.special.gamma((3*p+2)/12)*scipy.special.gamma((3*p+10)/12)\n",
    "    return c6.cgs.value\n",
    "    \n",
    "def calculatev1(s, p, N_0, B):\n",
    "    \"\"\"\n",
    "    calculatev1 returns the value of the frequency at which the optical depth is 1 for a population of electron\n",
    "    driven by a power law\n",
    "\n",
    "    Parameters\n",
    "    :s: Thickness of the source\n",
    "    :p: Exponent of the power law of electron population\n",
    "    :N_0: Constant multiplicative factor in the power law\n",
    "    :B: Value of the magnetic field\n",
    "\n",
    "    Output\n",
    "    :v1: Frequency at which the optical depth is 1\n",
    "    \"\"\"\n",
    "\n",
    "    #Computing the ressult, and giving it in Hz, since we do not know Pacholcyzk constannt units but we made\n",
    "    #everything in cgs\n",
    "    v1=(2*c1*(s*Pacholcyzk6(p))**(2/(p+4))*N_0**(2/(p+4))*B**((p+2)/(p+4)))\n",
    "    return v1"
   ]
  },
  {
   "cell_type": "markdown",
   "id": "31605bf4-43bd-43e3-85df-f125eb775356",
   "metadata": {},
   "source": [
    "Now let's deffine the functions needed for the intensity."
   ]
  },
  {
   "cell_type": "code",
   "execution_count": 7,
   "id": "36be0444-9ff5-4daa-a08a-1cdb6506dea2",
   "metadata": {},
   "outputs": [],
   "source": [
    "def SourceFunc(p, B, frequency):\n",
    "    \"\"\"\n",
    "    Source returns the value of the source function for a given frequency\n",
    "\n",
    "    Parameters\n",
    "    :p: Exponent of the power law of electron population\n",
    "    :B: Value of the magnetic field\n",
    "    :v: frequency at which the source function want to be calculated\n",
    "    \n",
    "    Output\n",
    "    :S: Value of the source function at the given frequency\n",
    "    \"\"\"\n",
    "    \n",
    "    S=(Pacholcyzk5(p)/Pacholcyzk6(p)*B**(-1/2)*(frequency/(2*c1))**(5/2))\n",
    "    return S\n",
    "\n",
    "def JFunc(z, p):\n",
    "    \"\"\"\n",
    "    Returns the value of the J function defined on the calculation of the intensity for a population\n",
    "    of relativistic electrons driven by a power law of exponent p\n",
    "\n",
    "    Paramenters\n",
    "    :z: ratio of the frequency of interest and the frequency v1\n",
    "    :p: Exponent of the power law\n",
    "\n",
    "    Output\n",
    "    :J:\n",
    "    \"\"\"\n",
    "\n",
    "    J=z**(5/2)*(1-np.exp(-z**(-(p+4)/2)))\n",
    "    return J"
   ]
  },
  {
   "cell_type": "markdown",
   "id": "893e1213-3074-44dd-87c1-87e062cd44de",
   "metadata": {},
   "source": [
    "We can now compute the intensity and the flux."
   ]
  },
  {
   "cell_type": "code",
   "execution_count": 8,
   "id": "114bc7ac-71f4-49d5-b795-2cd3e641628e",
   "metadata": {},
   "outputs": [],
   "source": [
    "def SpecInt(frequency, p, B, s, N0):\n",
    "    \"\"\"\n",
    "    SpecInt returns the specific intensity of a population of relativistic electrons driven by a power law at a given\n",
    "    frequency\n",
    "\n",
    "    Paramenters\n",
    "    :v: frequency at which the specific intensity is computed\n",
    "    :p: exponent of the power law\n",
    "    :B: Magnetic field\n",
    "    :s: Thickness of the source\n",
    "    :N0: Constant of the power law\n",
    "\n",
    "    Output\n",
    "    :I: specific intensity at the given frequency\n",
    "    \"\"\"\n",
    "    \n",
    "    v1=calculatev1(s, p, N0, B)\n",
    "    I=SourceFunc(p, B, v1)*JFunc(frequency/v1, p)\n",
    "    return I\n",
    "\n",
    "def solidangle(radius, distance):\n",
    "    \"\"\"\n",
    "    solidangle gives the solid angle of a source at distance d and size r in the small angle approximation.If units are \n",
    "    desired at the output, they must be inserted in the parameters with unit module\n",
    "\n",
    "    Parameters\n",
    "    :radius: radius of the source\n",
    "    :distance: distance from Earth to source\n",
    "\n",
    "    Outputs\n",
    "    :omega: solid angle of the source\n",
    "    \"\"\"\n",
    "    #Applying the expresion for the solid angle in the small angle approximation\n",
    "    omega= np.pi * (radius**2)/(distance**2)\n",
    "    return omega"
   ]
  },
  {
   "cell_type": "code",
   "execution_count": 9,
   "id": "f9b763b4-0b12-4aed-9bd5-95e141b44677",
   "metadata": {},
   "outputs": [],
   "source": [
    "\n",
    "def FluxatT(time, frequency, p, B0, N0, distance, r0, speed, a, offset=0):\n",
    "    \"\"\"\n",
    "    Flux returns the value of the flux foor a population of relativistic electrons driven by a power law at a given frequency\n",
    "\n",
    "    Parameters\n",
    "    :time: Time at wich the flux is calculated\n",
    "    :frequency: frequency at which the specific intensity is computed\n",
    "    :p: exponent of the power law describing electron population\n",
    "    :B0: Magnetic field when radius is r0\n",
    "    :N0: Constant of the power law\n",
    "    :distance: Distance to the source\n",
    "    :r0: reference radius of the source\n",
    "    :speed: speed of the expansion\n",
    "    :a: exponent of the power law describing expansion\n",
    "    :offset: Optional parameter to make a fit with the offset of the time\n",
    "    \n",
    "    Output\n",
    "    :F: Flux of the source\n",
    "    \"\"\"\n",
    "    #Computing the radius at a given time\n",
    "    r=PLradius(time+ offset, speed, r0, a)\n",
    "    #Computing number density and magentic field for the corresponding r\n",
    "    B=Br(r, B0, r0)\n",
    "    N= Nr(r, N0, r0, p)\n",
    "    \n",
    "    F=solidangle(r, distance)*SpecInt(frequency, p, B, r, N)\n",
    "    return F*1e23 #In order to get from cgs to Jy"
   ]
  },
  {
   "cell_type": "markdown",
   "id": "ec3b5106-8a4d-4fbc-9a36-d7e1c26568b4",
   "metadata": {},
   "source": [
    "We defined our function with frequencies, but sometimes data is given in wavelenght or viceversa, here we make some functions to change between them."
   ]
  },
  {
   "cell_type": "code",
   "execution_count": 10,
   "id": "16f19369-c1ab-46e6-8f04-27295a1b0081",
   "metadata": {},
   "outputs": [],
   "source": [
    "def freqtowavelenght(frequency):\n",
    "    \"\"\"\n",
    "    Transforms from frequency to wavelenght\n",
    "\n",
    "    Parameters\n",
    "    :frequency: Input frequency\n",
    "\n",
    "    Output\n",
    "    :wavelenght:\n",
    "    \"\"\"\n",
    "    frequency=frequency.to(u.Hz)\n",
    "    return (const.c/frequency).decompose()\n",
    "\n",
    "def wavelenghttofreq(wavelenght):\n",
    "    \"\"\"\n",
    "    Transforms from wavelenght to frequency\n",
    "\n",
    "    Parameters\n",
    "    :wavelenght: Input wavelenght\n",
    "\n",
    "    Output\n",
    "    :frequency:\n",
    "    \"\"\"\n",
    "    wavelenght=wavelenght.to(u.m)\n",
    "    return (const.c/wavelenght).decompose()"
   ]
  },
  {
   "cell_type": "markdown",
   "id": "22e44d55-d649-40fd-a9e9-cb58872f5555",
   "metadata": {},
   "source": [
    "Finally we can make a regression of the data to the flux function and get the values of $p$, $B_0$, $r_0$ and $N_0$. But first we need to separate the data in regions since"
   ]
  },
  {
   "cell_type": "code",
   "execution_count": 11,
   "id": "7199f5c2-db7c-4a06-ad15-37f9028605e3",
   "metadata": {},
   "outputs": [
    {
     "data": {
      "text/plain": [
       "<matplotlib.collections.PathCollection at 0x7f1b3ca9f290>"
      ]
     },
     "execution_count": 11,
     "metadata": {},
     "output_type": "execute_result"
    },
    {
     "data": {
      "image/png": "[encoded data removed]",
      "text/plain": [
       "<Figure size 640x480 with 1 Axes>"
      ]
     },
     "metadata": {},
     "output_type": "display_data"
    }
   ],
   "source": [
    "#Data for the 2cm line and the first peak\n",
    "x2_1=cm2['UT time (hours)'][72:98].to(u.s).value\n",
    "y2_1=cm2['Flux density (mJy)'][72:98].to(u.Jy).value\n",
    "#Second peak\n",
    "x2_2=cm2['UT time (hours)'][30:48].to(u.s).value\n",
    "y2_2=cm2['Flux density (mJy)'][30:48].to(u.Jy).value\n",
    "\n",
    "plt.scatter(x2_2,y2_2)"
   ]
  },
  {
   "cell_type": "markdown",
   "id": "dc454279-d664-437d-9604-c6d903339557",
   "metadata": {},
   "source": [
    "In order to have some initial parameters and check the code, we can search by hand some values that approxime the data curve. In the paper it is said that the size of the blob was measured to be $10^{13}$ after $900s$, so we can estimate that with a given speed near $0.2c$ this will lead to $\\approx 10^{12}$ at $t=0$."
   ]
  },
  {
   "cell_type": "code",
   "execution_count": 12,
   "id": "35a801e2-0664-4cc1-8e64-f62ac0bd92b6",
   "metadata": {},
   "outputs": [
    {
     "data": {
      "image/png": "[encoded data removed]",
      "text/plain": [
       "<Figure size 640x480 with 1 Axes>"
      ]
     },
     "metadata": {},
     "output_type": "display_data"
    }
   ],
   "source": [
    "#Quantizing the time\n",
    "t=(np.linspace(0, 10000.0, 100000)*u.s).value\n",
    "#Assuming some input parameters\n",
    "\n",
    "\n",
    "#input for cm2 and cm3\n",
    "p=0.78\n",
    "d=(11000*u.pc).to(u.cm).value  #Known distance to the binary\n",
    "B0=( 50*u.G).value\n",
    "r0= ((1e12)*u.cm).value #HIGH SENSITIVITY TO THIS PARAMETER LEFT AND RIGHT PEAK will be input, too small implies\n",
    "                        # that the flux spectrum doesnt rise from 0 (has sense since it has expanded and not coming from \n",
    "                        #a point)\n",
    "N0= (2e7*1/u.cm**3).value #UP OR DOWN PEAK FLUX\n",
    "speed=(const.c*0.08).cgs.value #WIDTH OF THE SPECTRUM PEAK\n",
    "\n",
    "#Computing the flux at r\n",
    "F1= FluxatT(t, wavelenghttofreq(2*u.cm).cgs.value, p, B0, N0, d, r0,speed, 1)\n",
    "x=x2_1\n",
    "y=y2_1\n",
    "\n",
    "\n",
    "\"\"\"\n",
    "#Little travel following the negative value\n",
    "p=0.3\n",
    "nu= wavelenghttofreq(2*u.cm).cgs.value\n",
    "SourceFunc(p, B0, 3e14)\n",
    "\n",
    "(Pacholcyzk5(p)/Pacholcyzk6(p)) #Aqui esta lo que sale negativo\n",
    "\n",
    "scipy.special.gamma((3*p-1)/12)\n",
    "\"\"\"\n",
    "\n",
    "#Plotting the results\n",
    "l1=\"Fit\"\n",
    "plt.plot(t,F1,'r', label=l1)\n",
    "plt.xlabel(f\"Time (t)\")\n",
    "plt.ylabel(f'Flux density (Jy)')\n",
    "plt.title('Flux density at different times for an expanding source')\n",
    "plt.legend()\n",
    "plt.scatter(x-1*min(x),y) #Substract the first time value in order to align the data with 0\n",
    "plt.show()\n"
   ]
  },
  {
   "cell_type": "markdown",
   "id": "1f209887-115a-47ac-b974-b3f9b65186f1",
   "metadata": {},
   "source": [
    "And now we can procceed to fit the data with curve_fit astropy module. Testing the function with a single outburst."
   ]
  },
  {
   "cell_type": "code",
   "execution_count": 13,
   "id": "5dcfb80f-ddbd-4348-b9ac-38394c68f0e8",
   "metadata": {
    "scrolled": true
   },
   "outputs": [
    {
     "name": "stderr",
     "output_type": "stream",
     "text": [
      "/tmp/ipykernel_134929/3936713244.py:46: RuntimeWarning: invalid value encountered in power\n",
      "  v1=(2*c1*(s*Pacholcyzk6(p))**(2/(p+4))*N_0**(2/(p+4))*B**((p+2)/(p+4)))\n"
     ]
    },
    {
     "data": {
      "text/plain": [
       "(array([1.88751615e+00, 2.79597335e+00, 1.61772480e+04, 4.99390559e+08]),\n",
       " array([[ 2.86753596e-02, -2.26402068e-01, -2.24342239e+03,\n",
       "         -8.98279249e+06],\n",
       "        [-2.26402068e-01,  2.10094732e+00,  1.65309443e+04,\n",
       "          9.00452652e+07],\n",
       "        [-2.24342239e+03,  1.65309443e+04,  1.80495151e+08,\n",
       "          6.36569976e+11],\n",
       "        [-8.98279249e+06,  9.00452652e+07,  6.36569976e+11,\n",
       "          4.07819308e+15]]))"
      ]
     },
     "execution_count": 13,
     "metadata": {},
     "output_type": "execute_result"
    }
   ],
   "source": [
    "#Frequency at wich we are observing the flux\n",
    "nu=wavelenghttofreq(1*u.cm).to(u.Hz).value\n",
    "#Select with wavelenght and peak we want to see\n",
    "x=x2_1\n",
    "y=y2_1\n",
    "alpha= curve_fit(lambda time, pf, B0f, N0f, speedf: FluxatT(time, nu, pf, B0f, N0f, d, r0, \n",
    "                                                        speedf, 1.), x-1*min(x), y, (p,B0,N0,speed), maxfev=5000)\n",
    "alpha"
   ]
  },
  {
   "cell_type": "code",
   "execution_count": 14,
   "id": "8e35c4f4-00a1-40de-8223-cf7d06c02276",
   "metadata": {},
   "outputs": [
    {
     "data": {
      "image/png": "[encoded data removed]",
      "text/plain": [
       "<Figure size 640x480 with 1 Axes>"
      ]
     },
     "metadata": {},
     "output_type": "display_data"
    }
   ],
   "source": [
    "plt.scatter(x-1*min(x), y)\n",
    "plt.plot(t, FluxatT(t,nu, alpha[0][0], alpha[0][1], alpha[0][2], d, r0, alpha[0][3]\n",
    "                         , 1.), c='red')\n",
    "\n",
    "plt.show()"
   ]
  },
  {
   "cell_type": "code",
   "execution_count": 15,
   "id": "881cad80-fe14-4334-8896-39817495ee4f",
   "metadata": {},
   "outputs": [
    {
     "name": "stdout",
     "output_type": "stream",
     "text": [
      "Values: \n",
      " p= 1.887516154980428 \n",
      " B0=2.795973349753106 G \n",
      " N0=16177.247975208491 1 / cm3 \n",
      " speed=0.01665787601170252c \n"
     ]
    }
   ],
   "source": [
    "print(f'Values: \\n p= {alpha[0][0]} \\n B0={alpha[0][1]*u.G} \\n N0={alpha[0][2]*1/u.cm**3} \\n speed={(alpha[0][3]*u.cm/u.s).si/(const.c)}c ')"
   ]
  },
  {
   "cell_type": "markdown",
   "id": "617866ef-a71c-4dff-90b1-189781967abf",
   "metadata": {},
   "source": [
    "A fast $\\chi^2$ to test the fit"
   ]
  },
  {
   "cell_type": "code",
   "execution_count": 16,
   "id": "31d4f322-9391-45cf-acc7-690ca6b0b0ae",
   "metadata": {},
   "outputs": [],
   "source": [
    "def calc_reduced_chi_square(fit, x, y, N, n_free):\n",
    "    '''\n",
    "    fit (array) values for the fit\n",
    "    x,y (arrays) data\n",
    "    N total number of points\n",
    "    n_free number of parameters we are fitting\n",
    "    '''\n",
    "    return 1.0/(N-n_free)*sum(((fit - y))**2)"
   ]
  },
  {
   "cell_type": "code",
   "execution_count": 17,
   "id": "95d1b14a-6ca2-4f76-82b9-6a489ead2228",
   "metadata": {},
   "outputs": [
    {
     "data": {
      "text/plain": [
       "6.985381273610246e-06"
      ]
     },
     "execution_count": 17,
     "metadata": {},
     "output_type": "execute_result"
    }
   ],
   "source": [
    "calc_reduced_chi_square(FluxatT(x-min(x),nu, alpha[0][0], alpha[0][1], alpha[0][2], d, r0, alpha[0][3]\n",
    "                         , 1.), x-min(x), y, x.size, 4)"
   ]
  },
  {
   "cell_type": "markdown",
   "id": "224438b3-6d6d-4cd9-abc1-5948e02cdf4b",
   "metadata": {},
   "source": [
    "To make it easier, lets make a function that given a set of peaks of a spectrum, with it's times gives the fit matrix"
   ]
  },
  {
   "cell_type": "code",
   "execution_count": 18,
   "id": "b083d5b3-86e7-45d0-afd9-932c3be4cecf",
   "metadata": {},
   "outputs": [],
   "source": [
    "def VanDerLaanFit(time, FluxDens, peaks, p_aprox, B0_aprox, offset_aprox, N0_aprox, speed_aprox, frequency, distance, r0, a):\n",
    "    \"\"\"\n",
    "    Parameters (Everything in cgs )\n",
    "    Data parameters\n",
    "    :time: Time values of the full data for a given frequency \n",
    "    :FluxDens: Flux density values for the ful data at a given frequency\n",
    "    :peaks: List of arrays range=(a_1, a_2, ...) where a[0] is the data point number of start and a[1] the end \n",
    "\n",
    "    Fit parameters\n",
    "    :p_aprox: Aproximate value for the exponent of the electron power law\n",
    "    :B0_aprox: Aproximate value for the initial magnetic field value\n",
    "    :offset_aprox: Aproximate value for the time offset\n",
    "    :N0_aprox: Aproximate value for the starting number density of electrons\n",
    "    :speed_aprox: Aproximate value for the expansion speed\n",
    "\n",
    "    Fixed parameters\n",
    "    :frequency: Frequency at which the spectrum is measured\n",
    "    :distance: Distance to the source\n",
    "    :r0: Initial radius of the object\n",
    "    :a: Exponent of the power law driving the expansion (1 is linear)\n",
    "\n",
    "    Output\n",
    "    :VanDerLaanFit: Array containing each coefficient matrix of each fit\n",
    "    \"\"\"\n",
    "    VanDerLaanFit=[]\n",
    "    #Repeat the code for each peak\n",
    "    for peak in peaks:\n",
    "        #Getting the time at flux for the points in the peak\n",
    "        peak_t=time[peak[0]:peak[1]]\n",
    "        #Choose the flux of the points in the time interval\n",
    "        peak_f= FluxDens[peak[0] : peak[1]]\n",
    "\n",
    "        #Normalicing the time\n",
    "        peak_t=peak_t - 1*min(peak_t)\n",
    "        #Starting the code for the fit\n",
    "        alpha= curve_fit(lambda time, p, B0, N0, speed, offset: FluxatT(time, frequency, p, B0, N0, distance, r0, speed, a, offset), \n",
    "                         peak_t, peak_f, (p_aprox, B0_aprox, N0_aprox, speed_aprox, offset_aprox), maxfev=5000)\n",
    "        #Im not using the covariance matrix, so use alpha[0]\n",
    "        VanDerLaanFit.append(alpha[0])\n",
    "\n",
    "    return VanDerLaanFit"
   ]
  },
  {
   "cell_type": "markdown",
   "id": "d909d43c-4265-4c64-9d61-0be9833683e7",
   "metadata": {},
   "source": [
    "For simplicity lets make a quick interactive function to find the ranges."
   ]
  },
  {
   "cell_type": "code",
   "execution_count": 19,
   "id": "4bc53537-ed9f-4fd4-86c3-bca005be7f19",
   "metadata": {},
   "outputs": [],
   "source": [
    "def SearchPeaks(data_x, data_y, range_start, range_end):\n",
    "    plt.scatter(data_x[range_start:range_end],data_y[range_start:range_end])"
   ]
  },
  {
   "cell_type": "code",
   "execution_count": 20,
   "id": "06981820-eddc-4c88-a01f-7925382a068d",
   "metadata": {},
   "outputs": [
    {
     "data": {
      "application/vnd.jupyter.widget-view+json": {
       "model_id": "17ce48c9f785479d8ce4f5186681369c",
       "version_major": 2,
       "version_minor": 0
      },
      "text/plain": [
       "interactive(children=(IntSlider(value=0, description='range_start', max=137), IntSlider(value=0, description='…"
      ]
     },
     "metadata": {},
     "output_type": "display_data"
    },
    {
     "data": {
      "text/plain": [
       "<function __main__.SearchPeaks(data_x, data_y, range_start, range_end)>"
      ]
     },
     "execution_count": 20,
     "metadata": {},
     "output_type": "execute_result"
    }
   ],
   "source": [
    "data_x=cm3['UT time (hours)'].to(u.s).value\n",
    "data_y=cm3['Flux density (mJy)'].to(u.Jy).value\n",
    "interact(SearchPeaks, data_x=fixed(data_x), data_y= fixed(data_y),\n",
    "        range_start=widget.IntSlider(min=0, max= data_x.size, step=1), \n",
    "         range_end=widget.IntSlider(min=0, max= data_x.size, step=1))"
   ]
  },
  {
   "cell_type": "code",
   "execution_count": 21,
   "id": "a0674ff6-43e7-4970-a479-bf09c5ef5cc4",
   "metadata": {},
   "outputs": [
    {
     "name": "stderr",
     "output_type": "stream",
     "text": [
      "/tmp/ipykernel_134929/3936713244.py:46: RuntimeWarning: invalid value encountered in power\n",
      "  v1=(2*c1*(s*Pacholcyzk6(p))**(2/(p+4))*N_0**(2/(p+4))*B**((p+2)/(p+4)))\n",
      "/tmp/ipykernel_134929/2717573091.py:14: RuntimeWarning: invalid value encountered in power\n",
      "  S=(Pacholcyzk5(p)/Pacholcyzk6(p)*B**(-1/2)*(frequency/(2*c1))**(5/2))\n",
      "/tmp/ipykernel_134929/2881901038.py:48: RuntimeWarning: invalid value encountered in power\n",
      "  Nr=N0*((r/r0)**(-(2+p)))\n"
     ]
    },
    {
     "data": {
      "text/plain": [
       "[array([1.05176497e+00, 2.15439722e+01, 7.66784506e+06, 1.86318385e+09,\n",
       "        2.86433477e+02]),\n",
       " array([3.29226474e+00, 4.96961278e-01, 1.40099044e+02, 5.03761730e+08,\n",
       "        3.16718889e+03]),\n",
       " array([1.88751345e+00, 3.62765748e+00, 8.51533014e+04, 9.29282629e+08,\n",
       "        9.26337988e+02])]"
      ]
     },
     "execution_count": 21,
     "metadata": {},
     "output_type": "execute_result"
    }
   ],
   "source": [
    "time=cm2['UT time (hours)'].to(u.s).value\n",
    "FluxDens= cm2['Flux density (mJy)'].to(u.Jy).value\n",
    "peaks= [[5,27], [27,53], [72,98]]\n",
    "frequency= wavelenghttofreq(2*u.cm).to(u.Hz).value\n",
    "cm2_fit=VanDerLaanFit(time, FluxDens, peaks, p, B0,1800, N0, speed, frequency, d, r0, 1.) #Half hour offset\n",
    "cm2_fit"
   ]
  },
  {
   "cell_type": "code",
   "execution_count": 22,
   "id": "a39e5cdb-3303-45c1-8088-e247c32866f3",
   "metadata": {},
   "outputs": [
    {
     "name": "stderr",
     "output_type": "stream",
     "text": [
      "/tmp/ipykernel_134929/3936713244.py:46: RuntimeWarning: invalid value encountered in power\n",
      "  v1=(2*c1*(s*Pacholcyzk6(p))**(2/(p+4))*N_0**(2/(p+4))*B**((p+2)/(p+4)))\n",
      "/tmp/ipykernel_134929/2881901038.py:48: RuntimeWarning: invalid value encountered in power\n",
      "  Nr=N0*((r/r0)**(-(2+p)))\n",
      "/tmp/ipykernel_134929/2717573091.py:14: RuntimeWarning: invalid value encountered in power\n",
      "  S=(Pacholcyzk5(p)/Pacholcyzk6(p)*B**(-1/2)*(frequency/(2*c1))**(5/2))\n"
     ]
    },
    {
     "data": {
      "text/plain": [
       "[array([9.59152919e-01, 2.83680484e+01, 1.87116623e+07, 2.20119200e+09,\n",
       "        5.29063098e+02]),\n",
       " array([3.63019511e+00, 7.53462913e-01, 1.53618758e+02, 6.68395222e+08,\n",
       "        6.03773878e+03]),\n",
       " array([1.93192454e+00, 5.23838862e+00, 1.89097983e+05, 1.20968410e+09,\n",
       "        2.46643320e+03])]"
      ]
     },
     "execution_count": 22,
     "metadata": {},
     "output_type": "execute_result"
    }
   ],
   "source": [
    "time=cm3['UT time (hours)'].to(u.s).value\n",
    "FluxDens= cm3['Flux density (mJy)'].to(u.Jy).value\n",
    "peaks= [[14,39], [39,78], [103, 137]] \n",
    "frequency= wavelenghttofreq(3.6*u.cm).to(u.Hz).value\n",
    "cm3_fit=VanDerLaanFit(time, FluxDens, peaks, p, B0, 1800, N0, speed, frequency, d, r0, 1.)\n",
    "cm3_fit"
   ]
  },
  {
   "cell_type": "code",
   "execution_count": 23,
   "id": "b094239b-ea66-434d-88e9-d3672a6f9677",
   "metadata": {},
   "outputs": [
    {
     "name": "stderr",
     "output_type": "stream",
     "text": [
      "/tmp/ipykernel_134929/3936713244.py:46: RuntimeWarning: invalid value encountered in power\n",
      "  v1=(2*c1*(s*Pacholcyzk6(p))**(2/(p+4))*N_0**(2/(p+4))*B**((p+2)/(p+4)))\n",
      "/tmp/ipykernel_134929/2717573091.py:14: RuntimeWarning: invalid value encountered in power\n",
      "  S=(Pacholcyzk5(p)/Pacholcyzk6(p)*B**(-1/2)*(frequency/(2*c1))**(5/2))\n",
      "/tmp/ipykernel_134929/2881901038.py:48: RuntimeWarning: invalid value encountered in power\n",
      "  Nr=N0*((r/r0)**(-(2+p)))\n"
     ]
    },
    {
     "data": {
      "text/plain": [
       "[array([5.50930199e-01, 3.89681794e+01, 7.24659711e+07, 1.60406157e+09,\n",
       "        4.64611772e+02]),\n",
       " array([2.95982623e+00, 2.25035713e+00, 6.20617385e+03, 9.04250740e+08,\n",
       "        8.58846515e+03]),\n",
       " array([2.58776578e+00, 2.83131822e+00, 1.78663730e+04, 1.08985682e+09,\n",
       "        5.56204108e+03])]"
      ]
     },
     "execution_count": 23,
     "metadata": {},
     "output_type": "execute_result"
    }
   ],
   "source": [
    "time=cm6['UT time (hours)'].to(u.s).value\n",
    "FluxDens= cm6['Flux density (mJy)'].to(u.Jy).value\n",
    "peaks= [[11,30], [30,48], [65,86]] \n",
    "frequency= wavelenghttofreq(6*u.cm).to(u.Hz).value\n",
    "cm6_fit=VanDerLaanFit(time, FluxDens, peaks, p, B0, 1800, N0, speed, frequency, d, r0, 1.)\n",
    "cm6_fit"
   ]
  },
  {
   "cell_type": "markdown",
   "id": "b5eb8a44-3bc2-4455-80bb-863ac871a1ac",
   "metadata": {},
   "source": [
    "Now we will make the mean of the values for each outburst and get a final valu with a std"
   ]
  },
  {
   "cell_type": "code",
   "execution_count": 24,
   "id": "6c545773-7297-4f0a-b3bb-a9739e2d087a",
   "metadata": {},
   "outputs": [],
   "source": [
    "def Outburststats(peaks_number, spectrum_fit):\n",
    "    \"\"\"\n",
    "    Returns the mean and the standard deviation for each peak and paramenter promediating in all filters\n",
    "    \n",
    "    Parameters\n",
    "    :peaks_number: number of peaks that are being consider, peaks must coincide for every wavelenght, and the fit \n",
    "    parameters must be same same too\n",
    "    :spectrum: Array with the fit parameters for each wavelenght in each element of the array\n",
    "\n",
    "    Output\n",
    "    :mean: array of array containing the means, mean[0] is first peak\n",
    "    :std: array of array containing the std\n",
    "    \"\"\"\n",
    "    #Initialicing\n",
    "    mean=[]\n",
    "    std=[]\n",
    "    parameter_number= len(spectrum_fit[0][0])\n",
    "    #Loop over peaks\n",
    "    for i in np.arange(0, peaks_number):\n",
    "        alpha=np.zeros(parameter_number)\n",
    "        beta=np.zeros(parameter_number)\n",
    "        #Loop over fit parameter\n",
    "        for j in np.arange(0, parameter_number):\n",
    "            #Getting all wavelenghts on a single list se we can make mean and std\n",
    "            aux=[]\n",
    "            for spec in spectrum_fit:\n",
    "                aux.append(spec[i][j])\n",
    "            alpha[j]=np.mean(aux)\n",
    "            beta[j] = np.std(aux)\n",
    "        #Appending each peak as a list entry\n",
    "        mean.append(alpha)\n",
    "        std.append(beta)\n",
    "    return (mean, std)"
   ]
  },
  {
   "cell_type": "markdown",
   "id": "2d5e47ce-4f0f-4458-927d-ddea1b7e4bfc",
   "metadata": {},
   "source": [
    "We can plot the relative std to the mean value and have a first idea of the fit."
   ]
  },
  {
   "cell_type": "code",
   "execution_count": 25,
   "id": "50365c3d-372e-4271-b58b-cbf6c02be3a9",
   "metadata": {},
   "outputs": [
    {
     "data": {
      "text/plain": [
       "array([[0.25478926, 0.24197289, 0.85905213, 0.12939309, 0.24048617],\n",
       "       [0.08308199, 0.66261577, 1.31835757, 0.23746565, 0.37337064],\n",
       "       [0.14990071, 0.25678982, 0.72337595, 0.10673448, 0.64581091]])"
      ]
     },
     "execution_count": 25,
     "metadata": {},
     "output_type": "execute_result"
    }
   ],
   "source": [
    "data=Outburststats(len(peaks), ([cm2_fit, cm3_fit, cm6_fit]))\n",
    "np.array(data[1])/np.array(data[0])"
   ]
  },
  {
   "cell_type": "markdown",
   "id": "32301e32-afd9-4982-9db4-3519eace7655",
   "metadata": {},
   "source": [
    "Now we will be focusing on the first outburst and fitting the flux density over frequency. We have 3 frequencies, and considering a power law\n",
    "$$\n",
    "    S= S_0 \\left( \\frac{\\nu}{\\nu_0} \\right)^{\\alpha},\n",
    "$$\n",
    "we can get the alpha describing the optically thin region. Later, we will make this fit for a number of times and plot how the slope of the optically thin region evolves with time. Since we do not have the original data, time values will not coincide for the 3 wavelenghts, we have to handle this first. We will make a function that for each point in the wavelenght with fewer points select the nearest point with higher time value and assuming they both occur at a promediated time. At the end we will have an array of arrays where each sub array contains the time in $[0]$ and the flux in each wavelenght in the rest of index."
   ]
  },
  {
   "cell_type": "code",
   "execution_count": 106,
   "id": "d91ecd8f-5ee4-4834-896c-42e7be6febb8",
   "metadata": {},
   "outputs": [],
   "source": [
    "def TimeFluxRedef(data):\n",
    "    \"\"\"\n",
    "    Gives a list of array where each array have the time and flux densities for different wavelenghts. for each \n",
    "    point in the wavelenght with fewer points select the nearest point with higher time value and assuming they both \n",
    "    occur at a promediated time.\n",
    "    \n",
    "\n",
    "    Parameters\n",
    "    :data: List with the different data for each wavelength, must have ['UT time (hours)'] and ['Flux density (mJy)']\n",
    "\n",
    "    Output\n",
    "    :TimeFluxRedef: List of arrays with the time array[last] and flux densities for each wavelenght in first entries\n",
    "    \"\"\"\n",
    "    #Finding the wavelenght with fewer points\n",
    "    aux=[]\n",
    "    TimeFluxRedef=[]\n",
    "    for wavelenght in data:\n",
    "        aux.append(len(wavelenght['UT time (hours)'].value))\n",
    "        minimun= np.argmin(np.array(aux))\n",
    "\n",
    "    \n",
    "    #Associate each point in this wavelenght to one in the others\n",
    "    #Loop over all times in the wavelenght with fewer points\n",
    "    for points in data[minimun]:\n",
    "        time= points['UT time (hours)'].to(u.s).value\n",
    "        #Initialize the vector containing each point info, a flux for everywavelenght len(data) and one for time\n",
    "        point= np.zeros(len(data))\n",
    "        #Giving the first value\n",
    "        point[minimun]= points['Flux density (mJy)'].to(u.Jy).value\n",
    "        #New index range of data without the minimun so we have them in the same order that they entered\n",
    "        NewRange= list(np.arange(0, len(data)))\n",
    "        NewRange.pop(minimun)\n",
    "        mean= time\n",
    "        #Loop over the others wavelenghts to assign a value\n",
    "        for i in NewRange:\n",
    "            #Check the time in the other wavelenghts\n",
    "            for points2 in data[i]:\n",
    "                time2= points2['UT time (hours)'].to(u.s).value\n",
    "                if time2 >= time:\n",
    "                    point[i]= points2['Flux density (mJy)'].to(u.Jy).value\n",
    "                    mean= mean+time2\n",
    "                    break\n",
    "        mean= mean/len(data)\n",
    "        point= list(point)\n",
    "        point.append(mean)\n",
    "        TimeFluxRedef.append(point)\n",
    "    return TimeFluxRedef"
   ]
  },
  {
   "cell_type": "code",
   "execution_count": 107,
   "id": "66c781df-560b-4bb2-8567-aff2a8fab42e",
   "metadata": {},
   "outputs": [
    {
     "data": {
      "text/plain": [
       "[[0.0055194309233457806,\n",
       "  0.016555216155913086,\n",
       "  0.022216213807071526,\n",
       "  21667.892265921222],\n",
       " [0.0055194309233457806,\n",
       "  0.012535654028712259,\n",
       "  0.01899326163056412,\n",
       "  21914.5013832924],\n",
       " [0.0055194309233457806,\n",
       "  0.016555216155913086,\n",
       "  0.020903476947167605,\n",
       "  21701.49903105778],\n",
       " [0.0055194309233457806,\n",
       "  0.012535654028712259,\n",
       "  0.016878262739432926,\n",
       "  21994.043817675276],\n",
       " [0.0055194309233457806,\n",
       "  0.010776649742194536,\n",
       "  0.014665306972783057,\n",
       "  22236.607742153865],\n",
       " [0.0055194309233457806,\n",
       "  0.008972422355574793,\n",
       "  0.012979716901448881,\n",
       "  22505.008298403965],\n",
       " [0.0040934063144176065,\n",
       "  0.0073615309847018156,\n",
       "  0.011193868741815593,\n",
       "  23171.762756348104],\n",
       " [0.0040934063144176065,\n",
       "  0.006068156332384845,\n",
       "  0.009623312528257785,\n",
       "  23469.39472410556],\n",
       " [0.001371850347937766,\n",
       "  0.004732883390670025,\n",
       "  0.0077296692204200075,\n",
       "  24414.70613672851],\n",
       " [0.001371850347937766,\n",
       "  0.005646151979974192,\n",
       "  0.006050074336800648,\n",
       "  24705.07168887608],\n",
       " [0.001371850347937766,\n",
       "  0.002684973942894388,\n",
       "  0.0053221725287933876,\n",
       "  25403.792928817056],\n",
       " [0.008920775141690455,\n",
       "  0.00303719550522149,\n",
       "  0.0036797659926578775,\n",
       "  26267.932489547555],\n",
       " [0.007170567487054598,\n",
       "  0.00688361570610725,\n",
       "  0.005688797051338554,\n",
       "  26496.53924820339],\n",
       " [0.020702591534335086,\n",
       "  0.011770453116901749,\n",
       "  0.0027446158596429486,\n",
       "  26957.659541167424],\n",
       " [0.03609915033688785,\n",
       "  0.019370007136319457,\n",
       "  0.007583802174874165,\n",
       "  27225.848597740554],\n",
       " [0.077922595157077,\n",
       "  0.027465048575808042,\n",
       "  0.01046292537945233,\n",
       "  27750.479856701768],\n",
       " [0.077922595157077,\n",
       "  0.03324088392447402,\n",
       "  0.011726453690327845,\n",
       "  27823.72842401134],\n",
       " [0.077922595157077,\n",
       "  0.04049724356783012,\n",
       "  0.014294658315229981,\n",
       "  27925.22355406231],\n",
       " [0.077922595157077,\n",
       "  0.0443917272256101,\n",
       "  0.015510404375682327,\n",
       "  28030.290116676446],\n",
       " [0.077922595157077,\n",
       "  0.057664946885065314,\n",
       "  0.020255037521559372,\n",
       "  28142.436690795443],\n",
       " [0.077922595157077,\n",
       "  0.05996643967059592,\n",
       "  0.025133885846440534,\n",
       "  28310.614641599434],\n",
       " [0.07026589485192532,\n",
       "  0.05996643967059592,\n",
       "  0.028016845284699273,\n",
       "  28493.24985526635],\n",
       " [0.07026589485192532,\n",
       "  0.06257894838014055,\n",
       "  0.0301523352043198,\n",
       "  28575.979753584525],\n",
       " [0.0668828777168819,\n",
       "  0.06078179151549905,\n",
       "  0.03221466881885246,\n",
       "  28959.367495895294],\n",
       " [0.0668828777168819,\n",
       "  0.06078179151549905,\n",
       "  0.03410161263369693,\n",
       "  29000.971051531214],\n",
       " [0.06337392344761422,\n",
       "  0.06078179151549905,\n",
       "  0.03559326169182758,\n",
       "  29167.790174859663],\n",
       " [0.04591750015622186,\n",
       "  0.05303064445413676,\n",
       "  0.037211880947917476,\n",
       "  29741.677849425996],\n",
       " [0.03767373034514616,\n",
       "  0.049194060628783794,\n",
       "  0.04060241893318642,\n",
       "  29900.01666793744],\n",
       " [0.0395279054246005,\n",
       "  0.039854658535778485,\n",
       "  0.038288197469328454,\n",
       "  30867.079768067546],\n",
       " [0.054344612551415365,\n",
       "  0.04627953512051138,\n",
       "  0.03653883703642755,\n",
       "  31271.90863578464],\n",
       " [0.07179584635872198,\n",
       "  0.061136189598881244,\n",
       "  0.04022113823165169,\n",
       "  32183.7022457211],\n",
       " [0.06523832650179373,\n",
       "  0.05834771480242793,\n",
       "  0.03816638899309932,\n",
       "  31908.284595861147],\n",
       " [0.06523832650179373,\n",
       "  0.05834771480242793,\n",
       "  0.036990505386897216,\n",
       "  31934.660989840962],\n",
       " [0.07399067079827532,\n",
       "  0.06697506699160813,\n",
       "  0.04287718808418699,\n",
       "  32521.695957343585],\n",
       " [0.07179584635872198,\n",
       "  0.061136189598881244,\n",
       "  0.04168063473859489,\n",
       "  32213.911365141917],\n",
       " [0.06957077125811896,\n",
       "  0.06697506699160813,\n",
       "  0.046941709030358506,\n",
       "  32700.78510068436],\n",
       " [0.05350028140355433,\n",
       "  0.06646631877182256,\n",
       "  0.050026176732620185,\n",
       "  33326.34789808807],\n",
       " [0.0417044503012325,\n",
       "  0.060886077821884495,\n",
       "  0.048672676777502796,\n",
       "  33637.2514415839],\n",
       " [0.030181463173913528,\n",
       "  0.043469198857558754,\n",
       "  0.04930929722219159,\n",
       "  34368.91891167577],\n",
       " [0.03176152972442466,\n",
       "  0.043469198857558754,\n",
       "  0.048252263379023635,\n",
       "  34300.8955798331],\n",
       " [0.030181463173913528,\n",
       "  0.043469198857558754,\n",
       "  0.04447007366845154,\n",
       "  34385.11494306688],\n",
       " [0.028558479223543244,\n",
       "  0.03678413585420273,\n",
       "  0.0415361472565604,\n",
       "  34624.76530584239],\n",
       " [0.020818841458707795,\n",
       "  0.034995375833030085,\n",
       "  0.03963640569169416,\n",
       "  34952.742256879115],\n",
       " [0.020818841458707795,\n",
       "  0.03320106524927495,\n",
       "  0.03771525491589891,\n",
       "  35150.42147885344],\n",
       " [0.017966489906230124,\n",
       "  0.025485702943219807,\n",
       "  0.035578247041568846,\n",
       "  35515.18852967245],\n",
       " [0.015452456831568711,\n",
       "  0.024017095354857205,\n",
       "  0.031066576241780015,\n",
       "  35840.52304021592],\n",
       " [0.03123328518024327,\n",
       "  0.024017095354857205,\n",
       "  0.029008297034725388,\n",
       "  38735.15372423782],\n",
       " [0.03123328518024327,\n",
       "  0.02229445041583122,\n",
       "  0.027406277913170043,\n",
       "  38892.93540058501],\n",
       " [0.040303656221594535,\n",
       "  0.040649799088795374,\n",
       "  0.03650957077811288,\n",
       "  44852.248703517136],\n",
       " [0.03123328518024327,\n",
       "  0.040649799088795374,\n",
       "  0.0345087237727424,\n",
       "  44298.47153803557],\n",
       " [0.040303656221594535,\n",
       "  0.044741721987583125,\n",
       "  0.038545833567447334,\n",
       "  45836.39476857853],\n",
       " [0.04253685418468244,\n",
       "  0.044741721987583125,\n",
       "  0.03642082667015838,\n",
       "  46177.49752325561],\n",
       " [0.04349630250432825,\n",
       "  0.048744852308155506,\n",
       "  0.039378333029891605,\n",
       "  46900.56671133227],\n",
       " [0.0359998290749093,\n",
       "  0.040704302635136344,\n",
       "  0.03679791623016442,\n",
       "  47930.15377957225],\n",
       " [0.02974895249671117,\n",
       "  0.03614582115721801,\n",
       "  0.03501121629174297,\n",
       "  48162.71623633851],\n",
       " [0.024705187038259382,\n",
       "  0.035350498712275455,\n",
       "  0.033450053115431415,\n",
       "  48564.23271303059],\n",
       " [0.019511101004750515,\n",
       "  0.028809567688173814,\n",
       "  0.031908303625535296,\n",
       "  48846.83975766061],\n",
       " [0.014396151343776581,\n",
       "  0.02292895213729878,\n",
       "  0.030011182520606156,\n",
       "  49334.88917958583],\n",
       " [0.01619319877846553,\n",
       "  0.02292895213729878,\n",
       "  0.027897034896024537,\n",
       "  49495.535922005285],\n",
       " [0.01619319877846553,\n",
       "  0.021057125738378035,\n",
       "  0.0262484160800218,\n",
       "  49572.157552412864],\n",
       " [0.011799510697390119,\n",
       "  0.016753159012714618,\n",
       "  0.024684123646277513,\n",
       "  50001.003866824845],\n",
       " [0.011799510697390119,\n",
       "  0.019837877389302493,\n",
       "  0.023323445408731516,\n",
       "  49807.04081780917],\n",
       " [0.025061819351870965,\n",
       "  0.020807782780660276,\n",
       "  0.01982797156135149,\n",
       "  50908.92866359786],\n",
       " [0.02315582854559287,\n",
       "  0.020807782780660276,\n",
       "  0.017616485017515643,\n",
       "  51117.88215755182],\n",
       " [0.05197847512239128,\n",
       "  0.03699641495578992,\n",
       "  0.02101588750030851,\n",
       "  51785.36646183956],\n",
       " [0.05197847512239128,\n",
       "  0.04023958263381543,\n",
       "  0.019261355491106386,\n",
       "  51851.10047450447],\n",
       " [0.05441996415965627,\n",
       "  0.042330569125414906,\n",
       "  0.023986579623523654,\n",
       "  52089.81594549562],\n",
       " [0.06272398906079421,\n",
       "  0.04832788385985789,\n",
       "  0.025838895619119014,\n",
       "  52376.28668894436],\n",
       " [0.06272398906079421,\n",
       "  0.04832788385985789,\n",
       "  0.027276883681143574,\n",
       "  52414.46304865198],\n",
       " [0.04329438871965869,\n",
       "  0.05021018215556056,\n",
       "  0.0311426323934291,\n",
       "  52972.58995303715],\n",
       " [0.04329438871965869,\n",
       "  0.0487771753055732,\n",
       "  0.03328142356707799,\n",
       "  53302.208680418844],\n",
       " [0.04329438871965869,\n",
       "  0.0487771753055732,\n",
       "  0.03497595023585562,\n",
       "  53266.052968437165],\n",
       " [0.03115429573348921,\n",
       "  0.04476625166789806,\n",
       "  0.03715727834569019,\n",
       "  53912.9206617254],\n",
       " [0.03115429573348921,\n",
       "  0.03562083616239302,\n",
       "  0.03915332723149139,\n",
       "  54015.748686597886],\n",
       " [0.020235833753238196,\n",
       "  0.03155652382475218,\n",
       "  0.03518413912179636,\n",
       "  54641.53305086837],\n",
       " [0.01760481698937639,\n",
       "  0.024776738121692406,\n",
       "  0.03341965791504117,\n",
       "  54938.575950292296],\n",
       " [0.020235833753238196,\n",
       "  0.03155652382475218,\n",
       "  0.0377741142220703,\n",
       "  54633.89777892685],\n",
       " [0.015180916362069412,\n",
       "  0.0226346851542864,\n",
       "  0.029933542501355874,\n",
       "  55312.801371746114],\n",
       " [0.015180916362069412,\n",
       "  0.0226346851542864,\n",
       "  0.02654980203207235,\n",
       "  55397.08164039236],\n",
       " [0.010689154467701712,\n",
       "  0.0207818824727442,\n",
       "  0.02486575002507428,\n",
       "  55840.88906708314],\n",
       " [0.010689154467701712,\n",
       "  0.017666376277802882,\n",
       "  0.0234504207697878,\n",
       "  55974.18331931464],\n",
       " [0.010689154467701712,\n",
       "  0.01572917384597996,\n",
       "  0.022093212462250777,\n",
       "  56036.66208704722],\n",
       " [0.009179366584696112,\n",
       "  0.01346631672970679,\n",
       "  0.019188541096150587,\n",
       "  56638.59737718577],\n",
       " [0.009179366584696112,\n",
       "  0.01346631672970679,\n",
       "  0.020713336568044725,\n",
       "  56570.13233539607],\n",
       " [0.009179366584696112,\n",
       "  0.01223413938156503,\n",
       "  0.016502015261956472,\n",
       "  56899.743659702544],\n",
       " [0.0, 0.01223413938156503, 0.014496322353693657, 38085.824637154205]]"
      ]
     },
     "execution_count": 107,
     "metadata": {},
     "output_type": "execute_result"
    }
   ],
   "source": [
    "TimeFluxRedef([cm2, cm3, cm6])"
   ]
  },
  {
   "cell_type": "code",
   "execution_count": null,
   "id": "edcbd278-ff9c-4685-9587-d6febf19dc9a",
   "metadata": {},
   "outputs": [],
   "source": []
  }
 ],
 "metadata": {
  "kernelspec": {
   "display_name": "Python 3 (ipykernel)",
   "language": "python",
   "name": "python3"
  },
  "language_info": {
   "codemirror_mode": {
    "name": "ipython",
    "version": 3
   },
   "file_extension": ".py",
   "mimetype": "text/x-python",
   "name": "python",
   "nbconvert_exporter": "python",
   "pygments_lexer": "ipython3",
   "version": "3.11.7"
  }
 },
 "nbformat": 4,
 "nbformat_minor": 5
}
