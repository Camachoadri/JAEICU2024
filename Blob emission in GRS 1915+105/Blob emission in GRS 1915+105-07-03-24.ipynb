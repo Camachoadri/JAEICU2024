{
 "cells": [
  {
   "cell_type": "markdown",
   "id": "010506a2-de56-424f-b057-a10cbeceacea",
   "metadata": {},
   "source": [
    "In this project we will recreate the analysis made by Mirabel et.al in 'Accretion instabilities and jet formation in GRS 1915+105'. This object emits a X-ray oscillating flux and the ejection of plasma clouds with very high energy partciles. data were collected by VLA on May 15 1997. The emission observed is consisten with a synchrotron emission from an adiabatically expanding blob, i.e., can be described with a van deer Laan model."
   ]
  },
  {
   "cell_type": "markdown",
   "id": "d645a8c7-cfce-4951-968f-13b39e05cf59",
   "metadata": {},
   "source": [
    "One of the easiest models to study the evolution of an expanding glob was proposed by van der laan, it consider that\n",
    "$$\n",
    "    N_0 \\propto R^{-(2+p)}~~~~~~~~~~B\\propto R^{-2}\n",
    "$$"
   ]
  },
  {
   "cell_type": "markdown",
   "id": "85a74bbb-e417-483d-89f8-5ce6747a2c78",
   "metadata": {},
   "source": [
    "In this code we will calculate Brightness temperature, magnetic field, and the parameters of the power law describing the relativistic electron population. We assume a constant expansion of $0.2c$"
   ]
  },
  {
   "cell_type": "markdown",
   "id": "05f58c2c-7b67-4c2c-976a-f456dd9589ec",
   "metadata": {},
   "source": [
    "# 1. Introduction."
   ]
  },
  {
   "cell_type": "markdown",
   "id": "064ff1cb-9a78-4e40-9ff9-a359452dfc64",
   "metadata": {},
   "source": [
    "Some usefull libraries."
   ]
  },
  {
   "cell_type": "code",
   "execution_count": 2,
   "id": "950b642d-195a-4012-bf05-40e6a2f4152a",
   "metadata": {},
   "outputs": [],
   "source": [
    "import numpy as np\n",
    "import matplotlib.pyplot as plt\n",
    "import scipy\n",
    "\n",
    "#gamma function\n",
    "from scipy import special\n",
    "\n",
    "#Fitting the spectrum\n",
    "from astropy.modeling import models, fitting\n",
    "from astropy.modeling.models import custom_model\n",
    "#Make a custom user model with units implementation\n",
    "from astropy.modeling.core import Fittable1DModel, Parameter\n",
    "\n",
    "from scipy.optimize import curve_fit\n",
    "\n",
    "#Packages to make an interactive plot\n",
    "from ipywidgets import interact, interactive, fixed, interact_manual\n",
    "import ipywidgets as widget\n",
    "\n",
    "#Packages for using tables and units in astropy\n",
    "from astropy.table import QTable\n",
    "import astropy.units as u\n",
    "from astropy.io import ascii\n",
    "\n",
    "#Astropy module to handle units\n",
    "from astropy import units as u\n",
    "from astropy.units import Quantity\n",
    "from astropy import constants as const\n",
    "\n",
    "#Importing the constant that will be needed\n",
    "from astropy.constants import c, k_B,m_e,e\n",
    "\n",
    "#Packages to make an interactive plot\n",
    "from ipywidgets import interact, interactive, fixed, interact_manual\n",
    "import ipywidgets as widget"
   ]
  },
  {
   "cell_type": "markdown",
   "id": "28b7725c-58b8-4209-a7cc-397f50355914",
   "metadata": {},
   "source": [
    "Some functions that will be needed. Power law for the expanding radius and the expresions for magnetic field an dnumber density as a function of r."
   ]
  },
  {
   "cell_type": "code",
   "execution_count": 3,
   "id": "3928c5cd-ed07-45a9-afd5-075187e9bab5",
   "metadata": {},
   "outputs": [],
   "source": [
    "def PLradius(time, speed, r0, a):\n",
    "    \"\"\"\n",
    "    PLradius gives the radius after a given t of an expanding object with initial radius and a given speed driven by a power law\n",
    "\n",
    "    Parameters\n",
    "    :t: time of the expansion\n",
    "    :v: speed of the expansion\n",
    "    :r0: initial radius\n",
    "    :a: parameter of the power law\n",
    "\n",
    "    Output\n",
    "    :r: radius at the end of the expansion\n",
    "    \"\"\"\n",
    "    \n",
    "    r=r0 + (speed*(time**a))\n",
    "    return r\n",
    "\n",
    "def Br(r, B0, r0):\n",
    "    \"\"\"\n",
    "    Br returns the value of the magnetic field at a given r known the value B0 at r0\n",
    "\n",
    "    Parameters\n",
    "    :r: radius at which the magnetic field will be calculated\n",
    "    :B0: magnetic field at a starting radius\n",
    "    :r0: radius at starting\n",
    "\n",
    "    Output\n",
    "    :Br: Magentic field at a radius r of the object\n",
    "    \"\"\"\n",
    "    \n",
    "    Br=B0*((r/r0)**(-2))\n",
    "    return Br\n",
    "\n",
    "def Nr(r, N0, r0, p):\n",
    "    \"\"\"\n",
    "    Nr returns the value of the electron density at a given r known the value N0 at r0\n",
    "\n",
    "    Parameters\n",
    "    :r: radius at which the magnetic field will be calculated\n",
    "    :N0: electron density at a starting radius\n",
    "    :r0: radius at starting\n",
    "    :p: exponent of the power law\n",
    "\n",
    "    Output\n",
    "    :Nr: electron density at a radius r of the object\n",
    "    \"\"\"\n",
    "    \n",
    "    Nr=N0*((r/r0)**(-(2+p)))\n",
    "    return Nr"
   ]
  },
  {
   "cell_type": "markdown",
   "id": "51d4c61d-951d-4a89-8a6b-629204406a41",
   "metadata": {},
   "source": [
    "Let's read the data points and save it on a python table."
   ]
  },
  {
   "cell_type": "code",
   "execution_count": 4,
   "id": "2416c913-4c01-454c-bf0e-8cd1be4292a5",
   "metadata": {},
   "outputs": [],
   "source": [
    "#Defining variables to save time and flux values of each point\n",
    "time=[]\n",
    "flux=[]\n",
    "#Saving the table in a list where each element is a 2D array with the coordinates of the points\n",
    "with open('Data/2cm.csv', 'r') as f:\n",
    "    l = [[float(num.replace(',', '.')) for num in line.split()] for line in f]\n",
    "#Saving time and flux of each point individually\n",
    "for value in l:\n",
    "    time.append(value[0])\n",
    "    flux.append(value[1])\n",
    "#Making a table out of the previus values\n",
    "cm2= QTable([time*u.hour,flux*u.mJy],names=['UT time (hours)', 'Flux density (mJy)'], meta={'name': 'Light curves of GRS 1915+105 for May 15, 1997 obtained with the VLA at 2 cm'})\n",
    "\n",
    "#Repeat for 3.6cm wavelenght\n",
    "time=[] #Cleaning the list\n",
    "flux=[]\n",
    "with open('Data/3.6cm.csv', 'r') as f:\n",
    "    l = [[float(num.replace(',', '.')) for num in line.split()] for line in f]\n",
    "for value in l:\n",
    "    time.append(value[0])\n",
    "    flux.append(value[1])\n",
    "cm3= QTable([time*u.hour,flux*u.mJy],names=['UT time (hours)', 'Flux density (mJy)'], meta={'name': 'Light curves of GRS 1915+105 for May 15, 1997 obtained with the VLA at 3.6 cm'})\n",
    "\n",
    "#Repeat for 6cm wavelength\n",
    "time=[]\n",
    "flux=[]\n",
    "with open('Data/6cm.csv', 'r') as f:\n",
    "    l = [[float(num.replace(',', '.')) for num in line.split()] for line in f]\n",
    "for value in l:\n",
    "    time.append(value[0])\n",
    "    flux.append(value[1])\n",
    "cm6= QTable([time*u.hour,flux*u.mJy],names=['UT time (hours)', 'Flux density (mJy)'], meta={'name': 'Light curves of GRS 1915+105 for May 15, 1997 obtained with the VLA at 6 cm'})"
   ]
  },
  {
   "cell_type": "code",
   "execution_count": 5,
   "id": "6adc500e-04aa-4e7d-bf5b-20da061ddc00",
   "metadata": {},
   "outputs": [
    {
     "data": {
      "text/plain": [
       "<matplotlib.collections.PathCollection at 0x7f13c03462d0>"
      ]
     },
     "execution_count": 5,
     "metadata": {},
     "output_type": "execute_result"
    },
    {
     "data": {
      "image/png": "[encoded data removed]",
      "text/plain": [
       "<Figure size 640x480 with 1 Axes>"
      ]
     },
     "metadata": {},
     "output_type": "display_data"
    }
   ],
   "source": [
    "plt.scatter(cm2['UT time (hours)'],cm2['Flux density (mJy)'])"
   ]
  },
  {
   "cell_type": "markdown",
   "id": "8002423c-546b-460c-9c31-e1d6ab808456",
   "metadata": {},
   "source": [
    "# 2. Calculus."
   ]
  },
  {
   "cell_type": "markdown",
   "id": "ba9f1043-d06c-4103-9de4-d1fbb167fe43",
   "metadata": {},
   "source": [
    "We want to make a least squares fit to our data, the expression to fit will be \n",
    "It is whown in the bibliografy that the intensity is\n",
    "$$\n",
    "    F_\\nu = \\Omega I_\\nu = \\frac{\\pi R^2}{D^2}I_\\nu,\n",
    "$$\n",
    "with\n",
    "$$\n",
    "    I_\\nu = S(\\nu_1) J\\left( \\frac{\\nu}{\\nu_1},p \\right),\n",
    "$$\n",
    "is the frequency at the transition from thick to thin, where $S(\\nu_1)= \\frac{c_5}{c_6}B^{-1/2} \\left( \\frac{\\nu_1}{2c_1} \\right)^{5/2}$ is the source function at $\\nu_1$ and $J(z, p)=z^{\\frac{5}{2}}\\left[1-\\exp \\left(-z^{-\\frac{p+4}{2}}\\right)\\right]$. And $\\nu_1$\n",
    "$$\n",
    "    \\nu_1=2c_1(sc_6)^{\\frac{2}{p+4}}N_0^{\\frac{2}{p+4}}B^{\\frac{p+2}{p+4}}~~Hz,\n",
    "$$\n",
    "where $c_6$, $c_5$ and $c_1$ are constants given by (Pacholcyzk)\n",
    "$$\n",
    "c_1=\\frac{3 e}{4 \\pi m^3 c^5}\n",
    "$$\n",
    "\n",
    "$$\n",
    "c_5=\\frac{\\sqrt{3}}{16 \\pi} \\frac{e^3}{m c^2}\\left(\\frac{\\gamma+7 / 3}{\\gamma+1}\\right) \\Gamma\\left(\\frac{3 \\gamma-1}{12}\\right) \\Gamma\\left(\\frac{3 \\gamma+7}{12}\\right)\n",
    "$$\n",
    "\n",
    "$$\n",
    "c_6=\\frac{\\sqrt{3} \\pi}{72} e m^5 c^{10}\\left(\\gamma+\\frac{10}{3}\\right) \\Gamma\\left(\\frac{3 \\gamma+2}{12}\\right) \\Gamma\\left(\\frac{3 \\gamma+10}{12}\\right)\n",
    "$$"
   ]
  },
  {
   "cell_type": "code",
   "execution_count": 6,
   "id": "370bee29-87e6-46e3-8bd8-8c91b825e1c3",
   "metadata": {},
   "outputs": [],
   "source": [
    "#First of all defininf Pacholcyzk's constants\n",
    "c1=(const.e.esu*3/(4*np.pi*const.m_e**3*c**5)).cgs.value\n",
    "\n",
    "def Pacholcyzk5(p):\n",
    "    \"\"\"\n",
    "    Pacholcyzk5 returns the value of the Pacholcyzk c5 constant given p\n",
    "    Parameters\n",
    "    :p: Coefficient of the power law defining the electron population\n",
    "\n",
    "    Output\n",
    "    :c5: Value of the constant\n",
    "    \"\"\"\n",
    "    c5=3**0.5/(16*np.pi)*(const.e.esu**3/(const.m_e*const.c**2))*(p+7/3)/(p+1)*scipy.special.gamma((3*p-1)/12)*scipy.special.gamma((3*p+7)/12)\n",
    "    #return only the value in SI units to make possible a fit\n",
    "    return c5.cgs.value\n",
    "    \n",
    "def Pacholcyzk6(p):\n",
    "    \"\"\"\n",
    "    Pacholcyzk6 returns the value of the Pacholcyzk c6 constant given p\n",
    "    Parameters\n",
    "    :p: Coefficient of the power law defining the electron population\n",
    "\n",
    "    Output\n",
    "    :c6: Value of the constant\n",
    "    \"\"\"\n",
    "    c6=np.pi*3**0.5/(72)*const.e.esu*const.m_e**5*const.c**10*(p+10/3)*scipy.special.gamma((3*p+2)/12)*scipy.special.gamma((3*p+10)/12)\n",
    "    return c6.cgs.value\n",
    "    \n",
    "def calculatev1(s, p, N_0, B):\n",
    "    \"\"\"\n",
    "    calculatev1 returns the value of the frequency at which the optical depth is 1 for a population of electron\n",
    "    driven by a power law\n",
    "\n",
    "    Parameters\n",
    "    :s: Thickness of the source\n",
    "    :p: Exponent of the power law of electron population\n",
    "    :N_0: Constant multiplicative factor in the power law\n",
    "    :B: Value of the magnetic field\n",
    "\n",
    "    Output\n",
    "    :v1: Frequency at which the optical depth is 1\n",
    "    \"\"\"\n",
    "\n",
    "    #Computing the ressult, and giving it in Hz, since we do not know Pacholcyzk constannt units but we made\n",
    "    #everything in cgs\n",
    "    v1=(2*c1*(s*Pacholcyzk6(p))**(2/(p+4))*N_0**(2/(p+4))*B**((p+2)/(p+4)))\n",
    "    return v1"
   ]
  },
  {
   "cell_type": "markdown",
   "id": "31605bf4-43bd-43e3-85df-f125eb775356",
   "metadata": {},
   "source": [
    "Now let's deffine the functions needed for the intensity."
   ]
  },
  {
   "cell_type": "code",
   "execution_count": 7,
   "id": "36be0444-9ff5-4daa-a08a-1cdb6506dea2",
   "metadata": {},
   "outputs": [],
   "source": [
    "def SourceFunc(p, B, frequency):\n",
    "    \"\"\"\n",
    "    Source returns the value of the source function for a given frequency\n",
    "\n",
    "    Parameters\n",
    "    :p: Exponent of the power law of electron population\n",
    "    :B: Value of the magnetic field\n",
    "    :v: frequency at which the source function want to be calculated\n",
    "    \n",
    "    Output\n",
    "    :S: Value of the source function at the given frequency\n",
    "    \"\"\"\n",
    "    \n",
    "    S=(Pacholcyzk5(p)/Pacholcyzk6(p)*B**(-1/2)*(frequency/(2*c1))**(5/2))\n",
    "    return S\n",
    "\n",
    "def JFunc(z, p):\n",
    "    \"\"\"\n",
    "    Returns the value of the J function defined on the calculation of the intensity for a population\n",
    "    of relativistic electrons driven by a power law of exponent p\n",
    "\n",
    "    Paramenters\n",
    "    :z: ratio of the frequency of interest and the frequency v1\n",
    "    :p: Exponent of the power law\n",
    "\n",
    "    Output\n",
    "    :J:\n",
    "    \"\"\"\n",
    "\n",
    "    J=z**(5/2)*(1-np.exp(-z**(-(p+4)/2)))\n",
    "    return J"
   ]
  },
  {
   "cell_type": "markdown",
   "id": "893e1213-3074-44dd-87c1-87e062cd44de",
   "metadata": {},
   "source": [
    "We can now compute the intensity and the flux."
   ]
  },
  {
   "cell_type": "code",
   "execution_count": 8,
   "id": "114bc7ac-71f4-49d5-b795-2cd3e641628e",
   "metadata": {},
   "outputs": [],
   "source": [
    "def SpecInt(frequency, p, B, s, N0):\n",
    "    \"\"\"\n",
    "    SpecInt returns the specific intensity of a population of relativistic electrons driven by a power law at a given\n",
    "    frequency\n",
    "\n",
    "    Paramenters\n",
    "    :v: frequency at which the specific intensity is computed\n",
    "    :p: exponent of the power law\n",
    "    :B: Magnetic field\n",
    "    :s: Thickness of the source\n",
    "    :N0: Constant of the power law\n",
    "\n",
    "    Output\n",
    "    :I: specific intensity at the given frequency\n",
    "    \"\"\"\n",
    "    \n",
    "    v1=calculatev1(s, p, N0, B)\n",
    "    I=SourceFunc(p, B, v1)*JFunc(frequency/v1, p)\n",
    "    return I\n",
    "\n",
    "def solidangle(radius, distance):\n",
    "    \"\"\"\n",
    "    solidangle gives the solid angle of a source at distance d and size r in the small angle approximation.If units are \n",
    "    desired at the output, they must be inserted in the parameters with unit module\n",
    "\n",
    "    Parameters\n",
    "    :radius: radius of the source\n",
    "    :distance: distance from Earth to source\n",
    "\n",
    "    Outputs\n",
    "    :omega: solid angle of the source\n",
    "    \"\"\"\n",
    "    #Applying the expresion for the solid angle in the small angle approximation\n",
    "    omega= np.pi * (radius**2)/(distance**2)\n",
    "    return omega"
   ]
  },
  {
   "cell_type": "code",
   "execution_count": 18,
   "id": "f9b763b4-0b12-4aed-9bd5-95e141b44677",
   "metadata": {},
   "outputs": [],
   "source": [
    "\n",
    "def FluxatT(time, frequency, p, B0, N0, distance, r0, speed, a):\n",
    "    \"\"\"\n",
    "    Flux returns the value of the flux foor a population of relativistic electrons driven by a power law at a given frequency\n",
    "\n",
    "    Parameters\n",
    "    :time: Time at wich the flux is calculated\n",
    "    :frequency: frequency at which the specific intensity is computed\n",
    "    :p: exponent of the power law describing electron population\n",
    "    :B0: Magnetic field when radius is r0\n",
    "    :N0: Constant of the power law\n",
    "    :distance: Distance to the source\n",
    "    :r0: reference radius of the source\n",
    "    :speed: speed of the expansion\n",
    "    :a: exponent of the power law describing expansion\n",
    "    \n",
    "    Output\n",
    "    :F: Flux of the source\n",
    "    \"\"\"\n",
    "    #Computing the radius at a given time\n",
    "    r=PLradius(time, speed, r0, a)\n",
    "    #Computing number density and magentic field for the corresponding r\n",
    "    B=Br(r, B0, r0)\n",
    "    N= Nr(r, N0, r0, p)\n",
    "    \n",
    "    F=solidangle(r, distance)*SpecInt(frequency, p, B, r, N)\n",
    "    return F*1e23 #In order to get from cgs to Jy"
   ]
  },
  {
   "cell_type": "markdown",
   "id": "ec3b5106-8a4d-4fbc-9a36-d7e1c26568b4",
   "metadata": {},
   "source": [
    "We defined our function with frequencies, but sometimes data is given in wavelenght or viceversa, here we make some functions to change between them."
   ]
  },
  {
   "cell_type": "code",
   "execution_count": 10,
   "id": "16f19369-c1ab-46e6-8f04-27295a1b0081",
   "metadata": {},
   "outputs": [],
   "source": [
    "def freqtowavelenght(frequency):\n",
    "    \"\"\"\n",
    "    Transforms from frequency to wavelenght\n",
    "\n",
    "    Parameters\n",
    "    :frequency: Input frequency\n",
    "\n",
    "    Output\n",
    "    :wavelenght:\n",
    "    \"\"\"\n",
    "    frequency=frequency.to(u.Hz)\n",
    "    return (const.c/frequency).decompose()\n",
    "\n",
    "def wavelenghttofreq(wavelenght):\n",
    "    \"\"\"\n",
    "    Transforms from wavelenght to frequency\n",
    "\n",
    "    Parameters\n",
    "    :wavelenght: Input wavelenght\n",
    "\n",
    "    Output\n",
    "    :frequency:\n",
    "    \"\"\"\n",
    "    wavelenght=wavelenght.to(u.m)\n",
    "    return (const.c/wavelenght).decompose()"
   ]
  },
  {
   "cell_type": "markdown",
   "id": "22e44d55-d649-40fd-a9e9-cb58872f5555",
   "metadata": {},
   "source": [
    "Finally we can make a regression of the data to the flux function and get the values of $p$, $B_0$, $r_0$ and $N_0$. But first we need to separate the data in regions since"
   ]
  },
  {
   "cell_type": "code",
   "execution_count": 11,
   "id": "7199f5c2-db7c-4a06-ad15-37f9028605e3",
   "metadata": {},
   "outputs": [
    {
     "data": {
      "text/plain": [
       "<matplotlib.collections.PathCollection at 0x7f13c03ac9d0>"
      ]
     },
     "execution_count": 11,
     "metadata": {},
     "output_type": "execute_result"
    },
    {
     "data": {
      "image/png": "[encoded data removed]",
      "text/plain": [
       "<Figure size 640x480 with 1 Axes>"
      ]
     },
     "metadata": {},
     "output_type": "display_data"
    }
   ],
   "source": [
    "#Data for the 2cm line and the first peak\n",
    "x2_1=cm2['UT time (hours)'][5:27].to(u.s).value\n",
    "y2_1=cm2['Flux density (mJy)'][5:27].to(u.Jy).value\n",
    "#Second peak\n",
    "x2_2=cm2['UT time (hours)'][27:53].to(u.s).value\n",
    "y2_2=cm2['Flux density (mJy)'][27:53].to(u.Jy).value\n",
    "\n",
    "plt.scatter(x2_2,y2_2)"
   ]
  },
  {
   "cell_type": "markdown",
   "id": "dc454279-d664-437d-9604-c6d903339557",
   "metadata": {},
   "source": [
    "In order to have some initial parameters and check the code, we can search by hand some values that approxime the data curve. In the paper it is said that the size of the blob was measured to be $10^{13}$ after $900s$, so we can estimate that with a given speed near $0.2c$ this will lead to $\\approx 10^{12}$ at $t=0$."
   ]
  },
  {
   "cell_type": "code",
   "execution_count": 271,
   "id": "35a801e2-0664-4cc1-8e64-f62ac0bd92b6",
   "metadata": {},
   "outputs": [
    {
     "data": {
      "image/png": "[encoded data removed]",
      "text/plain": [
       "<Figure size 640x480 with 1 Axes>"
      ]
     },
     "metadata": {},
     "output_type": "display_data"
    }
   ],
   "source": [
    "#Quantizing the time\n",
    "t=(np.linspace(0, 10000.0, 100000)*u.s).value\n",
    "#Assuming some input parameters\n",
    "p=0.78\n",
    "d=(11000*u.pc).to(u.cm).value  #Known distance to the binary\n",
    "B0=( 50*u.G).value\n",
    "r0= ((1e12)*u.cm).value #HIGH SENSITIVITY TO THIS PARAMETER LEFT AND RIGHT PEAK will be input, too small implies\n",
    "                        # that the flux spectrum doesnt rise from 0 (has sense since it has expanded and not coming from \n",
    "                        #a point)\n",
    "N0= (2e7*1/u.cm**3).value #UP OR DOWN PEAK FLUX\n",
    "speed=(const.c*0.08).cgs.value #WIDTH OF THE SPECTRUM PEAK\n",
    "\n",
    "\"\"\"\n",
    "\n",
    "r0= (3e13*u.cm).value\n",
    "d=(11000*u.pc).value\n",
    "B0= (1.0e1*u.G).value\n",
    "N0= (1.0e12*u.erg**p/u.cm**3).value\n",
    "\"\"\"\n",
    "#Computing the flux at r\n",
    "F1= FluxatT(t, wavelenghttofreq(2*u.cm).cgs.value, p, B0, N0, d, r0,speed, 1)\n",
    "x=x2_1\n",
    "y=y2_1\n",
    "\n",
    "\n",
    "\"\"\"\n",
    "#Little travel following the negative value\n",
    "p=0.3\n",
    "nu= wavelenghttofreq(2*u.cm).cgs.value\n",
    "SourceFunc(p, B0, 3e14)\n",
    "\n",
    "(Pacholcyzk5(p)/Pacholcyzk6(p)) #Aqui esta lo que sale negativo\n",
    "\n",
    "scipy.special.gamma((3*p-1)/12)\n",
    "\"\"\"\n",
    "\n",
    "#Plotting the results\n",
    "l1=\"Fit\"\n",
    "plt.plot(t,F1,'r', label=l1)\n",
    "plt.xlabel(f\"Time (t)\")\n",
    "plt.ylabel(f'Flux density (Jy)')\n",
    "plt.title('Flux density at different times for an expanding source')\n",
    "plt.legend()\n",
    "plt.scatter(x-1*min(x),y) #Substract the first time value in order to align the data with 0\n",
    "plt.show()\n"
   ]
  },
  {
   "cell_type": "markdown",
   "id": "224438b3-6d6d-4cd9-abc1-5948e02cdf4b",
   "metadata": {},
   "source": [
    "And now we can procceed to fit the data with curve_fit astropy module"
   ]
  },
  {
   "cell_type": "code",
   "execution_count": 272,
   "id": "5dcfb80f-ddbd-4348-b9ac-38394c68f0e8",
   "metadata": {
    "scrolled": true
   },
   "outputs": [
    {
     "name": "stderr",
     "output_type": "stream",
     "text": [
      "/tmp/ipykernel_709882/3936713244.py:46: RuntimeWarning: invalid value encountered in power\n",
      "  v1=(2*c1*(s*Pacholcyzk6(p))**(2/(p+4))*N_0**(2/(p+4))*B**((p+2)/(p+4)))\n",
      "/tmp/ipykernel_709882/2717573091.py:14: RuntimeWarning: invalid value encountered in power\n",
      "  S=(Pacholcyzk5(p)/Pacholcyzk6(p)*B**(-1/2)*(frequency/(2*c1))**(5/2))\n"
     ]
    },
    {
     "data": {
      "text/plain": [
       "(array([1.05176556e+00, 1.65545891e+00, 4.33735336e+07, 1.21484556e+09]),\n",
       " array([[ 1.60275016e-02, -1.82285761e-01, -4.86635053e+05,\n",
       "         -2.67994040e+07],\n",
       "        [-1.82285761e-01,  2.38259785e+00,  4.65081689e+05,\n",
       "          3.64223527e+08],\n",
       "        [-4.86635053e+05,  4.65081689e+05,  9.95695679e+13,\n",
       "         -1.31685344e+14],\n",
       "        [-2.67994040e+07,  3.64223527e+08, -1.31685344e+14,\n",
       "          5.69908116e+16]]))"
      ]
     },
     "execution_count": 272,
     "metadata": {},
     "output_type": "execute_result"
    }
   ],
   "source": [
    "#Frequency at wich we are observing the flux\n",
    "nu=wavelenghttofreq(2*u.cm).to(u.Hz).value\n",
    "#Select with wavelenght and peak we want to see\n",
    "x=x2_1\n",
    "y=y2_1\n",
    "alpha= curve_fit(lambda time, pf, B0f, N0f, speedf: FluxatT(time, nu, pf, B0f, N0f, d, r0, \n",
    "                                                            speedf, 1.), x-1*min(x), y, (p,B0,N0,speed))\n",
    "alpha"
   ]
  },
  {
   "cell_type": "code",
   "execution_count": 277,
   "id": "8e35c4f4-00a1-40de-8223-cf7d06c02276",
   "metadata": {},
   "outputs": [
    {
     "data": {
      "image/png": "[encoded data removed]",
      "text/plain": [
       "<Figure size 640x480 with 1 Axes>"
      ]
     },
     "metadata": {},
     "output_type": "display_data"
    }
   ],
   "source": [
    "plt.scatter(x-1*min(x), y)\n",
    "plt.plot(t, FluxatT(t,nu, alpha[0][0], alpha[0][1], alpha[0][2], d, r0, alpha[0][3]\n",
    "                         , 1.), c='red')\n",
    "\n",
    "plt.show()"
   ]
  },
  {
   "cell_type": "code",
   "execution_count": 278,
   "id": "881cad80-fe14-4334-8896-39817495ee4f",
   "metadata": {},
   "outputs": [
    {
     "name": "stdout",
     "output_type": "stream",
     "text": [
      "Values: \n",
      " p= 1.0517655586505745 \n",
      " B0=1.6554589072675139 G \n",
      " N0=43373533.580729105 1 / cm3 \n",
      " speed=0.04052288607668258c \n"
     ]
    }
   ],
   "source": [
    "print(f'Values: \\n p= {alpha[0][0]} \\n B0={alpha[0][1]*u.G} \\n N0={alpha[0][2]*1/u.cm**3} \\n speed={(alpha[0][3]*u.cm/u.s).si/(const.c)}c ')"
   ]
  },
  {
   "cell_type": "markdown",
   "id": "7920c56e-7989-44bf-81ea-1cdd4b75b98d",
   "metadata": {},
   "source": [
    "A fast $\\chi^2$ to test the fit"
   ]
  },
  {
   "cell_type": "code",
   "execution_count": 279,
   "id": "31d4f322-9391-45cf-acc7-690ca6b0b0ae",
   "metadata": {},
   "outputs": [],
   "source": [
    "def calc_reduced_chi_square(fit, x, y, N, n_free):\n",
    "    '''\n",
    "    fit (array) values for the fit\n",
    "    x,y (arrays) data\n",
    "    N total number of points\n",
    "    n_free number of parameters we are fitting\n",
    "    '''\n",
    "    return 1.0/(N-n_free)*sum(((fit - y))**2)"
   ]
  },
  {
   "cell_type": "code",
   "execution_count": 281,
   "id": "95d1b14a-6ca2-4f76-82b9-6a489ead2228",
   "metadata": {},
   "outputs": [
    {
     "data": {
      "text/plain": [
       "1.2330750278791574e-05"
      ]
     },
     "execution_count": 281,
     "metadata": {},
     "output_type": "execute_result"
    }
   ],
   "source": [
    "calc_reduced_chi_square(FluxatT(x-min(x),nu, alpha[0][0], alpha[0][1], alpha[0][2], d, r0, alpha[0][3]\n",
    "                         , 1.), x-min(x), y, x.size, 4)"
   ]
  }
 ],
 "metadata": {
  "kernelspec": {
   "display_name": "Python 3 (ipykernel)",
   "language": "python",
   "name": "python3"
  },
  "language_info": {
   "codemirror_mode": {
    "name": "ipython",
    "version": 3
   },
   "file_extension": ".py",
   "mimetype": "text/x-python",
   "name": "python",
   "nbconvert_exporter": "python",
   "pygments_lexer": "ipython3",
   "version": "3.11.7"
  }
 },
 "nbformat": 4,
 "nbformat_minor": 5
}
