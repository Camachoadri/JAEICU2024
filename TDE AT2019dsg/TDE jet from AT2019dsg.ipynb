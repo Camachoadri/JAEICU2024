{
 "cells": [
  {
   "cell_type": "markdown",
   "id": "e8775164-d36c-4be6-96df-f1601cdbe7e1",
   "metadata": {},
   "source": [
    "In this notebook, we will be recreating the analysis made in https://doi.org/10.1038/s41550-020-01295-8 by Stein et al. The data and their code is aviable in his GitHub."
   ]
  },
  {
   "cell_type": "code",
   "execution_count": 53,
   "id": "5a719613-83e4-4bde-92e6-0e6fcaabaabf",
   "metadata": {},
   "outputs": [],
   "source": [
    "import numpy as np\n",
    "import matplotlib.pyplot as plt\n",
    "import scipy\n",
    "import os\n",
    "\n",
    "#gamma function and integration\n",
    "from scipy import special, optimize\n",
    "from scipy import integrate\n",
    "\n",
    "\n",
    "#Fitting the spectrum\n",
    "from scipy.optimize import curve_fit\n",
    "\n",
    "\n",
    "#Using csv tables\n",
    "import pandas as pd\n",
    "\n",
    "#Astropy module to handle units\n",
    "import astropy\n",
    "from astropy.io import ascii\n",
    "from astropy import units as u\n",
    "from astropy.units import Quantity\n",
    "from astropy import constants as const\n",
    "\n",
    "#Importing the constant that will be needed\n",
    "from astropy.constants import c, k_B, m_e, e"
   ]
  },
  {
   "cell_type": "markdown",
   "id": "7ff6ccfa-8ac4-4ef6-a3de-7113bb898436",
   "metadata": {},
   "source": [
    "First, let's get the data that will be fitted."
   ]
  },
  {
   "cell_type": "code",
   "execution_count": 69,
   "id": "8b5d0984-0659-4675-9e1b-eefcff4f9bbf",
   "metadata": {},
   "outputs": [],
   "source": [
    "data_rec = astropy.io.ascii.read(os.path.join(\"Data/\", 'at2019dsg_merged.dat'), format='fixed_width')"
   ]
  },
  {
   "cell_type": "code",
   "execution_count": 74,
   "id": "d166f762-9e47-49f9-be19-b9bd1c24ea92",
   "metadata": {
    "scrolled": true
   },
   "outputs": [
    {
     "data": {
      "text/plain": [
       "'0.33 |'"
      ]
     },
     "execution_count": 74,
     "metadata": {},
     "output_type": "execute_result"
    }
   ],
   "source": [
    "data_rec['flux_mJy'][0]"
   ]
  },
  {
   "cell_type": "code",
   "execution_count": null,
   "id": "1f7daf6c-f200-4cb1-9d86-d6c41e96e542",
   "metadata": {},
   "outputs": [],
   "source": []
  }
 ],
 "metadata": {
  "kernelspec": {
   "display_name": "Python 3 (ipykernel)",
   "language": "python",
   "name": "python3"
  },
  "language_info": {
   "codemirror_mode": {
    "name": "ipython",
    "version": 3
   },
   "file_extension": ".py",
   "mimetype": "text/x-python",
   "name": "python",
   "nbconvert_exporter": "python",
   "pygments_lexer": "ipython3",
   "version": "3.11.7"
  }
 },
 "nbformat": 4,
 "nbformat_minor": 5
}
