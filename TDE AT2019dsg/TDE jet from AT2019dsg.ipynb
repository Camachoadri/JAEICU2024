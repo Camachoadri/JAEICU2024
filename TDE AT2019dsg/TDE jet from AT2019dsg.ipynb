{
 "cells": [
  {
   "cell_type": "markdown",
   "id": "e8775164-d36c-4be6-96df-f1601cdbe7e1",
   "metadata": {},
   "source": [
    "In this notebook, we will be recreating the analysis made in https://doi.org/10.1038/s41550-020-01295-8 by Stein et al. The data and their code is aviable in his GitHub."
   ]
  },
  {
   "cell_type": "code",
   "execution_count": 1,
   "id": "5a719613-83e4-4bde-92e6-0e6fcaabaabf",
   "metadata": {},
   "outputs": [],
   "source": [
    "import numpy as np\n",
    "import matplotlib.pyplot as plt\n",
    "import scipy\n",
    "import os\n",
    "from datetime import date\n",
    "\n",
    "#gamma function and integration\n",
    "from scipy import special, optimize\n",
    "from scipy import integrate\n",
    "\n",
    "\n",
    "#Fitting the spectrum\n",
    "from scipy.optimize import curve_fit\n",
    "\n",
    "\n",
    "#Using csv tables\n",
    "import pandas as pd\n",
    "\n",
    "#Astropy module to handle units\n",
    "import astropy\n",
    "from astropy.io import ascii\n",
    "from astropy import units as u\n",
    "from astropy.units import Quantity\n",
    "from astropy import constants as const\n",
    "\n",
    "#Importing the constant that will be needed\n",
    "from astropy.constants import c, k_B, m_e, e"
   ]
  },
  {
   "cell_type": "markdown",
   "id": "7ff6ccfa-8ac4-4ef6-a3de-7113bb898436",
   "metadata": {},
   "source": [
    "First, let's get the data that will be fitted."
   ]
  },
  {
   "cell_type": "code",
   "execution_count": 11,
   "id": "8b5d0984-0659-4675-9e1b-eefcff4f9bbf",
   "metadata": {},
   "outputs": [
    {
     "data": {
      "text/plain": [
       "['date', 'mjd', 'nu_GHz', 'inst', 'flux_mJy', 'eflux_mJy']"
      ]
     },
     "execution_count": 11,
     "metadata": {},
     "output_type": "execute_result"
    }
   ],
   "source": [
    "data_rec = astropy.io.ascii.read(os.path.join(\"Data/\", 'at2019dsg_merged.dat'), format='fixed_width')\n",
    "data_rec.colnames"
   ]
  },
  {
   "cell_type": "markdown",
   "id": "838e5c2b-7a08-43bc-b912-598674869fe7",
   "metadata": {},
   "source": [
    "Quick function to convert dates to days since the detection."
   ]
  },
  {
   "cell_type": "code",
   "execution_count": 3,
   "id": "06cfc7e2-babf-4c30-bd27-58323862e495",
   "metadata": {},
   "outputs": [],
   "source": [
    "def DaysSinceDetection(date_string):\n",
    "    \"\"\"\n",
    "    Returns the days since the optical detection of the source AT2019dsg  (2019 April 1) given a date (string) in format \n",
    "    2019/04/01\n",
    "    Parameters\n",
    "    :date: Date that want to be converted\n",
    "\n",
    "    Output\n",
    "    :days:\n",
    "    \"\"\"\n",
    "    splitted=date_string.split('/')\n",
    "    date_converted= date(2000+int(splitted[0]), int(splitted[1]), int(splitted[2]))\n",
    "    date0= date(2019, 4, 1)\n",
    "    days= date_converted - date0\n",
    "    return days.days"
   ]
  },
  {
   "cell_type": "markdown",
   "id": "a626a995-ee48-4259-95d7-6d477bc54c90",
   "metadata": {},
   "source": [
    "Let's make a plot to visualize the data."
   ]
  },
  {
   "cell_type": "code",
   "execution_count": 140,
   "id": "be131771-a4a8-49c4-b4ce-e7ff2e56b896",
   "metadata": {},
   "outputs": [
    {
     "data": {
      "image/png": "[encoded data removed]",
      "text/plain": [
       "<Figure size 640x480 with 1 Axes>"
      ]
     },
     "metadata": {},
     "output_type": "display_data"
    }
   ],
   "source": [
    "#Array with the dates\n",
    "list_dates= set(data_rec['date'])\n",
    "date_list=[[[], [], []], [[], [], []], [[], [], []], [[], [], []]]\n",
    "\n",
    "for data in data_rec:\n",
    "    if data['date']== '19/05/22' or data['date']== '19/05/21':\n",
    "        date_list[0][0].append(data['nu_GHz'])\n",
    "        date_list[0][1].append(data['flux_mJy'])\n",
    "        date_list[0][2].append(data['eflux_mJy'])\n",
    "    if data['date']== '19/06/19':\n",
    "        date_list[1][0].append(data['nu_GHz'])\n",
    "        date_list[1][1].append(data['flux_mJy'])\n",
    "        date_list[1][2].append(data['eflux_mJy'])\n",
    "    if data['date']== '19/08/08' or  data['date']== '19/08/07':\n",
    "        date_list[2][0].append(data['nu_GHz'])\n",
    "        date_list[2][1].append(data['flux_mJy'])\n",
    "        date_list[2][2].append(data['eflux_mJy'])\n",
    "    if data['date']== '19/10/05':\n",
    "        date_list[3][0].append(data['nu_GHz'])\n",
    "        date_list[3][1].append(data['flux_mJy'])\n",
    "        date_list[3][2].append(data['eflux_mJy'])\n",
    "        \n",
    "#First optical detection was 2019 april 9\n",
    "\n",
    "plt.errorbar(date_list[0][0], date_list[0][1], yerr=  date_list[0][2],fmt= '.',capsize= 2 , c='blue',\n",
    "             zorder=8, label=str(DaysSinceDetection('19/05/22')))\n",
    "plt.errorbar(date_list[1][0], date_list[1][1], yerr=  date_list[1][2],fmt= '.',capsize= 2 , c='orange',\n",
    "             zorder=8, label=str(DaysSinceDetection('19/06/19')))\n",
    "plt.errorbar(date_list[2][0], date_list[2][1], yerr=  date_list[2][2],fmt= '.',capsize= 2 , c='green',\n",
    "             zorder=8, label=str(DaysSinceDetection('19/08/08')))\n",
    "plt.errorbar(date_list[3][0], date_list[3][1], yerr=  date_list[3][2],fmt= '.',capsize= 2 , c='red',\n",
    "             zorder=8, label=str(DaysSinceDetection('19/10/05')))\n",
    "     \n",
    "\n",
    "plt.yscale('log')\n",
    "plt.xscale('log')\n",
    "plt.xlabel(f\"Frequency (GHz)\")\n",
    "plt.ylabel(f'Flux density (mJy)')\n",
    "plt.title('Flux density at different frequencies')\n",
    "plt.legend()\n",
    "plt.show()"
   ]
  },
  {
   "cell_type": "markdown",
   "id": "210d0a6f-150d-45e1-b60c-4dddc4337a98",
   "metadata": {},
   "source": [
    "Now we will be defining the model to fit the data. They assume that the flux comes from 2 conical volumes with $\\phi=30\\degree$ so the covering factors are $f_A=1 - cos\\phi=0.13$ and $f_V=2/(3tan\\phi)=1.15$. The free parameters are the electron power-law index (p= 2.9 ± 0.1) and the host baseline flux density, plus the magnetic field and radius for \n",
    "each epoch. So we just have a syncrotron emission previusly studied here, with no model of the time evolution for R and B so they are free parameters at each time. (NO SERIA NECESARIO TAMBIEN METER EL N COMO PARAMTRO EN ESTE CASO? ---> CREO QUE ESTAN RELACIONADOS POR PRINCIPIOS DE EQUIPARTICIÓN IMPLEMENTARLO TAMBIEN)"
   ]
  },
  {
   "cell_type": "markdown",
   "id": "f33f1d28-7692-41d1-bc08-353beb8407a5",
   "metadata": {
    "jp-MarkdownHeadingCollapsed": true
   },
   "source": [
    "# 1. Synchrotron functions"
   ]
  },
  {
   "cell_type": "code",
   "execution_count": 5,
   "id": "8e78dc6c-8829-4154-a23a-8653bcd52006",
   "metadata": {},
   "outputs": [],
   "source": [
    "#Defininf Pacholcyzk's constants\n",
    "c1=(const.e.esu*3/(4*np.pi*const.m_e.cgs**3*const.c.cgs**5)).cgs.value\n",
    "\n",
    "c3=(const.e.esu**3*np.sqrt(3)/(4*np.pi*const.m_e.cgs*const.c.cgs**2)).cgs.value\n",
    "\n",
    "def Pacholcyzk5(p):\n",
    "    \"\"\"\n",
    "    Pacholcyzk5 returns the value of the Pacholcyzk c5 constant given p\n",
    "    Parameters\n",
    "    :p: Coefficient of the power law defining the electron population\n",
    "\n",
    "    Output\n",
    "    :c5: Value of the constant\n",
    "    \"\"\"\n",
    "    c5=3**0.5/(16*np.pi)*(const.e.esu**3/(const.m_e*const.c**2))*(p+7/3)/(p+1)*scipy.special.gamma((3*p-1)/12)*scipy.special.gamma((3*p+7)/12)\n",
    "    #return only the value in cgs units to make possible a fit\n",
    "    return c5.cgs.value\n",
    "    \n",
    "def Pacholcyzk6(p):\n",
    "    \"\"\"\n",
    "    Pacholcyzk6 returns the value of the Pacholcyzk c6 constant given p\n",
    "    Parameters\n",
    "    :p: Coefficient of the power law defining the electron population\n",
    "\n",
    "    Output\n",
    "    :c6: Value of the constant\n",
    "    \"\"\"\n",
    "    c6=np.pi*3**0.5/(72)*const.e.esu*const.m_e**5*const.c**10*(p+10/3)*scipy.special.gamma((3*p+2)/12)*scipy.special.gamma((3*p+10)/12)\n",
    "    return c6.cgs.value"
   ]
  },
  {
   "cell_type": "code",
   "execution_count": 116,
   "id": "e3fafe75-3212-4069-a078-0d516d5fe696",
   "metadata": {},
   "outputs": [],
   "source": [
    "def SynchrotronEmissionCoeff(p, B, N0, frequency):\n",
    "    \"\"\"\n",
    "    Returns the emission coefficient for a synchrotron emisison of a population of relativistic electrons\n",
    "\n",
    "    Parameters\n",
    "    :p: Coefficient of the power law defining the electron population\n",
    "    :B: Magnetic field\n",
    "    :N0: Constant of the power law\n",
    "    :frequency: frequency at which the emission coefficient want to be calculated\n",
    "\n",
    "    Output\n",
    "    :EmissionCoeff: Emission coefficient value\n",
    "    \"\"\"\n",
    "\n",
    "    EmissionCoeff=Pacholcyzk5(p)*N0*B**((p+1)/2)*(frequency/(2*c1))**((1-p)/2)\n",
    "    return EmissionCoeff\n",
    "\n",
    "def SynchrotronAbsorptionCoeff(p, B, N0, frequency):\n",
    "    \"\"\"\n",
    "    Returns the absorption coefficient for a synchrotron population of relativistic electrons\n",
    "\n",
    "    Parameters\n",
    "    :p: Coefficient of the power law defining the electron population\n",
    "    :B: Magnetic field\n",
    "    :N0: Constant of the power law\n",
    "    :frequency: frequency at which the absorption coefficient want to be calculated\n",
    "\n",
    "    Output\n",
    "    :AbsorptionCoeff: absorption coefficient value\n",
    "    \"\"\"\n",
    "\n",
    "    AbsorptionCoeff=Pacholcyzk6(p)*N0*B**((p+2)/2)*(frequency/(2*c1))**(-(p+4)/2)\n",
    "    return AbsorptionCoeff\n",
    "\n",
    "def SourceFuncSynch(p, B, N0, frequency):\n",
    "    \"\"\"\n",
    "    returns the value of the source function for a given frequency\n",
    "\n",
    "    Parameters\n",
    "    :p: Exponent of the power law of electron population\n",
    "    :B: Value of the magnetic field\n",
    "    :N0: Constant of the power law\n",
    "    :Ne: Thermal electron number density\n",
    "    :Te: Temperature of the electrons\n",
    "    :frequency: frequency at which the source function want to be calculated\n",
    "    \n",
    "    Output\n",
    "    :S: Value of the source function at the given frequency\n",
    "    \"\"\"\n",
    "\n",
    "    S=SynchrotronEmissionCoeff(p, B, N0, frequency)/(SynchrotronAbsorptionCoeff(p, B, N0, frequency))\n",
    "    return S\n",
    "\n",
    "\n",
    "def SpecIntSynch(p, B, N, radius, frequency):\n",
    "    \"\"\"\n",
    "    SpecIntSynch returns the specific intensity of a population of relativistic electrons driven by a power law at a given\n",
    "    frequency\n",
    "\n",
    "    Paramenters\n",
    "    :p: exponent of the power law\n",
    "    :B: Magnetic field\n",
    "    :N: Constant of the power law\n",
    "    :radius: Radius of the emiting region\n",
    "    :frequency: frequency at which the specific intensity is computed\n",
    "\n",
    "    Output\n",
    "    :I: specific intensity at the given frequency\n",
    "    \"\"\"\n",
    "\n",
    "    S = SourceFuncSynch(p, B, N, frequency)\n",
    "    kappa= SynchrotronAbsorptionCoeff(p, B, N, frequency)\n",
    "    \n",
    "    I=S*(1 - np.exp(-radius*kappa))\n",
    "    return I\n",
    "\n",
    "def solidangle(radius, distance):\n",
    "    \"\"\"\n",
    "    solidangle gives the solid angle of a source at distance d and size r in the small angle approximation.If units are \n",
    "    desired at the output, they must be inserted in the parameters with unit module\n",
    "\n",
    "    Parameters\n",
    "    :radius: radius of the source\n",
    "    :distance: distance from Earth to source\n",
    "\n",
    "    Outputs\n",
    "    :omega: solid angle of the source\n",
    "    \"\"\"\n",
    "    #Applying the expresion for the solid angle in the small angle approximation\n",
    "    omega= np.pi * (radius**2)/(distance**2)\n",
    "    return omega\n",
    "\n",
    "def FluxatTSynch(frequency, r, p, B, N, distance, F0, alpha):\n",
    "    \"\"\"\n",
    "    Flux returns the value of the flux foor a population of relativistic electrons driven by a power law at a given frequency\n",
    "\n",
    "    Parameters\n",
    "    :frequency: frequency at which the specific intensity is computed\n",
    "    :p: exponent of the power law describing electron population\n",
    "    :B: Magnetic field at the epoch\n",
    "    :N: Constant of the power law at the epoch\n",
    "    :distance: Distance to the source\n",
    "    :F0: Steady radio emission from the host galaxy+\n",
    "    :alpha: Base flux of the hsot galaxy power law exponent\n",
    "    \n",
    "    Output\n",
    "    :F: Flux of the source\n",
    "    \"\"\"\n",
    "    Fbase= F0*(frequency/1.28e9)**(alpha)\n",
    "    \n",
    "    F=Fbase + solidangle(r, distance)*SpecIntSynch(p, B, N, r, frequency)*1e23*1e3 # to convert to cgs units\n",
    "    return F #In order to get from cgs to Jy\n"
   ]
  },
  {
   "cell_type": "code",
   "execution_count": 23,
   "id": "9f74e0e6-ffa8-475d-89e5-474e0bd96a35",
   "metadata": {},
   "outputs": [],
   "source": [
    "def freqtowavelenght(frequency):\n",
    "    \"\"\"\n",
    "    Transforms from frequency to wavelenght\n",
    "\n",
    "    Parameters\n",
    "    :frequency: Input frequency\n",
    "\n",
    "    Output\n",
    "    :wavelenght:\n",
    "    \"\"\"\n",
    "    frequency=frequency.to(u.Hz)\n",
    "    return (const.c/frequency).decompose()\n",
    "\n",
    "def wavelenghttofreq(wavelenght):\n",
    "    \"\"\"\n",
    "    Transforms from wavelenght to frequency\n",
    "\n",
    "    Parameters\n",
    "    :wavelenght: Input wavelenght\n",
    "\n",
    "    Output\n",
    "    :frequency:\n",
    "    \"\"\"\n",
    "    wavelenght=wavelenght.to(u.m)\n",
    "    return (const.c/wavelenght).decompose()"
   ]
  },
  {
   "cell_type": "markdown",
   "id": "cad6b3ac-25fd-415f-a8e0-bf7946476022",
   "metadata": {},
   "source": [
    "# 2. Fit to the data"
   ]
  },
  {
   "cell_type": "markdown",
   "id": "a8a71dab-258c-4475-93d1-4f949f6c462b",
   "metadata": {},
   "source": [
    "Lets find by hand the order of the fit parameters."
   ]
  },
  {
   "cell_type": "code",
   "execution_count": 136,
   "id": "9cd513ac-e14c-44d5-af35-a05fb0f4cb05",
   "metadata": {},
   "outputs": [
    {
     "data": {
      "image/png": "[encoded data removed]",
      "text/plain": [
       "<Figure size 640x480 with 1 Axes>"
      ]
     },
     "metadata": {},
     "output_type": "display_data"
    }
   ],
   "source": [
    "#Input parameters\n",
    "freqcont= np.logspace(0, 1.5, base=10) #In mHz\n",
    "distance= ((214*u.Mpc).to(u.cm)).value # http://astro.vaporia.com/start/at2019dsg.html\n",
    "\n",
    "p=3.\n",
    "F0= 1e-1\n",
    "alpha= -0.2\n",
    "\n",
    "B= (0.2*u.G).value\n",
    "N= (0.9e-8*u.cm**(-3)).value\n",
    "R= (7e16*u.cm).value\n",
    "\n",
    "\n",
    "F= FluxatTSynch(freqcont*1e9 , R, p, B, N, distance, F0, alpha)\n",
    "\n",
    "plt.plot(freqcont, F)\n",
    "plt.errorbar(date_list[3][0], date_list[3][1], yerr= data['eflux_mJy'],fmt= '.',capsize= 2 , c='red',\n",
    "             zorder=8, label=str(DaysSinceDetection('19/10/05')))\n",
    "     \n",
    "\n",
    "plt.yscale('log')\n",
    "plt.xscale('log')\n",
    "plt.xlabel(f\"Frequency (GHz)\")\n",
    "plt.ylabel(f'Flux density (mJy)')\n",
    "plt.title('Flux density at different frequencies')\n",
    "plt.legend()\n",
    "plt.show()"
   ]
  },
  {
   "cell_type": "markdown",
   "id": "4fac4883-f0ad-477b-b68f-e46721f92b5c",
   "metadata": {},
   "source": [
    "Now lets make a multi frequency and multi time fit."
   ]
  },
  {
   "cell_type": "code",
   "execution_count": 215,
   "id": "7d8dae8e-6b49-4c66-b85f-ac56278acebc",
   "metadata": {},
   "outputs": [],
   "source": [
    "def leastsq_function(params, *args):\n",
    "    \"\"\"\n",
    "    \n",
    "    \"\"\"\n",
    "    #Time independent parameters\n",
    "    p = params[0]\n",
    "    F0 = params[1]\n",
    "    alpha= params[2]\n",
    "    \n",
    "    #Time dependent pàrameters\n",
    "    B = params[3]\n",
    "    R= params[4]\n",
    "    N = params[5]\n",
    "\n",
    "    #Arguments\n",
    "    frequency = args[0]\n",
    "    distance = args[1]\n",
    "    FluxValue= args[2]\n",
    "    FLuxErr= args[3]\n",
    "\n",
    "    sum=0\n",
    "    #Fit each time\n",
    "    for i in np.arange(0, len(FluxValue)):\n",
    "        for j in np.arange(0, len(frequency[i])):\n",
    "            FLuxFit= FluxatTSynch(frequency[i][j]*1e9 , R[i], p[1], B[i], N[i], distance, F0[1], alpha[1])\n",
    "            sum= sum + np.abs(FluxValue[i][j] - FluxFit)\n",
    "            \n",
    "    return sum"
   ]
  },
  {
   "cell_type": "code",
   "execution_count": 216,
   "id": "d9b422c9-c73e-482f-878d-b6a30195c15a",
   "metadata": {},
   "outputs": [
    {
     "ename": "IndexError",
     "evalue": "invalid index to scalar variable.",
     "output_type": "error",
     "traceback": [
      "\u001b[0;31m---------------------------------------------------------------------------\u001b[0m",
      "\u001b[0;31mIndexError\u001b[0m                                Traceback (most recent call last)",
      "Cell \u001b[0;32mIn[216], line 27\u001b[0m\n\u001b[1;32m     24\u001b[0m     params[i]\u001b[38;5;241m=\u001b[39m params0[i]\n\u001b[1;32m     25\u001b[0m args0\u001b[38;5;241m=\u001b[39m(freq, distance, FluxValue, FluxErr)\n\u001b[0;32m---> 27\u001b[0m result \u001b[38;5;241m=\u001b[39m scipy\u001b[38;5;241m.\u001b[39moptimize\u001b[38;5;241m.\u001b[39mleastsq(leastsq_function, x0 \u001b[38;5;241m=\u001b[39m params, args\u001b[38;5;241m=\u001b[39margs0)\n",
      "File \u001b[0;32m~/miniconda3/envs/JAEICU/lib/python3.11/site-packages/scipy/optimize/_minpack_py.py:415\u001b[0m, in \u001b[0;36mleastsq\u001b[0;34m(func, x0, args, Dfun, full_output, col_deriv, ftol, xtol, gtol, maxfev, epsfcn, factor, diag)\u001b[0m\n\u001b[1;32m    413\u001b[0m \u001b[38;5;28;01mif\u001b[39;00m \u001b[38;5;129;01mnot\u001b[39;00m \u001b[38;5;28misinstance\u001b[39m(args, \u001b[38;5;28mtuple\u001b[39m):\n\u001b[1;32m    414\u001b[0m     args \u001b[38;5;241m=\u001b[39m (args,)\n\u001b[0;32m--> 415\u001b[0m shape, dtype \u001b[38;5;241m=\u001b[39m _check_func(\u001b[38;5;124m'\u001b[39m\u001b[38;5;124mleastsq\u001b[39m\u001b[38;5;124m'\u001b[39m, \u001b[38;5;124m'\u001b[39m\u001b[38;5;124mfunc\u001b[39m\u001b[38;5;124m'\u001b[39m, func, x0, args, n)\n\u001b[1;32m    416\u001b[0m m \u001b[38;5;241m=\u001b[39m shape[\u001b[38;5;241m0\u001b[39m]\n\u001b[1;32m    418\u001b[0m \u001b[38;5;28;01mif\u001b[39;00m n \u001b[38;5;241m>\u001b[39m m:\n",
      "File \u001b[0;32m~/miniconda3/envs/JAEICU/lib/python3.11/site-packages/scipy/optimize/_minpack_py.py:25\u001b[0m, in \u001b[0;36m_check_func\u001b[0;34m(checker, argname, thefunc, x0, args, numinputs, output_shape)\u001b[0m\n\u001b[1;32m     23\u001b[0m \u001b[38;5;28;01mdef\u001b[39;00m \u001b[38;5;21m_check_func\u001b[39m(checker, argname, thefunc, x0, args, numinputs,\n\u001b[1;32m     24\u001b[0m                 output_shape\u001b[38;5;241m=\u001b[39m\u001b[38;5;28;01mNone\u001b[39;00m):\n\u001b[0;32m---> 25\u001b[0m     res \u001b[38;5;241m=\u001b[39m atleast_1d(thefunc(\u001b[38;5;241m*\u001b[39m((x0[:numinputs],) \u001b[38;5;241m+\u001b[39m args)))\n\u001b[1;32m     26\u001b[0m     \u001b[38;5;28;01mif\u001b[39;00m (output_shape \u001b[38;5;129;01mis\u001b[39;00m \u001b[38;5;129;01mnot\u001b[39;00m \u001b[38;5;28;01mNone\u001b[39;00m) \u001b[38;5;129;01mand\u001b[39;00m (shape(res) \u001b[38;5;241m!=\u001b[39m output_shape):\n\u001b[1;32m     27\u001b[0m         \u001b[38;5;28;01mif\u001b[39;00m (output_shape[\u001b[38;5;241m0\u001b[39m] \u001b[38;5;241m!=\u001b[39m \u001b[38;5;241m1\u001b[39m):\n",
      "Cell \u001b[0;32mIn[215], line 25\u001b[0m, in \u001b[0;36mleastsq_function\u001b[0;34m(params, *args)\u001b[0m\n\u001b[1;32m     23\u001b[0m \u001b[38;5;28;01mfor\u001b[39;00m i \u001b[38;5;129;01min\u001b[39;00m np\u001b[38;5;241m.\u001b[39marange(\u001b[38;5;241m0\u001b[39m, \u001b[38;5;28mlen\u001b[39m(FluxValue)):\n\u001b[1;32m     24\u001b[0m     \u001b[38;5;28;01mfor\u001b[39;00m j \u001b[38;5;129;01min\u001b[39;00m np\u001b[38;5;241m.\u001b[39marange(\u001b[38;5;241m0\u001b[39m, \u001b[38;5;28mlen\u001b[39m(frequency[i])):\n\u001b[0;32m---> 25\u001b[0m         FLuxFit\u001b[38;5;241m=\u001b[39m FluxatTSynch(frequency[i][j]\u001b[38;5;241m*\u001b[39m\u001b[38;5;241m1e9\u001b[39m , R[i], p[\u001b[38;5;241m1\u001b[39m], B[i], N[i], distance, F0[\u001b[38;5;241m1\u001b[39m], alpha[\u001b[38;5;241m1\u001b[39m])\n\u001b[1;32m     26\u001b[0m         \u001b[38;5;28msum\u001b[39m\u001b[38;5;241m=\u001b[39m \u001b[38;5;28msum\u001b[39m \u001b[38;5;241m+\u001b[39m np\u001b[38;5;241m.\u001b[39mabs(FluxValue[i][j] \u001b[38;5;241m-\u001b[39m FluxFit)\n\u001b[1;32m     28\u001b[0m \u001b[38;5;28;01mreturn\u001b[39;00m \u001b[38;5;28msum\u001b[39m\n",
      "\u001b[0;31mIndexError\u001b[0m: invalid index to scalar variable."
     ]
    }
   ],
   "source": [
    "#Input parameters\n",
    "freqcont= np.logspace(0, 1.5, base=10) #In mHz\n",
    "freq = []\n",
    "FluxValue = []\n",
    "FluxErr = []\n",
    "distance= ((214*u.Mpc).to(u.cm)).value # http://astro.vaporia.com/start/at2019dsg.html\n",
    "\n",
    "for time in date_list:\n",
    "    freq.append(time[0])\n",
    "    FluxValue.append(time[1])\n",
    "    FluxErr.append(time[2])\n",
    "\n",
    "p=3.*np.ones(len(date_list))\n",
    "F0= 1e-1 *np.ones(len(date_list))\n",
    "alpha= -0.2 *np.ones(len(date_list))\n",
    "\n",
    "B= (0.2*u.G).value*np.ones(len(date_list))\n",
    "N= (0.9e-8*u.cm**(-3)).value*np.ones(len(date_list))\n",
    "R= (7e16*u.cm).value*np.ones(len(date_list))\n",
    "\n",
    "params0=(p, F0, alpha, B, R, N)\n",
    "params= np.ndarray((6, len(date_list)))\n",
    "for i in np.arange(0, len(params0)):\n",
    "    params[i]= params0[i]\n",
    "args0=(freq, distance, FluxValue, FluxErr)\n",
    "\n",
    "result = scipy.optimize.leastsq(leastsq_function, x0 = params, args=args0)"
   ]
  },
  {
   "cell_type": "code",
   "execution_count": 218,
   "id": "e019b374-19d7-4222-9e33-9540b8b91620",
   "metadata": {},
   "outputs": [
    {
     "data": {
      "text/plain": [
       "[11.511,\n",
       " 9.511001,\n",
       " 8.487001,\n",
       " 7.511001,\n",
       " 6.487001,\n",
       " 5.511001,\n",
       " 4.487001,\n",
       " 3.499001,\n",
       " 10.487,\n",
       " 1.4]"
      ]
     },
     "execution_count": 218,
     "metadata": {},
     "output_type": "execute_result"
    }
   ],
   "source": [
    "freq[1]"
   ]
  },
  {
   "cell_type": "code",
   "execution_count": null,
   "id": "95ea8c05-20bd-497b-81e2-60490cb07e13",
   "metadata": {},
   "outputs": [],
   "source": []
  }
 ],
 "metadata": {
  "kernelspec": {
   "display_name": "Python 3 (ipykernel)",
   "language": "python",
   "name": "python3"
  },
  "language_info": {
   "codemirror_mode": {
    "name": "ipython",
    "version": 3
   },
   "file_extension": ".py",
   "mimetype": "text/x-python",
   "name": "python",
   "nbconvert_exporter": "python",
   "pygments_lexer": "ipython3",
   "version": "3.11.7"
  }
 },
 "nbformat": 4,
 "nbformat_minor": 5
}
