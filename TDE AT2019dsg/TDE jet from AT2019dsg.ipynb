{
 "cells": [
  {
   "cell_type": "markdown",
   "id": "e8775164-d36c-4be6-96df-f1601cdbe7e1",
   "metadata": {},
   "source": [
    "In this notebook, we will be recreating the analysis made in https://doi.org/10.1038/s41550-020-01295-8 by Stein et al. The data and their code is aviable in his GitHub."
   ]
  },
  {
   "cell_type": "code",
   "execution_count": 1,
   "id": "5a719613-83e4-4bde-92e6-0e6fcaabaabf",
   "metadata": {},
   "outputs": [],
   "source": [
    "import numpy as np\n",
    "import matplotlib.pyplot as plt\n",
    "import scipy\n",
    "import os\n",
    "from datetime import date\n",
    "\n",
    "#gamma function and integration\n",
    "from scipy import special, optimize\n",
    "from scipy import integrate\n",
    "\n",
    "\n",
    "#Fitting the spectrum\n",
    "from scipy.optimize import curve_fit\n",
    "\n",
    "\n",
    "#Using csv tables\n",
    "import pandas as pd\n",
    "\n",
    "#Astropy module to handle units\n",
    "import astropy\n",
    "from astropy.io import ascii\n",
    "from astropy import units as u\n",
    "from astropy.units import Quantity\n",
    "from astropy import constants as const\n",
    "\n",
    "#Importing the constant that will be needed\n",
    "from astropy.constants import c, k_B, m_e, e"
   ]
  },
  {
   "cell_type": "markdown",
   "id": "7ff6ccfa-8ac4-4ef6-a3de-7113bb898436",
   "metadata": {},
   "source": [
    "First, let's get the data that will be fitted."
   ]
  },
  {
   "cell_type": "code",
   "execution_count": 2,
   "id": "8b5d0984-0659-4675-9e1b-eefcff4f9bbf",
   "metadata": {},
   "outputs": [
    {
     "data": {
      "text/plain": [
       "['date', 'mjd', 'nu_GHz', 'inst', 'flux_mJy', 'eflux_mJy']"
      ]
     },
     "execution_count": 2,
     "metadata": {},
     "output_type": "execute_result"
    }
   ],
   "source": [
    "data_rec = astropy.io.ascii.read(os.path.join(\"Data/\", 'at2019dsg_merged.dat'), format='fixed_width')\n",
    "data_rec.colnames"
   ]
  },
  {
   "cell_type": "markdown",
   "id": "838e5c2b-7a08-43bc-b912-598674869fe7",
   "metadata": {},
   "source": [
    "Quick function to convert dates to days since the detection."
   ]
  },
  {
   "cell_type": "code",
   "execution_count": 18,
   "id": "06cfc7e2-babf-4c30-bd27-58323862e495",
   "metadata": {},
   "outputs": [],
   "source": [
    "def DaysSinceDetection(date_string):\n",
    "    \"\"\"\n",
    "    Returns the days since the optical detection of the source AT2019dsg  (2019 April 1) given a date (string) in format \n",
    "    2019/04/01\n",
    "    Parameters\n",
    "    :date: Date that want to be converted\n",
    "\n",
    "    Output\n",
    "    :days:\n",
    "    \"\"\"\n",
    "    splitted=date_string.split('/')\n",
    "    date_converted= date(2000+int(splitted[0]), int(splitted[1]), int(splitted[2]))\n",
    "    date0= date(2019, 4, 1)\n",
    "    days= date_converted - date0\n",
    "    return days.days"
   ]
  },
  {
   "cell_type": "markdown",
   "id": "a626a995-ee48-4259-95d7-6d477bc54c90",
   "metadata": {},
   "source": [
    "Let's make a plot to visualize the data."
   ]
  },
  {
   "cell_type": "code",
   "execution_count": 19,
   "id": "be131771-a4a8-49c4-b4ce-e7ff2e56b896",
   "metadata": {},
   "outputs": [
    {
     "data": {
      "image/png": "[encoded data removed]",
      "text/plain": [
       "<Figure size 640x480 with 1 Axes>"
      ]
     },
     "metadata": {},
     "output_type": "display_data"
    }
   ],
   "source": [
    "#Array with the dates\n",
    "list_dates= set(data_rec['date'])\n",
    "date_list=[[[],[]], [[],[]], [[],[]], [[],[]]]\n",
    "\n",
    "for data in data_rec:\n",
    "    if data['date']== '19/05/22' or data['date']== '19/05/21':\n",
    "        date_list[0][0].append(data['nu_GHz'])\n",
    "        date_list[0][1].append(data['flux_mJy'])\n",
    "    if data['date']== '19/06/19':\n",
    "        date_list[1][0].append(data['nu_GHz'])\n",
    "        date_list[1][1].append(data['flux_mJy'])\n",
    "    if data['date']== '19/08/08' or  data['date']== '19/08/07':\n",
    "        date_list[2][0].append(data['nu_GHz'])\n",
    "        date_list[2][1].append(data['flux_mJy'])\n",
    "    if data['date']== '19/10/05':\n",
    "        date_list[3][0].append(data['nu_GHz'])\n",
    "        date_list[3][1].append(data['flux_mJy'])\n",
    "        \n",
    "#First optical detection was 2019 april 9\n",
    "\n",
    "plt.errorbar(date_list[0][0], date_list[0][1], yerr= data['eflux_mJy'],fmt= '.',capsize= 2 , c='blue',\n",
    "             zorder=8, label=str(DaysSinceDetection('19/05/22')))\n",
    "plt.errorbar(date_list[1][0], date_list[1][1], yerr= data['eflux_mJy'],fmt= '.',capsize= 2 , c='orange',\n",
    "             zorder=8, label=str(DaysSinceDetection('19/06/19')))\n",
    "plt.errorbar(date_list[2][0], date_list[2][1], yerr= data['eflux_mJy'],fmt= '.',capsize= 2 , c='green',\n",
    "             zorder=8, label=str(DaysSinceDetection('19/08/08')))\n",
    "plt.errorbar(date_list[3][0], date_list[3][1], yerr= data['eflux_mJy'],fmt= '.',capsize= 2 , c='red',\n",
    "             zorder=8, label=str(DaysSinceDetection('19/10/05')))\n",
    "     \n",
    "\n",
    "plt.yscale('log')\n",
    "plt.xscale('log')\n",
    "plt.xlabel(f\"Frequency (GHz)\")\n",
    "plt.ylabel(f'Flux density (mJy)')\n",
    "plt.title('Flux density at different frequencies')\n",
    "plt.legend()\n",
    "plt.show()"
   ]
  },
  {
   "cell_type": "markdown",
   "id": "210d0a6f-150d-45e1-b60c-4dddc4337a98",
   "metadata": {},
   "source": [
    "Now we will be defining the model to fit the data"
   ]
  }
 ],
 "metadata": {
  "kernelspec": {
   "display_name": "Python 3 (ipykernel)",
   "language": "python",
   "name": "python3"
  },
  "language_info": {
   "codemirror_mode": {
    "name": "ipython",
    "version": 3
   },
   "file_extension": ".py",
   "mimetype": "text/x-python",
   "name": "python",
   "nbconvert_exporter": "python",
   "pygments_lexer": "ipython3",
   "version": "3.11.7"
  }
 },
 "nbformat": 4,
 "nbformat_minor": 5
}
