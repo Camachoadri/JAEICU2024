{
 "cells": [
  {
   "cell_type": "markdown",
   "id": "560eefc5-6906-4c55-9588-b63312c8ad2b",
   "metadata": {},
   "source": [
    "In this project we will summarize and compute the principal physical quantities in a synchrotron emission. We will use atropy units module for this purpose and we will base ourselves on NRAO book chapter 5 (https://www.cv.nrao.edu/~sransom/web/Ch5.html) and ThunderBooks basics course (https://github.com/robfender/ThunderBooks/blob/master/Basics.ipynb)"
   ]
  },
  {
   "cell_type": "markdown",
   "id": "fa5202d4-2cdc-4674-941e-33745cb53725",
   "metadata": {},
   "source": [
    "## 1. Introducción"
   ]
  },
  {
   "cell_type": "code",
   "execution_count": 7,
   "id": "7159bd78-4296-4b1c-ad3c-f12a4e125954",
   "metadata": {},
   "outputs": [],
   "source": [
    "import numpy as np\n",
    "import matplotlib.pyplot as plt\n",
    "\n",
    "#Packages to make an interactive plot\n",
    "from ipywidgets import interact, interactive, fixed, interact_manual\n",
    "import ipywidgets as widget\n",
    "\n",
    "#Packages for using tables and units in astropy\n",
    "from astropy.table import QTable\n",
    "import astropy.units as u\n",
    "from astropy.io import ascii\n",
    "\n",
    "#Astropy module to handle units\n",
    "from astropy import units as u\n",
    "from astropy.units import Quantity\n",
    "from astropy import constants as const\n",
    "\n",
    "#Importing the constant that will be needed\n",
    "from astropy.constants import c, k_B"
   ]
  },
  {
   "cell_type": "markdown",
   "id": "5dc09d65-6a68-4de8-a30a-c177ffdb7323",
   "metadata": {},
   "source": [
    "Now we define a set of functions that will be used along the project, first one will give the size of an expanding object"
   ]
  },
  {
   "cell_type": "code",
   "execution_count": 26,
   "id": "137b343f-2413-41c4-9eb7-5ba58a5ccf5a",
   "metadata": {},
   "outputs": [],
   "source": [
    "def sizefromt(t,v):\n",
    "    \"\"\"\n",
    "    sizefromt gives the radius (meter) and volume (meter^3) that a object starting as a point and expanding a time t\n",
    "    with constant speed v will have. If units are desired at the output, they must be inserted in the parameters with unit\n",
    "    module\n",
    "\n",
    "    Parameters\n",
    "    :t: Time of the evolution\n",
    "    :v: Speed at which the object is expanding\n",
    "\n",
    "    Output\n",
    "    :r: Radius of the object at t\n",
    "    :V: Volume of the object at t\n",
    "    \"\"\"\n",
    "\n",
    "    r=t*v\n",
    "    V=((4.0/3.0)*np.pi*(r**3.0)) \n",
    "\n",
    "    return (r,V)"
   ]
  },
  {
   "cell_type": "markdown",
   "id": "56f3a969-1ab6-4380-9c88-b3d6d4c65c30",
   "metadata": {},
   "source": [
    "We will be using solid angles in different expression so it is convenient to make a function on order to get it from the source size and distance."
   ]
  },
  {
   "cell_type": "code",
   "execution_count": null,
   "id": "c1abdd3f-05fe-4358-9e18-812966c4c195",
   "metadata": {},
   "outputs": [],
   "source": [
    "def solidangle(r,d):\n",
    "    \"\"\"\n",
    "    solidangle gives the solid angle of a source at distance d and size r in the small angle approximation.If units are \n",
    "    desired at the output, they must be inserted in the parameters with unit module\n",
    "\n",
    "    Parameters\n",
    "    :r: size of the source\n",
    "    :d: distance from Earth to source\n",
    "\n",
    "    Outputs\n",
    "    :omega: solid angle of the source\n",
    "    \"\"\"\n",
    "\n",
    "    omega= np.pi * (r**2)/(d**2)\n",
    "    return omega"
   ]
  }
 ],
 "metadata": {
  "kernelspec": {
   "display_name": "Python 3 (ipykernel)",
   "language": "python",
   "name": "python3"
  },
  "language_info": {
   "codemirror_mode": {
    "name": "ipython",
    "version": 3
   },
   "file_extension": ".py",
   "mimetype": "text/x-python",
   "name": "python",
   "nbconvert_exporter": "python",
   "pygments_lexer": "ipython3",
   "version": "3.11.7"
  }
 },
 "nbformat": 4,
 "nbformat_minor": 5
}
