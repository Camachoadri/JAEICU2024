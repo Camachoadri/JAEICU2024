{
 "cells": [
  {
   "cell_type": "markdown",
   "id": "560eefc5-6906-4c55-9588-b63312c8ad2b",
   "metadata": {},
   "source": [
    "In this project we will summarize and compute the principal physical quantities in a synchrotron emission. We will use atropy units module for this purpose and we will base ourselves on NRAO book chapter 5 (https://www.cv.nrao.edu/~sransom/web/Ch5.html) and ThunderBooks basics course (https://github.com/robfender/ThunderBooks/blob/master/Basics.ipynb). A deeper explanation is found on NRAO book chapter 5 (https://www.cv.nrao.edu/~sransom/web/Ch5.html)."
   ]
  },
  {
   "cell_type": "markdown",
   "id": "fa5202d4-2cdc-4674-941e-33745cb53725",
   "metadata": {},
   "source": [
    "## 1. Introducción"
   ]
  },
  {
   "cell_type": "code",
   "execution_count": 1,
   "id": "7159bd78-4296-4b1c-ad3c-f12a4e125954",
   "metadata": {},
   "outputs": [],
   "source": [
    "import numpy as np\n",
    "import matplotlib.pyplot as plt\n",
    "\n",
    "#Packages to make an interactive plot\n",
    "from ipywidgets import interact, interactive, fixed, interact_manual\n",
    "import ipywidgets as widget\n",
    "\n",
    "#Packages for using tables and units in astropy\n",
    "from astropy.table import QTable\n",
    "import astropy.units as u\n",
    "from astropy.io import ascii\n",
    "\n",
    "#Astropy module to handle units\n",
    "from astropy import units as u\n",
    "from astropy.units import Quantity\n",
    "from astropy import constants as const\n",
    "\n",
    "#Importing the constant that will be needed\n",
    "from astropy.constants import c, k_B,m_e,e"
   ]
  },
  {
   "cell_type": "markdown",
   "id": "5dc09d65-6a68-4de8-a30a-c177ffdb7323",
   "metadata": {},
   "source": [
    "Now we define a set of functions that will be used along the project, first one will give the size of an expanding object"
   ]
  },
  {
   "cell_type": "code",
   "execution_count": 2,
   "id": "137b343f-2413-41c4-9eb7-5ba58a5ccf5a",
   "metadata": {},
   "outputs": [],
   "source": [
    "def sizefromt(t,v):\n",
    "    \"\"\"\n",
    "    sizefromt gives the radius (meter) and volume (meter^3) that a object starting as a point and expanding a time t\n",
    "    with constant speed v will have. If units are desired at the output, they must be inserted in the parameters with unit\n",
    "    module\n",
    "\n",
    "    Parameters\n",
    "    :t: Time of the evolution\n",
    "    :v: Speed at which the object is expanding\n",
    "\n",
    "    Output\n",
    "    :r: Radius of the object at t\n",
    "    :V: Volume of the object at t\n",
    "    \"\"\"\n",
    "    #Checking that input has units equivalent to the right ones\n",
    "    t=t.to(u.s)\n",
    "    v=v.to(u.m/u.s)\n",
    "    \n",
    "    #Applying simple trigonometrical expressions\n",
    "    r=t*v\n",
    "    V=((4.0/3.0)*np.pi*(r**3.0)) \n",
    "\n",
    "    return (r,V)"
   ]
  },
  {
   "cell_type": "markdown",
   "id": "56f3a969-1ab6-4380-9c88-b3d6d4c65c30",
   "metadata": {},
   "source": [
    "We will be using solid angles in different expression so it is convenient to make a function on order to get it from the source size and distance."
   ]
  },
  {
   "cell_type": "code",
   "execution_count": 3,
   "id": "c1abdd3f-05fe-4358-9e18-812966c4c195",
   "metadata": {},
   "outputs": [],
   "source": [
    "def solidangle(r,d):\n",
    "    \"\"\"\n",
    "    solidangle gives the solid angle of a source at distance d and size r in the small angle approximation.If units are \n",
    "    desired at the output, they must be inserted in the parameters with unit module\n",
    "\n",
    "    Parameters\n",
    "    :r: size of the source\n",
    "    :d: distance from Earth to source\n",
    "\n",
    "    Outputs\n",
    "    :omega: solid angle of the source\n",
    "    \"\"\"\n",
    "    #Applying the expresion for the solid angle in the small angle approximation\n",
    "    omega= np.pi * (r**2)/(d**2)\n",
    "    return omega"
   ]
  },
  {
   "cell_type": "code",
   "execution_count": 4,
   "id": "264f080b-a627-4e48-84da-dc9d4d56cc49",
   "metadata": {},
   "outputs": [],
   "source": [
    "def LogLogPlot(x, y, xlabel, ylabel):\n",
    "    \"\"\"\n",
    "    LogLogplot plots a graphic of a given set of points (x,y) with specific y and x labels\n",
    "\n",
    "    Parameters\n",
    "    :x: x values of the set of points\n",
    "    :y: y values of the set of points\n",
    "    :xlabel: Label for the x axis\n",
    "    :ylabel: label for the y axis\n",
    "    \"\"\"\n",
    "    #Plotting the points\n",
    "    plt.plot(x,y)\n",
    "    #Making the labels\n",
    "    plt.xlabel(xlabel)\n",
    "    plt.ylabel(ylabel)"
   ]
  },
  {
   "cell_type": "markdown",
   "id": "2ab5f149-d55e-4715-94f9-b2704f2fa00f",
   "metadata": {},
   "source": [
    "## 2. Basic Calculus."
   ]
  },
  {
   "cell_type": "markdown",
   "id": "06b35436-3c35-451e-9447-9d7dd6a2b8f8",
   "metadata": {},
   "source": [
    "### 2.1 Frequencies, energy and gamma relation."
   ]
  },
  {
   "cell_type": "markdown",
   "id": "a1436099-1365-4b44-a5a0-1b34fb786bb0",
   "metadata": {},
   "source": [
    "A relativistic electron on a magnetic frield radiates energy (synchrotron) peaked at a frequency $\\nu_c$ wich can be related to the energy radiated by a non relativistic electron a a magnetic field (cyclotron) peaked at a frequency $\\nu_g$ with the expression\n",
    "$$\n",
    "    \\nu_c=\\frac{\\gamma^2eB}{2\\pi m_e c}.\n",
    "$$\n",
    "\n",
    "In the practice, when we make an observation, we measure the frequancy at wich we see the peak, and with that we want to infer the characteristics of the electron and the medium. The peak in frequency observed will be related with electrons with a $\\gamma$ given by the following expression\n",
    "$$\n",
    "    \\gamma= \\sqrt{\\frac{2\\pi m_e \\nu_c}{eB}}. \n",
    "$$\n",
    "(EXPRESION NO CONCUERDA 5.81 NRAO CON THUNDERBOOK Y LA DE NRAO NO TIENE SENTIDO UNIDADES)\n",
    "\n",
    "A simple code can be done in order to get this $\\gamma$ factor in function of the observed peak frequency."
   ]
  },
  {
   "cell_type": "code",
   "execution_count": 5,
   "id": "3a66a0c7-428a-4ffc-8d92-93bd1396690e",
   "metadata": {},
   "outputs": [],
   "source": [
    "def gamma(v, B):\n",
    "    \"\"\"\n",
    "    gamma receives the frequency at wich we are observing the peak of emission and the magnetic field associated with the \n",
    "    synchrotron emission and returns the gamma factor associated with the electrons producing the radiation\n",
    "\n",
    "    Parameters\n",
    "    :v: frequency at with we observe the peak\n",
    "    :B: modulus of the amgnetic field at the synchrotron region\n",
    "\n",
    "    Outputs\n",
    "    :gamma: gamma factor asociated with the relativistic electrons\n",
    "    \"\"\"\n",
    "    #Converting parameters to SI so it is also checked that they are in units equivalent to Hz and Tesla\n",
    "    v= v.to(u.Hz)\n",
    "    B = B.to(u.Tesla)\n",
    "    \n",
    "    #Computing the gamma using the constant with respective units\n",
    "    gamma= (2*np.pi*const.m_e*v/(const.e.si*B))**0.5\n",
    "\n",
    "    #Output the value with reduced units\n",
    "    return gamma"
   ]
  },
  {
   "cell_type": "code",
   "execution_count": 6,
   "id": "f6f91098-e5e0-424e-8886-50b3c5dbe706",
   "metadata": {},
   "outputs": [],
   "source": [
    "def egammaenergy(gamma):\n",
    "    \"\"\"\n",
    "    egammaenergy gives the energy (in MeV) of an electron given its gamma factor\n",
    "\n",
    "    Parameters\n",
    "    :gamma: gamma factor of the electron\n",
    "\n",
    "    Output\n",
    "    :energy: Relativistic energy of the electron in MeV\n",
    "    \"\"\"\n",
    "\n",
    "    #Computing and output the energy with units\n",
    "    energy= const.m_e*gamma*const.c**2\n",
    "    return energy.to(u.MeV)"
   ]
  },
  {
   "cell_type": "markdown",
   "id": "128e669d-b38f-4132-b7d1-0d85ad55cff8",
   "metadata": {},
   "source": [
    "### 2.2 Brightness temperature."
   ]
  },
  {
   "cell_type": "markdown",
   "id": "ec4ac9c7-54c9-4bdd-842a-4048d721814f",
   "metadata": {},
   "source": [
    "Brightness temperature of an object is defined as the temperature that a black body with the same size will need in order to produce the same flux at that frequency. It is a very usefull maximum, synchrotron maximun emission is around $10^{12} K$ so temepratures above this are either due bad assumption, doppler boost or coherent emission. Brightness temperature can be written as\n",
    "$$\n",
    "    T_B= \\frac{S_\\nu c^2}{2 K_B \\Omega \\nu^2}\n",
    "$$"
   ]
  },
  {
   "cell_type": "code",
   "execution_count": 7,
   "id": "1d44fe06-9a03-4b8b-9000-de8d091484ed",
   "metadata": {},
   "outputs": [],
   "source": [
    "def TB(S, R, d, v):\n",
    "    \"\"\"\n",
    "    TB gives the brightness temperature for a given flux, radius and frequency. It assumes small angle approximation and \n",
    "    circular shape of the source\n",
    "\n",
    "    Parameters\n",
    "    :S: flux of the source\n",
    "    :R: radius of the source\n",
    "    :d: distance from earth to source \n",
    "    :v: frequency at wich we want to calculate the brightness temperature\n",
    "\n",
    "    Output\n",
    "    :TB: brightness temperature \n",
    "    \"\"\"\n",
    "\n",
    "    #Makign sure every input is on a unit equivalent to a valid one\n",
    "    S=S.to(u.Jy)\n",
    "    R= R.to(u.m)\n",
    "    d= d.to(u.m)\n",
    "    v= v.to(u.Hz)\n",
    "\n",
    "    #Computing the brightness temperature\n",
    "    TB= S*const.c**2/(2*const.k_B*solidangle(R,d)*v**2)\n",
    "    return TB.to(u.K)"
   ]
  },
  {
   "cell_type": "markdown",
   "id": "d78f944b-8b20-4444-9759-b34d41f443e7",
   "metadata": {},
   "source": [
    "When we do not have a resolved source we can constrain the size of the source by variability timescale and get a lower limit for the brightness temperature."
   ]
  },
  {
   "cell_type": "code",
   "execution_count": 8,
   "id": "f06cb02b-e9f1-43d9-8e70-795ef6c1081e",
   "metadata": {},
   "outputs": [],
   "source": [
    "def TBfromt(S, t, d, v):\n",
    "    \"\"\"\n",
    "    TBfromt gives a lower limit for brightness temperature for a given flux, frequency and variability timescale. \n",
    "    It assumes small angle approximation and circular shape of the source\n",
    "\n",
    "    Parameters\n",
    "    :S: flux of the source\n",
    "    :t: variability timescale\n",
    "    :d: distance from earth to source \n",
    "    :v: frequency at wich we want to calculate the brightness temperature\n",
    "\n",
    "    Output\n",
    "    :TB: brightness temperature lower limit\n",
    "    \"\"\"\n",
    "\n",
    "    #Making sure every input is on a unit equivalent to a valid one\n",
    "    S= S.to(u.Jy)\n",
    "    t= t.to(u.s)\n",
    "    d= d.to(u.m)\n",
    "    v= v.to(u.Hz)\n",
    "\n",
    "    #Getting the radius from variability timescale\n",
    "    R=sizefromt(t,const.c)[0]\n",
    "    \n",
    "    #Computing the brightness temperature\n",
    "    TB= S*const.c**2/(2*const.k_B*solidangle(R,d)*v**2)\n",
    "    return TB.to(u.K)"
   ]
  },
  {
   "cell_type": "markdown",
   "id": "bf501ab4-f4e6-4127-a1f2-1f0507b4082b",
   "metadata": {},
   "source": [
    "## 3. Minimun Energy."
   ]
  },
  {
   "cell_type": "markdown",
   "id": "fd187c3f-0fbc-441b-bfd8-60aa320d0076",
   "metadata": {},
   "source": [
    "It can be shown (NRAO Chapter 5) that a synchrotron source energies stored in electrons and magentic field are proportional to the magnetic field as\n",
    "$$\n",
    "    U_e \\propto B^{-3/2} ~~~~~~ U_B \\propto B^2.\n",
    "$$\n",
    "\n",
    "We can assume that the total energy is only given by cosmic rays and magnetic fields, i.e, $U=(1+\\beta)U_e+U_B$, where $\\beta$ is the ion-electron energy ratio. Under this asumption, the minimun of the energy in function of B can be found and relates the energies as\n",
    "$$\n",
    "    (1+\\beta)U_e= \\frac{3}{4} E_e.\n",
    "$$\n",
    "since they both are so symillar this is the so called equipartition principle."
   ]
  },
  {
   "cell_type": "markdown",
   "id": "d32523db-eaa0-4f45-ada6-10e03b8c8bc4",
   "metadata": {},
   "source": [
    "### 3.1 simple model for showing equipartition."
   ]
  },
  {
   "cell_type": "markdown",
   "id": "c9f8751e-607d-4260-97b3-27d6877f9dc0",
   "metadata": {},
   "source": [
    "Longair made a simplified formula for medium with spectral index $\\alpha=0.75$ with \n",
    "$$\n",
    "    E_{min,SI} \\approx 3\\cdot 10^6 \\eta^{4 / 7} V^{3 / 7} \\nu^{2 / 7} L^{4 / 7}~~J,\n",
    "$$\n",
    "where V is the emitting volume, $\\nu$ is the observed frequency, $L$ is the specific luminosity and every magnitude is on the international system. The magnetic field at this minimun energy is given by\n",
    "$$\n",
    "    B_{\\operatorname{minE}, \\mathrm{SI}}=1.8\\left(\\frac{\\eta L_\\nu}{V}\\right)^{2 / 7} \\nu^{1 / 7}~~T,\n",
    "$$\n",
    "where $\\eta=1+\\beta$."
   ]
  },
  {
   "cell_type": "code",
   "execution_count": 9,
   "id": "6e23cc2a-a701-47fb-bb4a-216a33b9b6d4",
   "metadata": {},
   "outputs": [],
   "source": [
    "def Lum(S,d):\n",
    "    \"\"\"\n",
    "    Lum calculates the luminosity of an object with a given observed flux density and it's distance from Earth\n",
    "\n",
    "    Parameters\n",
    "    :S: object observed flux density\n",
    "    :d: object distance from Earth\n",
    "\n",
    "    Output\n",
    "    :Lum: luminosity of the object\n",
    "    \"\"\"\n",
    "\n",
    "    #Checking units\n",
    "    S= S.to(u.Jy)\n",
    "    d= d.to(u.m)\n",
    "\n",
    "    #Computing the luminosity\n",
    "    L= 4*np.pi*d**2*S\n",
    "    return L"
   ]
  },
  {
   "cell_type": "code",
   "execution_count": 10,
   "id": "d0562435-1869-4961-8739-e1d2bfa726b1",
   "metadata": {},
   "outputs": [],
   "source": [
    "def LongairMinE(eta, V, v, L):\n",
    "    \"\"\"\n",
    "    LongairMinE gives the minimun energy given a electron-proton energy ratio, a volume of emission, frequency of the \n",
    "    observed radiation and luminosity observed.\n",
    "\n",
    "    Parameters\n",
    "    :eta: fraction of energy carried by electron and ions\n",
    "    :V: total volume of emission\n",
    "    :v: frequency of observed radiation\n",
    "    :L: luminosity of the object\n",
    "\n",
    "    Output\n",
    "    :Emin: minimun energy of the system\n",
    "    \"\"\"\n",
    "\n",
    "    #Check that every input is on the right magnitudes\n",
    "    eta= eta*u.dimensionless_unscaled\n",
    "    V= V.to(u.m**3)\n",
    "    v= v.to(u.Hz)\n",
    "    L= L.to(u.W/u.Hz)\n",
    "\n",
    "    #Computing the minimun energy and putting it in J as the expression indicates\n",
    "    Emin= (3*10**6*eta**(4/7)*V**(3/7)*v**(2/7)*L**(4/7))\n",
    "    return Emin.value*u.J"
   ]
  },
  {
   "cell_type": "code",
   "execution_count": 35,
   "id": "ba8b5dc5-f4dc-424f-8689-358c1ae18bee",
   "metadata": {},
   "outputs": [],
   "source": [
    "def BminE(eta, V, v, L):\n",
    "    \"\"\"\n",
    "    BminE gives the value of the magnetic field at the minumun energy\n",
    "\n",
    "    Parameters\n",
    "    :eta: fraction of energy carried by electron and ions\n",
    "    :V: total volume of emission\n",
    "    :v: frequency of observed radiation\n",
    "    :L: luminosity of the object\n",
    "    \n",
    "    Outputs\n",
    "    :BminE: value of the magnetic field at the energy minimun\n",
    "    \"\"\"\n",
    "    #Checking units\n",
    "    eta= eta*u.dimensionless_unscaled\n",
    "    V= V.to(u.m**3)\n",
    "    v= v.to(u.Hz)\n",
    "    L= L.to(u.W/u.Hz)\n",
    "    \n",
    "    BminE= 1.8*(eta*L/V)**(2/7)*v**(1/7)\n",
    "    return BminE.value*u.Tesla"
   ]
  },
  {
   "cell_type": "markdown",
   "id": "2e091c04-e02a-4629-9ef0-82a15fbee4a7",
   "metadata": {},
   "source": [
    "Let's plot the energies and see the equipartition principle. By the above expressions we know the value of magnetic field that minimices energy, and by the bove relation how the energy contained in electrons and magnetic field varies with the magnetic field, so assuming equipartition at the minimun, we can get the enery of each field at every B other than the B that minimices energy."
   ]
  },
  {
   "cell_type": "code",
   "execution_count": 51,
   "id": "abdbfee2-b80f-4b17-a774-513db77f0ad6",
   "metadata": {},
   "outputs": [
    {
     "data": {
      "text/plain": [
       "<matplotlib.legend.Legend at 0x7f2198fd1c90>"
      ]
     },
     "execution_count": 51,
     "metadata": {},
     "output_type": "execute_result"
    },
    {
     "data": {
      "image/png": "[encoded data removed]",
      "text/plain": [
       "<Figure size 1200x800 with 1 Axes>"
      ]
     },
     "metadata": {},
     "output_type": "display_data"
    }
   ],
   "source": [
    "#x will be a set of values of he magnetic field that minimices energy, volume is calculated y timescale\n",
    "Bmin= BminE(1, sizefromt(1800*u.s,const.c)[1] , 1100*u.Hz, Lum(50*u.Jy,11000*u.pc))\n",
    "x=np.linspace(B/100,B*100,10000)\n",
    "\n",
    "#Defining the energy of the electrons and the energy of the magnetic field, according to previus expressions\n",
    "minE= LongairMinE(1, sizefromt(1800*u.s,const.c)[1] , 1100*u.Hz, Lum(50*u.Jy,11000*u.pc))\n",
    "#Assuming equipartition, both fields have same energy at the minumun, and know how they vary with B\n",
    "Ee= minE*(x/Bmin)**(-1.5)\n",
    "Eb= minE*(x/Bmin)**(2.)\n",
    "Etot= Ee +Eb\n",
    "\n",
    "#Plotting the result and see how the energy behaves with B variations around the B that minimices energy\n",
    "plt.figure(figsize=(12,8))\n",
    "plt.yscale('log')\n",
    "plt.xscale('log')\n",
    "plt.plot(x,Ee,'r',label=\"Electrons\")\n",
    "plt.plot(x,Eb,'b',label=\"Magnetic Field\")\n",
    "plt.plot(x,Etot,'g', label=\"Total Energy\")\n",
    "plt.xlabel(f'B ({Bmin.unit})')\n",
    "plt.ylabel(f'Energy ({Etot.unit})')\n",
    "plt.title('Energy as a function of B')\n",
    "plt.legend()"
   ]
  },
  {
   "cell_type": "markdown",
   "id": "742b6fbf-7fd7-4b68-b3e4-623deb137b62",
   "metadata": {},
   "source": [
    "### 3.2 Synchrotron emission from a power law electron distribution."
   ]
  },
  {
   "cell_type": "code",
   "execution_count": null,
   "id": "6999f5e0-fc6a-4636-b7dd-90273c08d01c",
   "metadata": {},
   "outputs": [],
   "source": [
    "    "
   ]
  }
 ],
 "metadata": {
  "kernelspec": {
   "display_name": "Python 3 (ipykernel)",
   "language": "python",
   "name": "python3"
  },
  "language_info": {
   "codemirror_mode": {
    "name": "ipython",
    "version": 3
   },
   "file_extension": ".py",
   "mimetype": "text/x-python",
   "name": "python",
   "nbconvert_exporter": "python",
   "pygments_lexer": "ipython3",
   "version": "3.11.7"
  }
 },
 "nbformat": 4,
 "nbformat_minor": 5
}
