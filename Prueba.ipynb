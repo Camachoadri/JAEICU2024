{
 "cells": [
  {
   "cell_type": "code",
   "execution_count": null,
   "id": "15fa3c15-58db-40d1-925d-0de258862e8f",
   "metadata": {},
   "outputs": [],
   "source": [
    "segunda prueba\n"
   ]
  }
 ],
 "metadata": {
  "kernelspec": {
   "display_name": "Python 3 (ipykernel)",
   "language": "python",
   "name": "python3"
  },
  "language_info": {
   "codemirror_mode": {
    "name": "ipython",
    "version": 3
   },
   "file_extension": ".py",
   "mimetype": "text/x-python",
   "name": "python",
   "nbconvert_exporter": "python",
   "pygments_lexer": "ipython3",
   "version": "3.11.7"
  }
 },
 "nbformat": 4,
 "nbformat_minor": 5
}
