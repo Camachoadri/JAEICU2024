{
 "cells": [
  {
   "cell_type": "code",
   "execution_count": 20,
   "id": "265fe030-fbb8-4be3-8f71-ca8196db47fa",
   "metadata": {},
   "outputs": [],
   "source": [
    "import numpy as np\n",
    "import matplotlib.pyplot as plt\n",
    "import scipy\n",
    "\n",
    "#gamma function and integration\n",
    "from scipy import special, optimize\n",
    "from scipy import integrate\n",
    "\n",
    "\n",
    "#Fitting the spectrum\n",
    "from scipy.optimize import curve_fit\n",
    "\n",
    "\n",
    "#Using csv tables\n",
    "import pandas as pd\n",
    "\n",
    "#Astropy module to handle units\n",
    "from astropy import units as u\n",
    "from astropy.units import Quantity\n",
    "from astropy import constants as const\n",
    "\n",
    "#Importing the constant that will be needed\n",
    "from astropy.constants import c, k_B, m_e, e"
   ]
  },
  {
   "cell_type": "markdown",
   "id": "69a8c9a3-86fc-4ead-8fe3-38a63c063434",
   "metadata": {},
   "source": [
    "The goal of this notebook is to fit the radio emission of the supernova 1993J, data can be extracted from https://iopscience.iop.org/article/10.1086/523258/pdf and is also aviable in this Github. "
   ]
  },
  {
   "cell_type": "markdown",
   "id": "179c1ad7-625b-4a0a-8bad-06fa87d44d9e",
   "metadata": {
    "jp-MarkdownHeadingCollapsed": true
   },
   "source": [
    "# 1. Introduction."
   ]
  },
  {
   "cell_type": "markdown",
   "id": "784d74f9-2ec6-4ae3-bf7f-ade264462657",
   "metadata": {},
   "source": [
    "First, we need to save all the spectrum data in python variables."
   ]
  },
  {
   "cell_type": "code",
   "execution_count": 21,
   "id": "53d320f5-f210-4a74-9dd5-208932c6c1f4",
   "metadata": {},
   "outputs": [
    {
     "data": {
      "text/html": [
       "<div>\n",
       "<style scoped>\n",
       "    .dataframe tbody tr th:only-of-type {\n",
       "        vertical-align: middle;\n",
       "    }\n",
       "\n",
       "    .dataframe tbody tr th {\n",
       "        vertical-align: top;\n",
       "    }\n",
       "\n",
       "    .dataframe thead th {\n",
       "        text-align: right;\n",
       "    }\n",
       "</style>\n",
       "<table border=\"1\" class=\"dataframe\">\n",
       "  <thead>\n",
       "    <tr style=\"text-align: right;\">\n",
       "      <th></th>\n",
       "      <th>Days</th>\n",
       "      <th>Telescope</th>\n",
       "      <th>Flux</th>\n",
       "      <th>Error</th>\n",
       "    </tr>\n",
       "  </thead>\n",
       "  <tbody>\n",
       "    <tr>\n",
       "      <th>0</th>\n",
       "      <td>11.37</td>\n",
       "      <td>VLA B</td>\n",
       "      <td>18.940</td>\n",
       "      <td>1.905</td>\n",
       "    </tr>\n",
       "    <tr>\n",
       "      <th>1</th>\n",
       "      <td>12.33</td>\n",
       "      <td>VLA B</td>\n",
       "      <td>22.487</td>\n",
       "      <td>2.261</td>\n",
       "    </tr>\n",
       "    <tr>\n",
       "      <th>2</th>\n",
       "      <td>13.04</td>\n",
       "      <td>VLA B</td>\n",
       "      <td>25.753</td>\n",
       "      <td>2.576</td>\n",
       "    </tr>\n",
       "    <tr>\n",
       "      <th>3</th>\n",
       "      <td>13.46</td>\n",
       "      <td>VLA B</td>\n",
       "      <td>25.550</td>\n",
       "      <td>2.578</td>\n",
       "    </tr>\n",
       "    <tr>\n",
       "      <th>4</th>\n",
       "      <td>14.25</td>\n",
       "      <td>VLA B</td>\n",
       "      <td>28.640</td>\n",
       "      <td>2.875</td>\n",
       "    </tr>\n",
       "    <tr>\n",
       "      <th>...</th>\n",
       "      <td>...</td>\n",
       "      <td>...</td>\n",
       "      <td>...</td>\n",
       "      <td>...</td>\n",
       "    </tr>\n",
       "    <tr>\n",
       "      <th>77</th>\n",
       "      <td>3213.38</td>\n",
       "      <td>VLA D/A</td>\n",
       "      <td>2.495</td>\n",
       "      <td>0.282</td>\n",
       "    </tr>\n",
       "    <tr>\n",
       "      <th>78</th>\n",
       "      <td>3708.93</td>\n",
       "      <td>VLA A</td>\n",
       "      <td>1.928</td>\n",
       "      <td>0.237</td>\n",
       "    </tr>\n",
       "    <tr>\n",
       "      <th>79</th>\n",
       "      <td>3959.47</td>\n",
       "      <td>VLA B/C</td>\n",
       "      <td>1.792</td>\n",
       "      <td>0.191</td>\n",
       "    </tr>\n",
       "    <tr>\n",
       "      <th>80</th>\n",
       "      <td>4184.57</td>\n",
       "      <td>VLA A</td>\n",
       "      <td>0.967</td>\n",
       "      <td>0.217</td>\n",
       "    </tr>\n",
       "    <tr>\n",
       "      <th>81</th>\n",
       "      <td>4460.90</td>\n",
       "      <td>VLA B/C</td>\n",
       "      <td>0.897</td>\n",
       "      <td>0.139</td>\n",
       "    </tr>\n",
       "  </tbody>\n",
       "</table>\n",
       "<p>82 rows × 4 columns</p>\n",
       "</div>"
      ],
      "text/plain": [
       "       Days Telescope    Flux  Error\n",
       "0     11.37     VLA B  18.940  1.905\n",
       "1     12.33     VLA B  22.487  2.261\n",
       "2     13.04     VLA B  25.753  2.576\n",
       "3     13.46     VLA B  25.550  2.578\n",
       "4     14.25     VLA B  28.640  2.875\n",
       "..      ...       ...     ...    ...\n",
       "77  3213.38   VLA D/A   2.495  0.282\n",
       "78  3708.93     VLA A   1.928  0.237\n",
       "79  3959.47   VLA B/C   1.792  0.191\n",
       "80  4184.57     VLA A   0.967  0.217\n",
       "81  4460.90   VLA B/C   0.897  0.139\n",
       "\n",
       "[82 rows x 4 columns]"
      ]
     },
     "execution_count": 21,
     "metadata": {},
     "output_type": "execute_result"
    }
   ],
   "source": [
    "#Initialice the data ararys where the first value will be the wavelenght name\n",
    "data=[]\n",
    "\n",
    "data_1=[]\n",
    "data_2=[]\n",
    "data_3=[]\n",
    "data_6=[]\n",
    "data_20=[]\n",
    "\n",
    "#Extract the data\n",
    "data= pd.read_csv(\"Data/Datos SuperNova - 1.2_cm.csv\")\n",
    "data_1.extend(('1.2', data))\n",
    "\n",
    "data= pd.read_csv(\"Data/Datos SuperNova - 2_cm.csv\")\n",
    "data_2.extend(('2', data))\n",
    "\n",
    "data= pd.read_csv(\"Data/Datos SuperNova - 3.6_cm.csv\")\n",
    "data_3.extend(('3.6', data))\n",
    "\n",
    "data= pd.read_csv(\"Data/Datos SuperNova - 6_cm.csv\")\n",
    "data_6.extend(('6', data))\n",
    "\n",
    "data= pd.read_csv(\"Data/Datos SuperNova - 20_cm.csv\")\n",
    "data_20.extend(('21', data))\n",
    "\n",
    "data= []\n",
    "data.extend((data_1, data_2, data_3, data_6, data_20))\n",
    "\n",
    "#visualice the data, Flux is in mJy\n",
    "data[0][1]"
   ]
  },
  {
   "cell_type": "markdown",
   "id": "f9aa0469-1d74-46bd-b5a2-af5f68d7854d",
   "metadata": {},
   "source": [
    "Making a plot to visualice the data."
   ]
  },
  {
   "cell_type": "code",
   "execution_count": 22,
   "id": "dfa64b0f-4ebd-4cec-a9bc-ca14f0465a21",
   "metadata": {},
   "outputs": [
    {
     "data": {
      "text/plain": [
       "<matplotlib.legend.Legend at 0x7fa7ac78a550>"
      ]
     },
     "execution_count": 22,
     "metadata": {},
     "output_type": "execute_result"
    },
    {
     "data": {
      "image/png": "[encoded data removed]",
      "text/plain": [
       "<Figure size 640x480 with 1 Axes>"
      ]
     },
     "metadata": {},
     "output_type": "display_data"
    }
   ],
   "source": [
    "for wavelenght in data:\n",
    "    plt.errorbar(wavelenght[1].Days, wavelenght[1].Flux, yerr=wavelenght[1].Error, \n",
    "                 fmt = '.', capsize=2, label= f'{wavelenght[0]} cm')\n",
    "plt.xscale(\"log\")\n",
    "plt.yscale(\"log\")\n",
    "plt.ylabel(\"Flux (mJy)\")\n",
    "plt.xlabel(\"Time (Days)\")\n",
    "plt.legend()"
   ]
  },
  {
   "cell_type": "code",
   "execution_count": 23,
   "id": "fcf3dc81-3187-4a55-ab5c-3061cfcce566",
   "metadata": {},
   "outputs": [
    {
     "data": {
      "text/plain": [
       "<matplotlib.legend.Legend at 0x7fa7ac602550>"
      ]
     },
     "execution_count": 23,
     "metadata": {},
     "output_type": "execute_result"
    },
    {
     "data": {
      "image/png": "[encoded data removed]",
      "text/plain": [
       "<Figure size 640x480 with 1 Axes>"
      ]
     },
     "metadata": {},
     "output_type": "display_data"
    }
   ],
   "source": [
    "#array with all the days, we will make an array with all the list, remove duplicates and order it\n",
    "DayArray=[]\n",
    "DayArray=(list(data_1[1].Days) + list(data_2[1].Days)+ list(data_3[1].Days) + list(data_6[1].Days)\n",
    "          + list(data_20[1].Days))\n",
    "\n",
    "DayArray= list(set(DayArray))\n",
    "DayArray.sort()\n",
    "\n",
    "CopyArray= DayArray.copy()\n",
    "#Remove days with less than 1 wavelenght\n",
    "for i, dayStart in enumerate(DayArray):\n",
    "    counter=0\n",
    "    for wavelenght in data:\n",
    "        for days in wavelenght[1].Days:\n",
    "            if days == dayStart:\n",
    "                counter=counter+1\n",
    "    if counter < 3:\n",
    "        CopyArray.remove(dayStart)\n",
    "        \n",
    "#Select a day for the frequency plot\n",
    "DayArray=CopyArray.copy()\n",
    "day= DayArray[20]\n",
    "\n",
    "\n",
    "\n",
    "for wavelenght in data:\n",
    "    for i, days in enumerate(wavelenght[1].Days):\n",
    "        if days==day:\n",
    "            plt.errorbar(float(wavelenght[0]), wavelenght[1].Flux[i], yerr=wavelenght[1].Error[i], \n",
    "                         fmt = '.', capsize=2, label= f'{wavelenght[0]} cm')\n",
    "\n",
    "plt.xscale(\"log\")\n",
    "plt.yscale(\"log\")\n",
    "plt.ylabel(\"Flux (mJy)\")\n",
    "plt.xlabel(\"Observing wavelenght (cm)\")\n",
    "plt.xlim(right=200)\n",
    "plt.title(f'{day} days after explosion')\n",
    "plt.legend()"
   ]
  },
  {
   "cell_type": "markdown",
   "id": "d42608e0-04b4-4cfd-ad4b-bb04ec67a1d8",
   "metadata": {},
   "source": [
    "# 2. Theoretical preview and data."
   ]
  },
  {
   "cell_type": "markdown",
   "id": "65fc540b-f7a4-4718-90e2-3955f7ae2915",
   "metadata": {
    "jp-MarkdownHeadingCollapsed": true
   },
   "source": [
    "## 2.1. Observational information."
   ]
  },
  {
   "cell_type": "markdown",
   "id": "ca6382ca-4860-4599-ac6a-b39ac8d1d121",
   "metadata": {},
   "source": [
    "In order to make this analysis we will be folowing the paper The role of synchrotron self-absorption in the late radio emission from SN 1993J (https://www.aanda.org/articles/aa/abs/2001/30/aah2783/aah2783.html)   (Pérez-Torres, Alberdi and Marcaide). We assume a modified standard interaction model (SIM), where we have a strong interaction between the supernova and the interacting medium; this interactions leads to a self-similarly expanding shell structure, and in this modified scenario the synchrotron emission comes from the shell formed short after the breakout. This emission is assumed to be due relativistic electron population $N(E,r)$ in a magnetic field $B(r)$, and that the injected electron distribution is driven by a power law\n",
    "$$\n",
    "            N(E,r)=N_0(r) E^{-p}\n",
    "$$\n",
    "We also have some more information from previus observations and asumptions: (i) distance to SN1993J is $D=3.6~Mpc$; (ii) the supernova exploded in March 28, 1993; (iii) supernova deceleration parameter is $m=0.86$; (iv) the width of the radio emiting shell is $\\Delta R = 0.3 R_{shock}$; (v) the index of the circumstellar density is $s=1.66$ and (vi) the same temperature proffile as FB98, i.e., \n",
    "$$\n",
    "        T_e(r) =max\\left[ T_{15}(10^{15}cm/r), 2 \\cdot 10^{5}~K \\right],\n",
    "$$\n",
    "where $T_{15}$ is the electron temperature in the circumstellar medium at $r= 10^{15}~cm$; in this case it is $1.7\\cdot 10^6~K$. The region change occurs for $r_l= 8.5 \\cdot 10^{15}~cm$. 4.33 e 6 a r0 probar con parametro libre esto mirar tambien los dias y el offset en el tiempo y probar tmb con 2.7 a los 10^15. ESTO ESTA MAL, LA TEMPERATURA NO ES UNA A CADA TIEMPO, ES UN PERFIL DE TEMPERATURAS CONSTANTE EN T"
   ]
  },
  {
   "cell_type": "code",
   "execution_count": 24,
   "id": "e3c609e7-e61e-4c50-88ff-ff3810ca90eb",
   "metadata": {},
   "outputs": [],
   "source": [
    "def ThermalElectronsTemp(radius):\n",
    "    \"\"\"\n",
    "    Returns the temperature of the thermal electrons in FB98 given a vector of radius in cm\n",
    "\n",
    "    Parameters\n",
    "    :radius: Radius in cm at which the temperature will be computed\n",
    "\n",
    "    Output\n",
    "    :Temperature: Array of temperature of the thermal electrons at the given radius array\n",
    "    \"\"\"\n",
    "    \n",
    "    aux= np.array(2.7e8*1e15/radius)\n",
    "    aux2= 2.5e5*np.ones(aux.shape)\n",
    "    Temperature=np.zeros(aux.shape)\n",
    "    for i in np.arange(0, aux.size):\n",
    "        Temperature[i]= max([aux[i], aux2[i]])\n",
    "    return Temperature"
   ]
  },
  {
   "cell_type": "markdown",
   "id": "eadf5729-ce79-49c6-98cb-e27999e57a91",
   "metadata": {},
   "source": [
    "From their VLBI observations we know that \n",
    "$$\n",
    "            B \\propto r^{-1} ~~~~~~~~~~~ N_0 \\propto r^{-2}.\n",
    "$$\n",
    "The fitting parameters will be: \n",
    "    (i)   the spectral index of injected electron population, p\n",
    "    (ii)  Initial magnetic field $B_0$\n",
    "    (iii) Initial value of the injected function of electrons\n",
    "    (iv)  Low energy cut for relativistic electrons $\\gamma_{min}(r_0) = E_{min}(r_0)/m_ec^2$\n",
    "The reference radius is $r_0=6.35 \\cdot 10^{14}~cm$, corresponding to the outer shell radius at their first data point $t_0=2.34~days$."
   ]
  },
  {
   "cell_type": "markdown",
   "id": "86207fd9-360d-4691-94bd-7e89070c36fe",
   "metadata": {},
   "source": [
    "The expansion will be driven by \n",
    "$$\n",
    "        R_{shock} \\propto t^{0.86},\n",
    "$$\n",
    "meaning that 36.8 days after the explosion the supernova radius will be $r_l$."
   ]
  },
  {
   "cell_type": "code",
   "execution_count": 25,
   "id": "ff31d83e-dae1-453d-a87a-714544abc378",
   "metadata": {},
   "outputs": [],
   "source": [
    "def PLradius(time, time0, r0, a=0.86):\n",
    "    \"\"\"\n",
    "    PLradius gives the radius after a given t of an expanding object with initial radius and a given speed driven by a power law\n",
    "\n",
    "    Parameters\n",
    "    :time: time of the expansion\n",
    "    :time0: reference time\n",
    "    :r0: radius at reference time\n",
    "    :a: parameter of the power law\n",
    "\n",
    "    Output\n",
    "    :r: radius at the end of the expansion\n",
    "    \"\"\"\n",
    "    \n",
    "    r=r0*(time**a)/(time0**a)\n",
    "    return r\n",
    "\n",
    "def Br(r, B0, r0, s, a=0.86):\n",
    "    \"\"\"\n",
    "    Br returns the value of the magnetic field at a given r known the value B0 at r0\n",
    "\n",
    "    Parameters\n",
    "    :r: radius at which the magnetic field will be calculated\n",
    "    :B0: magnetic field at a starting radius\n",
    "    :r0: radius at starting\n",
    "    :s: Circumstellar medium density index\n",
    "    :a: parameter of the r expansion power law\n",
    "    \n",
    "    Output\n",
    "    :Br: Magentic field at a radius r of the object\n",
    "    \"\"\"\n",
    "    \n",
    "    Br=B0*((r/r0)**(1-s/2-1/a))\n",
    "    return Br\n",
    "\n",
    "def Nr(r, N0, r0, p, s, a=0.86):\n",
    "    \"\"\"\n",
    "    Nr returns the value of the electron density at a given r known the value N0 at r0\n",
    "\n",
    "    Parameters\n",
    "    :r: radius at which the magnetic field will be calculated\n",
    "    :N0: electron density at a starting radius\n",
    "    :r0: radius at starting\n",
    "    :p: exponent of the power law\n",
    "    :s: Circumstellar medium density index\n",
    "\n",
    "    Output\n",
    "    :Nr: electron density at a radius r of the object\n",
    "    \"\"\"\n",
    "    \n",
    "    Nr=N0*(r/r0)**(2*(1-s/2-1/a))\n",
    "    return Nr"
   ]
  },
  {
   "cell_type": "markdown",
   "id": "9092ad1f-0fcf-40d4-94f9-d02461562377",
   "metadata": {},
   "source": [
    "The thermal electron density for free-free process is characterized by\n",
    "$$\n",
    "            n_{cs}=1.27 \\cdot 10^8 M_W(r/6.35\\cdot 10^{14} cm)^{-s} cm^{-3},\n",
    "$$\n",
    "where, for this case $s=1.66$ and $M_W$ is the wind parameter\n",
    "$$\n",
    "            M_W = \\frac{\\dot{M}}{10^{-5} M_\\odot~yr^{-1}} (v_w/10 km/s)^{-1},\n",
    "$$\n",
    "where $\\dot{M}$ and $v_w$ are the mass loss rate and velocity of the presupernova wind. These come from the observations, and are obtained by Fransson, Lundqvist and Chevalier in (https://ui.adsabs.harvard.edu/abs/1996ApJ...461..993F/abstract), with a value of\n",
    "$$\n",
    "        \\dot{M} \\approx 5 \\cdot 10^{-5}~\\frac{M_{\\odot}}{yr}~~~~~~~v_w= 10~ \\frac{km}{s},\n",
    "$$\n",
    "so the value for the thermal electron density is\n",
    "$$\n",
    "                n_{cs}= 5.08\\cdot 10^{8}\\left(\\frac{r}{6.35\\cdot 10^{14} cm}\\right)^{-1.66} cm^{-3},\n",
    "$$"
   ]
  },
  {
   "cell_type": "markdown",
   "id": "1b10785a-e2c6-4544-8c44-95f9b0a5fd58",
   "metadata": {},
   "source": [
    "We will have to integrate in 2 different epoch, when the limit radius of the temp is outside the shock and when it is inside. At each epoch, the integration radius will vary. First we have from infty to rl and from rl to Rs. Secondly, we will have from infty to Rs.\n",
    "\n",
    "At the first epoch we have\n",
    "$$\n",
    "\\begin{aligned}\n",
    "  \\tau_{\\nu, ff}&= \\int_{r_l}^\\infty \\frac{3.61 \\cdot 10^{66}}{\\nu^{2.1}}\\cdot \\left( \\frac{1}{T_{ref}r_{ref}} \\right)^{1.5}  r^{1.5-2s} dr + \\int_{R_s}^{r_l} \\frac{3.61 \\cdot 10^{66}}{\\nu^{2.1}}\\cdot \\left( \\frac{1}{T_{cte}} \\right)^{1.5}r^{-2s} = \\left[ s=1.66 \\right]\\\\\n",
    " &= \\frac{3.61 \\cdot 10^{66}}{\\nu^{2.1}}\\cdot \\left[  \\left( \\frac{1}{T_{cte}} \\right)^{1.5}     \\dfrac{25}{58r_\\text{l}^\\frac{58}{25}}     + \\left( \\frac{1}{T_{ref}r_{ref}} \\right)^{1.5} \\left( \\dfrac{50}{41R_\\text{s}^\\frac{41}{50}} - \\dfrac{50}{41r_\\text{l}^\\frac{41}{50}} \\right) \\right]\n",
    "\\end{aligned}\n",
    "$$\n",
    "On the second epoch we simply have \n",
    "$$\n",
    "        \\tau_{\\nu, ff}=  \\int_{R_s}^{\\infty} \\frac{3.61 \\cdot 10^{66}}{\\nu^{2.1}}\\cdot \\left( \\frac{1}{T_{cte}} \\right)^{1.5}r^{-2s} = \\left[ s=1.66 \\right] = \\frac{3.61 \\cdot 10^{66}}{\\nu^{2.1}}\\cdot \\left( \\frac{1}{T_{cte}} \\right)^{1.5} \\dfrac{25}{58R_\\text{s}^\\frac{58}{25}}\n",
    "$$"
   ]
  },
  {
   "cell_type": "code",
   "execution_count": 26,
   "id": "caf781bf-efcc-4383-86c1-0f8402687547",
   "metadata": {},
   "outputs": [],
   "source": [
    "def FreeFreeOpticalDepth(frequency, s, Rs, Tcte=2e6, Tref=2.33e6, rRef=6.35e15):\n",
    "    rl= np.ones(Rs.shape)*CalculateLimitR(Tcte, Tref, rRef)\n",
    "    tau= np.ones(rl.shape)*1e2\n",
    "    for i in np.arange(0, rl.size):\n",
    "        if rl[i] > Rs[i]:\n",
    "            tau[i]= 3.61e66/frequency**(2.1)*( (1/(Tcte))**(1.5)*(25/(58*rl[i]**(58/25)))\n",
    "                                             + 1/((Tref*rRef)**(1.5))*(50/41*(1/(Rs[i]**(41/50))-1/(rl[i]**(41/50)))) )\n",
    "        if rl[i] <= Rs[i]:\n",
    "            tau[i]= 3.61e66/frequency**(2.1)*(1/(Tcte**(1.5))*25/(58*Rs[i]**(58/25)))\n",
    "                                        \n",
    "    return tau"
   ]
  },
  {
   "cell_type": "code",
   "execution_count": 27,
   "id": "bf14e5bc-94ba-42b8-9022-3f1e29b33796",
   "metadata": {},
   "outputs": [],
   "source": [
    "def ThermalElectronDensity(radius, s):\n",
    "    \"\"\"\n",
    "    Returns thermal electron density for a given expansion radius in cm for 1993J\n",
    "\n",
    "    Parameters\n",
    "    :radius: Radius at which the density will be computed\n",
    "\n",
    "    Output\n",
    "    :n: thermal electron density in cgs\n",
    "    \"\"\"\n",
    "\n",
    "    n= 6.35e8*(radius/6.35e14)**(-s)\n",
    "    return n\n",
    "\n",
    "def SourceFuncSynch(p, B, N0, frequency):\n",
    "    \"\"\"\n",
    "    returns the value of the source function for a given frequency\n",
    "\n",
    "    Parameters\n",
    "    :p: Exponent of the power law of electron population\n",
    "    :B: Value of the magnetic field\n",
    "    :N0: Constant of the power law\n",
    "    :Ne: Thermal electron number density\n",
    "    :Te: Temperature of the electrons\n",
    "    :frequency: frequency at which the source function want to be calculated\n",
    "    \n",
    "    Output\n",
    "    :S: Value of the source function at the given frequency\n",
    "    \"\"\"\n",
    "\n",
    "    S=SynchrotronEmissionCoeff(p, B, N0, frequency)/(SynchrotronAbsorptionCoeff(p, B, N0, frequency))\n",
    "    return S"
   ]
  },
  {
   "cell_type": "markdown",
   "id": "1a30f28c-19fb-44f5-a2aa-33702764c831",
   "metadata": {},
   "source": [
    "## 2.2. Flux functions."
   ]
  },
  {
   "cell_type": "markdown",
   "id": "bcfbf799-f0d9-47fe-aafe-c23f5215ebd2",
   "metadata": {},
   "source": [
    "From Pacholcyzk expression (3.53) we have that the synchrotron intensity from a power law population of electrons is given by (https://www.mpi-hd.mpg.de/personalhomes/frieger/HEA6.pdf)\n",
    "$$\n",
    "    I_\\nu = S(\\nu) \\int e^{-\\tau_\\nu}d\\tau_\\nu,\n",
    "$$\n",
    "where $S(\\nu_1)= \\frac{\\epsilon_\\nu}{\\kappa_\\nu}$ is the source function and $d\\tau_\\nu = \\kappa_\\nu  ds$. This way the flux is simply\n",
    "$$\n",
    "    F_\\nu = \\Omega I_\\nu = \\frac{\\pi R^2}{D^2}I_\\nu.\n",
    "$$\n",
    "We want model a system where free-free absoption and syncrothron self absortion are present, emission and absorption coefficient for a synchrotron source are\n",
    "$$\n",
    "\\begin{aligned}\n",
    "    \\epsilon_\\nu &=c_5(\\gamma) N_0B^{(\\gamma+1) / 2}\\left(\\frac{\\nu}{2 c_1}\\right)^{(1-\\gamma) / 2}, \\\\\n",
    "    \\kappa_\\nu & =c_6(\\gamma) N_0B^{(\\gamma+2) / 2}\\left(\\frac{\\nu}{2 c_1}\\right)^{-(\\gamma+4) / 2},\n",
    "\\end{aligned}\n",
    "$$\n",
    "The emission intensity from a free-free is given by   and the absorption coefficient for free-free absorption in a relativistic population of electrons is\n",
    "$$\n",
    "        \\kappa_{\\nu,ff} = 9.8 \\cdot 10^{-3} \\frac{n_{cs}^2}{T_e^{1.5} \\nu^{2}} \\left( 17.7 + ln\\frac{T^{1.5}}{\\nu} \\right)\\\\\n",
    "$$\n",
    "We will have 2 regions, the shell, containing the synchrotron process and thus it's emission and absorption; and the exterior, with free-free process. This way the final intensity will be the sum of the intensity of both regions.\n",
    "$$\n",
    "            I_\\nu = I_{synch}e^{\\tau_{ff}} = \\frac{\\epsilon_\\nu}{\\kappa_\\nu}\\cdot \\left(1- e^{-R_{shock} \\kappa_\\nu} \\right)e^{\\tau_{ff}}\n",
    "$$\n",
    "where the optical depth is $d\\tau_\\nu = \\kappa_\\nu ds$."
   ]
  },
  {
   "cell_type": "code",
   "execution_count": 28,
   "id": "9de8f18c-6b02-4b1d-a953-26e7cb5c85d2",
   "metadata": {},
   "outputs": [],
   "source": [
    "def CalculateLimitR(Tcte, Tref, rRef):\n",
    "    rl=Tref*rRef/Tcte\n",
    "    \n",
    "    return rl"
   ]
  },
  {
   "cell_type": "code",
   "execution_count": 29,
   "id": "ccb3be73-6336-479f-b8ea-ccaa487b8481",
   "metadata": {},
   "outputs": [],
   "source": [
    "#Defining absorption and emission coefficients\n",
    "def SynchrotronEmissionCoeff(p, B, N0, frequency):\n",
    "    \"\"\"\n",
    "    Returns the emission coefficient for a synchrotron emisison of a population of relativistic electrons\n",
    "\n",
    "    Parameters\n",
    "    :p: Coefficient of the power law defining the electron population\n",
    "    :B: Magnetic field\n",
    "    :N0: Constant of the power law\n",
    "    :frequency: frequency at which the emission coefficient want to be calculated\n",
    "\n",
    "    Output\n",
    "    :EmissionCoeff: Emission coefficient value\n",
    "    \"\"\"\n",
    "\n",
    "    EmissionCoeff=Pacholcyzk5(p)*N0*B**((p+1)/2)*(frequency/(2*c1))**((1-p)/2)\n",
    "    return EmissionCoeff\n",
    "\n",
    "def SynchrotronAbsorptionCoeff(p, B, N0, frequency):\n",
    "    \"\"\"\n",
    "    Returns the absorption coefficient for a synchrotron population of relativistic electrons\n",
    "\n",
    "    Parameters\n",
    "    :p: Coefficient of the power law defining the electron population\n",
    "    :B: Magnetic field\n",
    "    :N0: Constant of the power law\n",
    "    :frequency: frequency at which the absorption coefficient want to be calculated\n",
    "\n",
    "    Output\n",
    "    :AbsorptionCoeff: absorption coefficient value\n",
    "    \"\"\"\n",
    "\n",
    "    AbsorptionCoeff=Pacholcyzk6(p)*N0*B**((p+2)/2)*(frequency/(2*c1))**(-(p+4)/2)\n",
    "    return AbsorptionCoeff\n",
    "\n",
    "\n",
    "def FreeFreeAbsorptionCoeff(Te, Ne, frequency):\n",
    "    \"\"\"\n",
    "    Returns the absorption coefficient for a free free process in cgs units\n",
    "\n",
    "    Parameters\n",
    "    :Te: Temperature of the electrons\n",
    "    :Ne: Electron number density\n",
    "    :frequency: frequency at which the absorption coefficient want to be calculated\n",
    "\n",
    "    Output\n",
    "    :AbsorptionCoeff: absorption coefficient value\n",
    "    \"\"\"\n",
    "\n",
    "    #AbsorptionCoeff=(9.8e-3*Ne*Ne/(Te**(1.5)*frequency**(2.)))*(17.7+np.log(Te**(1.5)/frequency))\n",
    "    AbsorptionCoeff=Ne*Ne/(Te**(1.5)*frequency**(2.1))\n",
    "    return AbsorptionCoeff"
   ]
  },
  {
   "cell_type": "markdown",
   "id": "6de2333d-7b6d-4b88-81de-146520653632",
   "metadata": {},
   "source": [
    "The constants $c_i$ (Pacholzyzk)\n",
    "$$\n",
    "c_1=\\frac{3 e}{4 \\pi m^3 c^5},\n",
    "$$\n",
    "\n",
    "$$\n",
    "c_5=\\frac{\\sqrt{3}}{16 \\pi} \\frac{e^3}{m c^2}\\left(\\frac{\\gamma+7 / 3}{\\gamma+1}\\right) \\Gamma\\left(\\frac{3 \\gamma-1}{12}\\right) \\Gamma\\left(\\frac{3 \\gamma+7}{12}\\right),\n",
    "$$\n",
    "\n",
    "$$\n",
    "c_6=\\frac{\\sqrt{3} \\pi}{72} e m^5 c^{10}\\left(\\gamma+\\frac{10}{3}\\right) \\Gamma\\left(\\frac{3 \\gamma+2}{12}\\right) \\Gamma\\left(\\frac{3 \\gamma+10}{12}\\right),\n",
    "$$"
   ]
  },
  {
   "cell_type": "code",
   "execution_count": 30,
   "id": "3c037da0-896a-40f2-bcef-312a7cc72280",
   "metadata": {},
   "outputs": [],
   "source": [
    "#Defininf Pacholcyzk's constants\n",
    "c1=(const.e.esu*3/(4*np.pi*const.m_e**3*c**5)).cgs.value\n",
    "\n",
    "def Pacholcyzk5(p):\n",
    "    \"\"\"\n",
    "    Pacholcyzk5 returns the value of the Pacholcyzk c5 constant given p\n",
    "    Parameters\n",
    "    :p: Coefficient of the power law defining the electron population\n",
    "\n",
    "    Output\n",
    "    :c5: Value of the constant\n",
    "    \"\"\"\n",
    "    c5=3**0.5/(16*np.pi)*(const.e.esu**3/(const.m_e*const.c**2))*(p+7/3)/(p+1)*scipy.special.gamma((3*p-1)/12)*scipy.special.gamma((3*p+7)/12)\n",
    "    #return only the value in cgs units to make possible a fit\n",
    "    return c5.cgs.value\n",
    "    \n",
    "def Pacholcyzk6(p):\n",
    "    \"\"\"\n",
    "    Pacholcyzk6 returns the value of the Pacholcyzk c6 constant given p\n",
    "    Parameters\n",
    "    :p: Coefficient of the power law defining the electron population\n",
    "\n",
    "    Output\n",
    "    :c6: Value of the constant\n",
    "    \"\"\"\n",
    "    c6=np.pi*3**0.5/(72)*const.e.esu*const.m_e**5*const.c**10*(p+10/3)*scipy.special.gamma((3*p+2)/12)*scipy.special.gamma((3*p+10)/12)\n",
    "    return c6.cgs.value"
   ]
  },
  {
   "cell_type": "markdown",
   "id": "c7505873-e8de-4212-a603-0c4b336baeba",
   "metadata": {},
   "source": [
    "We will be using a low energy cut-off, because of that we will not need the analytical expressions, but the numerically solved ones. Numerical expression for the synchrotron emission and absorption coefficient are given by\n",
    "$$\n",
    "            \\epsilon_{\\nu}^{(i)}= \\frac{\\sqrt{3}e^3}{8\\pi m_e c^2}B \\int_{E_{min}}^{E_{max}} N_0~E^{-p} \\left[ F(x) \\pm G(x) \\right],\n",
    "$$\n",
    "$$\n",
    "            \\kappa_{\\nu}^{(i)}= \\frac{(p+1)\\sqrt{3}e^3}{8\\pi m_e}\\frac{B}{\\nu^2} \\int_{E_{min}}^{E_{max}}E^{-p} \\left[ F(x) \\pm G(x) \\right]dE,\n",
    "$$\n",
    "where \n",
    "$$\n",
    "        \\begin{aligned}\n",
    "                F(x) &= x \\int_x^{\\infty} K_{5/3}(z) dz, \\\\\n",
    "                G(x) &= x K_{2/3}(x),\n",
    "        \\end{aligned}\n",
    "$$\n",
    "with $K$ being the second order Bessel Functions and $x=\\nu/\\nu_c$ the critical frequency given by\n",
    "$$\n",
    "            \\nu_c= \\frac{3 e}{4\\pi m_e^3 c^5} B~E^2 \\approx 6.27 \\cdot 10^{18} B~E^2\n",
    "$$"
   ]
  },
  {
   "cell_type": "code",
   "execution_count": 155,
   "id": "6087356e-2c19-4b60-8a42-b3d62d71af8d",
   "metadata": {},
   "outputs": [],
   "source": [
    "def CriticalFreq(B, E):\n",
    "    \"\"\"\n",
    "    Return the critical frequency for a synchrotron process at a given energy and magnetic field\n",
    "    Paramters\n",
    "    :B: Magnetic field in cgs\n",
    "    :E: Energy of the system in cgs\n",
    "\n",
    "    Output\n",
    "    :v: Critical frequency\n",
    "    \"\"\"\n",
    "\n",
    "    v= 3*const.e.esu/(4*np.pi*const.m_e.cgs**3*const.c.cgs**5)*B*E**2\n",
    "    return v.value\n",
    "\n",
    "def Ffunc(E, frecuency, B):\n",
    "    x=frecuency/CriticalFreq(B, E)\n",
    "    F= x*integrate.quad(lambda z: special.kv(5./3., z), x, np.inf, limit=100000)[0]\n",
    "    return F\n",
    "\n",
    "def Gfunc(frecuency, B, E):\n",
    "    x=frecuency/CriticalFreq(B, E)\n",
    "    G=x*special.kv(2/3,x)\n",
    "    return G\n",
    "\n",
    "def IntegrandEmission(E, B, frecuency, p):\n",
    "    vcrit= CriticalFreq(B, E)\n",
    "    F=Ffunc(E, frecuency, B)\n",
    "    G= Gfunc(frecuency, B, E)\n",
    "    Integrand= F*E**(-p)\n",
    "    return Integrand\n",
    "\n",
    "def SynchrotronEmisionCoeffNumerical(p, B, N0, frecuency, Emin, Emax):\n",
    "    #A factor 2 coming from summing all the polarizations emitted\n",
    "    epsilon=2*np.sqrt(3)*const.e.esu.value**3/(8*np.pi*const.m_e.cgs.value*const.c.cgs.value**2)*(\n",
    "        B*N0*integrate.quad(lambda E: IntegrandEmission(E, B, frecuency, p), Emin, Emax, limit=100000)[0])\n",
    "    return epsilon\n",
    "\n",
    "def SynchrotronAbsorptionCoeffNumerical(p, B, N0, frecuency, Emin, Emax):\n",
    "    kappa=np.sqrt(3)*(p+1)*const.e.esu.value**3/(8*np.pi*const.m_e.cgs.value*frecuency**2)*(\n",
    "        B*N0*integrate.quad(lambda E: IntegrandEmission(E, B, frecuency, p), Emin, Emax, limit=100000)[0])\n",
    "    return kappa"
   ]
  },
  {
   "cell_type": "markdown",
   "id": "bc170730-2091-4273-a125-290d71fe3c19",
   "metadata": {},
   "source": [
    "mirar como hace el promedio entre las polarizaciones pacholzyzk e implementarlo. Pensar en como hacer el integrando dependiendo solo de una variable para que funcione con quad"
   ]
  },
  {
   "cell_type": "code",
   "execution_count": 156,
   "id": "07a3ef59-39fb-488c-b8cd-3fb0de687489",
   "metadata": {},
   "outputs": [
    {
     "data": {
      "text/plain": [
       "192728292.77101296"
      ]
     },
     "execution_count": 156,
     "metadata": {},
     "output_type": "execute_result"
    }
   ],
   "source": [
    "CriticalFreq(B0, const.m_e.cgs.value*const.c.cgs.value**2)"
   ]
  },
  {
   "cell_type": "code",
   "execution_count": 157,
   "id": "1f1c7f79-34af-4bf2-a759-4f0c51174374",
   "metadata": {
    "scrolled": true
   },
   "outputs": [
    {
     "data": {
      "text/plain": [
       "1.4383808616915268e-18"
      ]
     },
     "execution_count": 157,
     "metadata": {},
     "output_type": "execute_result"
    }
   ],
   "source": [
    "Ffunc(const.m_e.cgs.value*const.c.cgs.value**2, 8327568277, B0)"
   ]
  },
  {
   "cell_type": "code",
   "execution_count": 161,
   "id": "6003b13d-8464-485e-9e1e-f187ed6d3d66",
   "metadata": {},
   "outputs": [
    {
     "name": "stdout",
     "output_type": "stream",
     "text": [
      "Emission\n"
     ]
    },
    {
     "name": "stderr",
     "output_type": "stream",
     "text": [
      "/tmp/ipykernel_519642/4034513783.py:17: IntegrationWarning: The integral is probably divergent, or slowly convergent.\n",
      "  F= x*integrate.quad(lambda z: special.kv(5./3., z), x, np.inf, limit=100000)[0]\n",
      "/tmp/ipykernel_519642/4034513783.py:17: IntegrationWarning: The algorithm does not converge.  Roundoff error is detected\n",
      "  in the extrapolation table.  It is assumed that the requested tolerance\n",
      "  cannot be achieved, and that the returned result (if full_output = 1) is \n",
      "  the best which can be obtained.\n",
      "  F= x*integrate.quad(lambda z: special.kv(5./3., z), x, np.inf, limit=100000)[0]\n"
     ]
    },
    {
     "name": "stdout",
     "output_type": "stream",
     "text": [
      "1.5968874923280938e-17\n",
      "1.5968875557693802e-17\n",
      "Absorption\n",
      "4.1391323801144206e-16\n",
      "1.0054541413915872e-10\n"
     ]
    }
   ],
   "source": [
    "p=3\n",
    "B0=1.7*(27*u.G).value\n",
    "N0= (6.7e-7*u.erg**(p-1)/u.cm**3).value\n",
    "print(f'Emission')\n",
    "print(SynchrotronEmisionCoeffNumerical(p, B0, N0, wavelenghttofreq(3.6*u.cm).value, 0, np.inf ) )\n",
    "print(SynchrotronEmissionCoeff(p, B0, N0,  wavelenghttofreq(3.6*u.cm).value))\n",
    "\n",
    "print(f'Absorption')\n",
    "print(SynchrotronAbsorptionCoeffNumerical(p, B0, N0, wavelenghttofreq(3.6*u.cm).value, 0, np.inf ) )\n",
    "print(SynchrotronAbsorptionCoeff(p, B0, N0,  wavelenghttofreq(3.6*u.cm).value))\n"
   ]
  },
  {
   "cell_type": "markdown",
   "id": "dcb62584-350b-42eb-b280-ffc210f9bfcc",
   "metadata": {
    "jp-MarkdownHeadingCollapsed": true
   },
   "source": [
    "## 2.3. Computing the flux."
   ]
  },
  {
   "cell_type": "markdown",
   "id": "671ce399-1a5f-4da1-ad24-1c1b25710f04",
   "metadata": {},
   "source": [
    "We can now compute the intensity and the flux."
   ]
  },
  {
   "cell_type": "code",
   "execution_count": 34,
   "id": "a643a86f-2413-4036-a5ac-c58f7174fd5e",
   "metadata": {},
   "outputs": [],
   "source": [
    "def SpecIntFull(p, B, N, radius, time, shellRadius, frequency, s, I0=0):\n",
    "    \"\"\"\n",
    "    SpecIntSynch returns the specific intensity of a population of relativistic electrons driven by a power law at a given\n",
    "    frequency\n",
    "\n",
    "    Paramenters\n",
    "    :p: exponent of the power law\n",
    "    :B: Magnetic field\n",
    "    :N: Constant of the power law\n",
    "    :Te: Temperature of the electrons\n",
    "    :radius: Starting radius of the shell\n",
    "    :shellRadius: diference between bigger and smaller radius of the emitting shell\n",
    "    :I0: Outgoing intensitty of the shell if there was no synchrotron emission\n",
    "    :frequency: frequency at which the specific intensity is computed\n",
    "\n",
    "    Output\n",
    "    :I: specific intensity at the given frequency\n",
    "    \"\"\"\n",
    "\n",
    "    S =SourceFuncSynch(p, B, N, frequency)\n",
    "    kappa= SynchrotronAbsorptionCoeff(p, B, N, frequency)\n",
    "    Te=ThermalElectronsTemp(radius)\n",
    "    Ne=ThermalElectronDensity(radius, s)\n",
    "    kappa_ff=FreeFreeAbsorptionCoeff(Te, Ne,frequency)\n",
    "    #absorption_ff= np.exp(-radius*kappa_ff)\n",
    "    absorption_ff= np.exp(-FreeFreeOpticalDepth(frequency, s, radius))\n",
    "    \n",
    "    I=I0*absorption_ff + S*(1 - np.exp(-shellRadius*kappa))*absorption_ff\n",
    "    return I\n",
    "\n",
    "def SpecIntSynch(p, B, N, radius, time, shellRadius, frequency, s, I0=0):\n",
    "    \"\"\"\n",
    "    SpecIntSynch returns the specific intensity of a population of relativistic electrons driven by a power law at a given\n",
    "    frequency\n",
    "\n",
    "    Paramenters\n",
    "    :p: exponent of the power law\n",
    "    :B: Magnetic field\n",
    "    :N: Constant of the power law\n",
    "    :Te: Temperature of the electrons\n",
    "    :radius: Starting radius of the shell\n",
    "    :shellRadius: diference between bigger and smaller radius of the emitting shell\n",
    "    :I0: Outgoing intensitty of the shell if there was no synchrotron emission\n",
    "    :frequency: frequency at which the specific intensity is computed\n",
    "\n",
    "    Output\n",
    "    :I: specific intensity at the given frequency\n",
    "    \"\"\"\n",
    "\n",
    "    S =SourceFuncSynch(p, B, N, frequency)\n",
    "    kappa= SynchrotronAbsorptionCoeff(p, B, N, frequency)\n",
    "    Te=ThermalElectronsTemp(radius)\n",
    "    Ne=ThermalElectronDensity(radius, s)\n",
    "    \n",
    "    I=S*(1 - np.exp(-shellRadius*kappa))\n",
    "    return I\n",
    "\n",
    "def SpecIntFF(p, B, N, radius, time, shellRadius, frequency, s, I0=0):\n",
    "    \"\"\"\n",
    "    SpecIntSynch returns the specific intensity of a population of relativistic electrons driven by a power law at a given\n",
    "    frequency\n",
    "\n",
    "    Paramenters\n",
    "    :p: exponent of the power law\n",
    "    :B: Magnetic field\n",
    "    :N: Constant of the power law\n",
    "    :Te: Temperature of the electrons\n",
    "    :radius: Starting radius of the shell\n",
    "    :shellRadius: diference between bigger and smaller radius of the emitting shell\n",
    "    :I0: Outgoing intensitty of the shell if there was no synchrotron emission\n",
    "    :frequency: frequency at which the specific intensity is computed\n",
    "\n",
    "    Output\n",
    "    :I: specific intensity at the given frequency\n",
    "    \"\"\"\n",
    "\n",
    "    S =SourceFuncSynch(p, B, N, frequency)\n",
    "    kappa= SynchrotronAbsorptionCoeff(p, B, N, frequency)\n",
    "    Te=ThermalElectronsTemp(radius)\n",
    "    Ne=ThermalElectronDensity(radius, s)\n",
    "    kappa_ff=FreeFreeAbsorptionCoeff(Te, Ne,frequency)\n",
    "    #absorption_ff= np.exp(-radius*kappa_ff)\n",
    "    absorption_ff= np.exp(-FreeFreeOpticalDepth(frequency, s, radius))\n",
    "    \n",
    "    I=I0*absorption_ff + S*absorption_ff\n",
    "    return I\n",
    "\n",
    "\n",
    "def solidangle(radius, distance):\n",
    "    \"\"\"\n",
    "    solidangle gives the solid angle of a source at distance d and size r in the small angle approximation.If units are \n",
    "    desired at the output, they must be inserted in the parameters with unit module\n",
    "\n",
    "    Parameters\n",
    "    :radius: radius of the source\n",
    "    :distance: distance from Earth to source\n",
    "\n",
    "    Outputs\n",
    "    :omega: solid angle of the source\n",
    "    \"\"\"\n",
    "    #Applying the expresion for the solid angle in the small angle approximation\n",
    "    omega= np.pi * (radius**2)/(distance**2)\n",
    "    return omega"
   ]
  },
  {
   "cell_type": "code",
   "execution_count": 35,
   "id": "a9b64827-4713-4ee2-b6f7-5df31ca07b63",
   "metadata": {},
   "outputs": [],
   "source": [
    "def FluxatTFull(time, time0, frequency, p, B0, N0, distance, r0, s, a=0.86, I0=0, offset=0):\n",
    "    \"\"\"\n",
    "    Flux returns the value of the flux foor a population of relativistic electrons driven by a power law at a given frequency\n",
    "\n",
    "    Parameters\n",
    "    :time: Time at wich the flux is calculated\n",
    "    :frequency: frequency at which the specific intensity is computed\n",
    "    :p: exponent of the power law describing electron population\n",
    "    :B0: Magnetic field when radius is r0\n",
    "    :N0: Constant of the power law\n",
    "    :I0: Outgoing intensitty of the shell if there was no synchrotron emission\n",
    "    :distance: Distance to the source\n",
    "    :r0: reference radius of the source\n",
    "    :speed: speed of the expansion\n",
    "    :a: exponent of the power law describing expansion\n",
    "    :offset: Optional parameter to make a fit with the offset of the time\n",
    "    \n",
    "    Output\n",
    "    :F: Flux of the source\n",
    "    \"\"\"\n",
    "    #Computing the radius at a given time\n",
    "    r=PLradius(time, time0, r0, a)\n",
    "    #Computing number density and magentic field for the corresponding r\n",
    "    B= Br(r, B0, r0, s)\n",
    "    N= Nr(r, N0, r0, p, s)\n",
    "    \n",
    "    F=solidangle(r, distance)*SpecIntFull(p, B, N, r, time, 0.3*r, frequency, s, I0)\n",
    "    return F*1e23 #In order to get from cgs to Jy\n",
    "\n",
    "def FluxatTSynch(time, time0, frequency, p, B0, N0, distance, r0, s, a=0.86, I0=0, offset=0):\n",
    "    \"\"\"\n",
    "    Flux returns the value of the flux foor a population of relativistic electrons driven by a power law at a given frequency\n",
    "\n",
    "    Parameters\n",
    "    :time: Time at wich the flux is calculated\n",
    "    :frequency: frequency at which the specific intensity is computed\n",
    "    :p: exponent of the power law describing electron population\n",
    "    :B0: Magnetic field when radius is r0\n",
    "    :N0: Constant of the power law\n",
    "    :I0: Outgoing intensitty of the shell if there was no synchrotron emission\n",
    "    :distance: Distance to the source\n",
    "    :r0: reference radius of the source\n",
    "    :speed: speed of the expansion\n",
    "    :a: exponent of the power law describing expansion\n",
    "    :offset: Optional parameter to make a fit with the offset of the time\n",
    "    \n",
    "    Output\n",
    "    :F: Flux of the source\n",
    "    \"\"\"\n",
    "    #Computing the radius at a given time\n",
    "    r=PLradius(time, time0, r0, a)\n",
    "    #Computing number density and magentic field for the corresponding r\n",
    "    B= Br(r, B0, r0, s)\n",
    "    N= Nr(r, N0, r0, p, s)\n",
    "    \n",
    "    F=solidangle(r, distance)*SpecIntSynch(p, B, N, r, time, 0.3*r, frequency, s, I0)\n",
    "    return F*1e23 #In order to get from cgs to Jy\n",
    "\n",
    "def FluxatTFF(time, time0, frequency, p, B0, N0, distance, r0, s, a=0.86, I0=0, offset=0):\n",
    "    \"\"\"\n",
    "    Flux returns the value of the flux foor a population of relativistic electrons driven by a power law at a given frequency\n",
    "\n",
    "    Parameters\n",
    "    :time: Time at wich the flux is calculated\n",
    "    :frequency: frequency at which the specific intensity is computed\n",
    "    :p: exponent of the power law describing electron population\n",
    "    :B0: Magnetic field when radius is r0\n",
    "    :N0: Constant of the power law\n",
    "    :I0: Outgoing intensitty of the shell if there was no synchrotron emission\n",
    "    :distance: Distance to the source\n",
    "    :r0: reference radius of the source\n",
    "    :s: external absorbing medium absorbing constant \n",
    "    :Emin: Low energy cut off for relativistic electrons \n",
    "    :a: exponent of the power law describing expansion\n",
    "    :offset: Optional parameter to make a fit with the offset of the time\n",
    "    \n",
    "    Output\n",
    "    :F: Flux of the source\n",
    "    \"\"\"\n",
    "    #Computing the radius at a given time\n",
    "    r=PLradius(time, time0, r0, a)\n",
    "    #Computing number density and magentic field for the corresponding r\n",
    "    B= Br(r, B0, r0, s)\n",
    "    N= Nr(r, N0, r0, p, s)\n",
    "    \n",
    "    F=solidangle(r, distance)*SpecIntFF(p, B, N, r, time, 0.3*r, frequency, s, I0)\n",
    "    return F*1e23 #In order to get from cgs to Jy"
   ]
  },
  {
   "cell_type": "markdown",
   "id": "5eb4f35a-3eb2-476b-be53-6b86d45b8e54",
   "metadata": {},
   "source": [
    "We defined our function with frequencies, but sometimes data is given in wavelenght or viceversa, here we make some functions to change between them."
   ]
  },
  {
   "cell_type": "code",
   "execution_count": 36,
   "id": "b44b85b9-7714-4865-a0a7-6b11cd7d64b2",
   "metadata": {},
   "outputs": [],
   "source": [
    "def freqtowavelenght(frequency):\n",
    "    \"\"\"\n",
    "    Transforms from frequency to wavelenght\n",
    "\n",
    "    Parameters\n",
    "    :frequency: Input frequency\n",
    "\n",
    "    Output\n",
    "    :wavelenght:\n",
    "    \"\"\"\n",
    "    frequency=frequency.to(u.Hz)\n",
    "    return (const.c/frequency).decompose()\n",
    "\n",
    "def wavelenghttofreq(wavelenght):\n",
    "    \"\"\"\n",
    "    Transforms from wavelenght to frequency\n",
    "\n",
    "    Parameters\n",
    "    :wavelenght: Input wavelenght\n",
    "\n",
    "    Output\n",
    "    :frequency:\n",
    "    \"\"\"\n",
    "    wavelenght=wavelenght.to(u.m)\n",
    "    return (const.c/wavelenght).decompose()"
   ]
  },
  {
   "cell_type": "markdown",
   "id": "34d55c3c-7763-4b9a-b351-6b27af278f18",
   "metadata": {},
   "source": [
    "# 3. Plots and fit."
   ]
  },
  {
   "cell_type": "markdown",
   "id": "94b77261-bb95-4caa-99b0-4c0a7964ea3b",
   "metadata": {},
   "source": [
    "First, let's try to plot the synchrotron zone and check for magnitude orders of the parameters"
   ]
  },
  {
   "cell_type": "code",
   "execution_count": 37,
   "id": "2d09a7ce-b86b-4071-aa3c-6c6bc2a1d1ab",
   "metadata": {},
   "outputs": [
    {
     "data": {
      "image/png": "[encoded data removed]",
      "text/plain": [
       "<Figure size 640x480 with 1 Axes>"
      ]
     },
     "metadata": {},
     "output_type": "display_data"
    }
   ],
   "source": [
    "#Checking with the values given by Miguel et al\n",
    "p=3.\n",
    "B0=1.7*(27*u.G).value\n",
    "N0= (6.7e-7*u.erg**(p-1)/u.cm**3).value \n",
    "s=1.66\n",
    "\n",
    "d=(3.6*1e6*u.pc).to(u.cm).value  #Known distance to the binary\n",
    "r0= (6.35e14*u.cm).value \n",
    "time0=(2.34*u.day).value \n",
    "\n",
    "\n",
    "I0=0\n",
    "\n",
    "#Select data\n",
    "i=4\n",
    "t=np.linspace(1, 4000, 10000)\n",
    "\n",
    "frequency= wavelenghttofreq(float(data[i][0])*u.cm).cgs.value\n",
    "#I did not get anything with this cutoff\n",
    "Emin0= (90*const.m_e.cgs*const.c.cgs**2).value\n",
    "\n",
    "x= data[i][1].Days\n",
    "y=data[i][1].Flux\n",
    "err= data[i][1].Error\n",
    "\n",
    "F1= 1e3*FluxatTFull(t, time0, frequency, p, B0, N0, d, r0, s) #The data is in mJy\n",
    "F2= 1e3*FluxatTSynch(t, time0, frequency, p, B0, N0, d, r0, s) #The data is in mJy\n",
    "F3= 1e3*FluxatTFF(t, time0, frequency, p, B0, N0, d, r0, s) #The data is in mJy\n",
    "\n",
    "plt.plot(t,F1, c='red', label= 'Both absorptions')\n",
    "plt.plot(t,F2, c='green', linestyle='dashed', label= 'Synchrotron absorption only') \n",
    "plt.plot(t,F3, c='violet', linestyle='dashed', label= 'Free-Free absorption only') \n",
    "plt.errorbar(x,y, yerr= err,fmt = '.', capsize=2) \n",
    "\n",
    "\n",
    "plt.xscale(\"log\")\n",
    "plt.yscale(\"log\")\n",
    "plt.ylim(0.1,400)\n",
    "plt.xlim(1,2000)\n",
    "plt.ylabel(\"Flux (mJy)\")\n",
    "plt.xlabel(\"Time (Days)\")\n",
    "plt.title(f'{data[i][0]} cm')\n",
    "plt.legend()\n",
    "plt.show()\n"
   ]
  },
  {
   "cell_type": "markdown",
   "id": "1142a1ca-f589-4a5f-bfc6-e7bd9d318888",
   "metadata": {},
   "source": [
    "We can make the same but for frequency plot for a given time."
   ]
  },
  {
   "cell_type": "code",
   "execution_count": 38,
   "id": "6cec07f2-288d-4c21-8b8f-711a699a47d0",
   "metadata": {},
   "outputs": [
    {
     "ename": "ValueError",
     "evalue": "setting an array element with a sequence.",
     "output_type": "error",
     "traceback": [
      "\u001b[0;31m---------------------------------------------------------------------------\u001b[0m",
      "\u001b[0;31mTypeError\u001b[0m                                 Traceback (most recent call last)",
      "\u001b[0;31mTypeError\u001b[0m: only length-1 arrays can be converted to Python scalars",
      "\nThe above exception was the direct cause of the following exception:\n",
      "\u001b[0;31mValueError\u001b[0m                                Traceback (most recent call last)",
      "Cell \u001b[0;32mIn[38], line 6\u001b[0m\n\u001b[1;32m      2\u001b[0m WavelenghtArray\u001b[38;5;241m=\u001b[39m [\u001b[38;5;241m1.2\u001b[39m\u001b[38;5;241m*\u001b[39mu\u001b[38;5;241m.\u001b[39mcm, \u001b[38;5;241m2\u001b[39m\u001b[38;5;241m*\u001b[39mu\u001b[38;5;241m.\u001b[39mcm, \u001b[38;5;241m3.6\u001b[39m\u001b[38;5;241m*\u001b[39mu\u001b[38;5;241m.\u001b[39mcm, \u001b[38;5;241m6\u001b[39m\u001b[38;5;241m*\u001b[39mu\u001b[38;5;241m.\u001b[39mcm, \u001b[38;5;241m20\u001b[39m\u001b[38;5;241m*\u001b[39mu\u001b[38;5;241m.\u001b[39mcm]\n\u001b[1;32m      3\u001b[0m WavelenghtContinum\u001b[38;5;241m=\u001b[39m np\u001b[38;5;241m.\u001b[39mlinspace(\u001b[38;5;241m0.1\u001b[39m\u001b[38;5;241m*\u001b[39mu\u001b[38;5;241m.\u001b[39mcm, \u001b[38;5;28mmax\u001b[39m(WavelenghtArray), \u001b[38;5;241m10000\u001b[39m)\n\u001b[0;32m----> 6\u001b[0m F1\u001b[38;5;241m=\u001b[39m \u001b[38;5;241m1e3\u001b[39m\u001b[38;5;241m*\u001b[39mFluxatTFull(np\u001b[38;5;241m.\u001b[39marray([day]), time0, wavelenghttofreq(WavelenghtContinum)\u001b[38;5;241m.\u001b[39mvalue, p, B0, N0, d, r0, s)\n\u001b[1;32m      7\u001b[0m F2\u001b[38;5;241m=\u001b[39m \u001b[38;5;241m1e3\u001b[39m\u001b[38;5;241m*\u001b[39mFluxatTSynch(np\u001b[38;5;241m.\u001b[39marray([day]), time0, wavelenghttofreq(WavelenghtContinum)\u001b[38;5;241m.\u001b[39mvalue, p, B0, N0, d, r0, s)\n\u001b[1;32m      8\u001b[0m F3\u001b[38;5;241m=\u001b[39m \u001b[38;5;241m1e3\u001b[39m\u001b[38;5;241m*\u001b[39mFluxatTFF(np\u001b[38;5;241m.\u001b[39marray([day]), time0, wavelenghttofreq(WavelenghtContinum)\u001b[38;5;241m.\u001b[39mvalue, p, B0, N0, d, r0, s)\n",
      "Cell \u001b[0;32mIn[35], line 27\u001b[0m, in \u001b[0;36mFluxatTFull\u001b[0;34m(time, time0, frequency, p, B0, N0, distance, r0, s, a, I0, offset)\u001b[0m\n\u001b[1;32m     24\u001b[0m B\u001b[38;5;241m=\u001b[39m Br(r, B0, r0, s)\n\u001b[1;32m     25\u001b[0m N\u001b[38;5;241m=\u001b[39m Nr(r, N0, r0, p, s)\n\u001b[0;32m---> 27\u001b[0m F\u001b[38;5;241m=\u001b[39msolidangle(r, distance)\u001b[38;5;241m*\u001b[39mSpecIntFull(p, B, N, r, time, \u001b[38;5;241m0.3\u001b[39m\u001b[38;5;241m*\u001b[39mr, frequency, s, I0)\n\u001b[1;32m     28\u001b[0m \u001b[38;5;28;01mreturn\u001b[39;00m F\u001b[38;5;241m*\u001b[39m\u001b[38;5;241m1e23\u001b[39m\n",
      "Cell \u001b[0;32mIn[34], line 26\u001b[0m, in \u001b[0;36mSpecIntFull\u001b[0;34m(p, B, N, radius, time, shellRadius, frequency, s, I0)\u001b[0m\n\u001b[1;32m     24\u001b[0m kappa_ff\u001b[38;5;241m=\u001b[39mFreeFreeAbsorptionCoeff(Te, Ne,frequency)\n\u001b[1;32m     25\u001b[0m \u001b[38;5;66;03m#absorption_ff= np.exp(-radius*kappa_ff)\u001b[39;00m\n\u001b[0;32m---> 26\u001b[0m absorption_ff\u001b[38;5;241m=\u001b[39m np\u001b[38;5;241m.\u001b[39mexp(\u001b[38;5;241m-\u001b[39mFreeFreeOpticalDepth(frequency, s, radius))\n\u001b[1;32m     28\u001b[0m I\u001b[38;5;241m=\u001b[39mI0\u001b[38;5;241m*\u001b[39mabsorption_ff \u001b[38;5;241m+\u001b[39m S\u001b[38;5;241m*\u001b[39m(\u001b[38;5;241m1\u001b[39m \u001b[38;5;241m-\u001b[39m np\u001b[38;5;241m.\u001b[39mexp(\u001b[38;5;241m-\u001b[39mshellRadius\u001b[38;5;241m*\u001b[39mkappa))\u001b[38;5;241m*\u001b[39mabsorption_ff\n\u001b[1;32m     29\u001b[0m \u001b[38;5;28;01mreturn\u001b[39;00m I\n",
      "Cell \u001b[0;32mIn[26], line 6\u001b[0m, in \u001b[0;36mFreeFreeOpticalDepth\u001b[0;34m(frequency, s, Rs, Tcte, Tref, rRef)\u001b[0m\n\u001b[1;32m      4\u001b[0m \u001b[38;5;28;01mfor\u001b[39;00m i \u001b[38;5;129;01min\u001b[39;00m np\u001b[38;5;241m.\u001b[39marange(\u001b[38;5;241m0\u001b[39m, rl\u001b[38;5;241m.\u001b[39msize):\n\u001b[1;32m      5\u001b[0m     \u001b[38;5;28;01mif\u001b[39;00m rl[i] \u001b[38;5;241m>\u001b[39m Rs[i]:\n\u001b[0;32m----> 6\u001b[0m         tau[i]\u001b[38;5;241m=\u001b[39m \u001b[38;5;241m3.61e66\u001b[39m\u001b[38;5;241m/\u001b[39mfrequency\u001b[38;5;241m*\u001b[39m\u001b[38;5;241m*\u001b[39m(\u001b[38;5;241m2.1\u001b[39m)\u001b[38;5;241m*\u001b[39m( (\u001b[38;5;241m1\u001b[39m\u001b[38;5;241m/\u001b[39m(Tcte))\u001b[38;5;241m*\u001b[39m\u001b[38;5;241m*\u001b[39m(\u001b[38;5;241m1.5\u001b[39m)\u001b[38;5;241m*\u001b[39m(\u001b[38;5;241m25\u001b[39m\u001b[38;5;241m/\u001b[39m(\u001b[38;5;241m58\u001b[39m\u001b[38;5;241m*\u001b[39mrl[i]\u001b[38;5;241m*\u001b[39m\u001b[38;5;241m*\u001b[39m(\u001b[38;5;241m58\u001b[39m\u001b[38;5;241m/\u001b[39m\u001b[38;5;241m25\u001b[39m)))\n\u001b[1;32m      7\u001b[0m                                          \u001b[38;5;241m+\u001b[39m \u001b[38;5;241m1\u001b[39m\u001b[38;5;241m/\u001b[39m((Tref\u001b[38;5;241m*\u001b[39mrRef)\u001b[38;5;241m*\u001b[39m\u001b[38;5;241m*\u001b[39m(\u001b[38;5;241m1.5\u001b[39m))\u001b[38;5;241m*\u001b[39m(\u001b[38;5;241m50\u001b[39m\u001b[38;5;241m/\u001b[39m\u001b[38;5;241m41\u001b[39m\u001b[38;5;241m*\u001b[39m(\u001b[38;5;241m1\u001b[39m\u001b[38;5;241m/\u001b[39m(Rs[i]\u001b[38;5;241m*\u001b[39m\u001b[38;5;241m*\u001b[39m(\u001b[38;5;241m41\u001b[39m\u001b[38;5;241m/\u001b[39m\u001b[38;5;241m50\u001b[39m))\u001b[38;5;241m-\u001b[39m\u001b[38;5;241m1\u001b[39m\u001b[38;5;241m/\u001b[39m(rl[i]\u001b[38;5;241m*\u001b[39m\u001b[38;5;241m*\u001b[39m(\u001b[38;5;241m41\u001b[39m\u001b[38;5;241m/\u001b[39m\u001b[38;5;241m50\u001b[39m)))) )\n\u001b[1;32m      8\u001b[0m     \u001b[38;5;28;01mif\u001b[39;00m rl[i] \u001b[38;5;241m<\u001b[39m\u001b[38;5;241m=\u001b[39m Rs[i]:\n\u001b[1;32m      9\u001b[0m         tau[i]\u001b[38;5;241m=\u001b[39m \u001b[38;5;241m3.61e66\u001b[39m\u001b[38;5;241m/\u001b[39mfrequency\u001b[38;5;241m*\u001b[39m\u001b[38;5;241m*\u001b[39m(\u001b[38;5;241m2.1\u001b[39m)\u001b[38;5;241m*\u001b[39m(\u001b[38;5;241m1\u001b[39m\u001b[38;5;241m/\u001b[39m(Tcte\u001b[38;5;241m*\u001b[39m\u001b[38;5;241m*\u001b[39m(\u001b[38;5;241m1.5\u001b[39m))\u001b[38;5;241m*\u001b[39m\u001b[38;5;241m25\u001b[39m\u001b[38;5;241m/\u001b[39m(\u001b[38;5;241m58\u001b[39m\u001b[38;5;241m*\u001b[39mRs[i]\u001b[38;5;241m*\u001b[39m\u001b[38;5;241m*\u001b[39m(\u001b[38;5;241m58\u001b[39m\u001b[38;5;241m/\u001b[39m\u001b[38;5;241m25\u001b[39m)))\n",
      "\u001b[0;31mValueError\u001b[0m: setting an array element with a sequence."
     ]
    }
   ],
   "source": [
    "day= DayArray[0]\n",
    "WavelenghtArray= [1.2*u.cm, 2*u.cm, 3.6*u.cm, 6*u.cm, 20*u.cm]\n",
    "WavelenghtContinum= np.linspace(0.1*u.cm, max(WavelenghtArray), 10000)\n",
    "\n",
    "\n",
    "F1= 1e3*FluxatTFull(np.array([day]), time0, wavelenghttofreq(WavelenghtContinum).value, p, B0, N0, d, r0, s)\n",
    "F2= 1e3*FluxatTSynch(np.array([day]), time0, wavelenghttofreq(WavelenghtContinum).value, p, B0, N0, d, r0, s)\n",
    "F3= 1e3*FluxatTFF(np.array([day]), time0, wavelenghttofreq(WavelenghtContinum).value, p, B0, N0, d, r0, s)\n",
    "\n",
    "\n",
    "plt.plot(WavelenghtContinum,F1, c='red', label= 'Both absorptions')\n",
    "plt.plot(WavelenghtContinum,F2, c='green', linestyle='dashed', label= 'Synchrotron absorption only') \n",
    "plt.plot(WavelenghtContinum,F3, c='violet', linestyle='dashed', label= 'Free-Free absorption only') \n",
    "for wavelenght in data:\n",
    "    for i, days in enumerate(wavelenght[1].Days):\n",
    "        if days==day:\n",
    "            plt.errorbar((float(wavelenght[0])),\n",
    "                         wavelenght[1].Flux[i], yerr=wavelenght[1].Error[i], \n",
    "                         fmt = '.', capsize=2, label= f'{wavelenght[0]} cm')\n",
    "\n",
    "plt.xscale(\"log\")\n",
    "plt.yscale(\"log\")\n",
    "plt.ylim(0.1,200)\n",
    "plt.xlim(1)\n",
    "plt.ylabel(\"Flux (mJy)\")\n",
    "plt.xlabel(\"Observing wavelenght (cm)\")\n",
    "plt.title(f'{day} days after explosion')\n",
    "plt.legend()"
   ]
  },
  {
   "cell_type": "markdown",
   "id": "4dbae602-3227-4e53-a935-c633f3af503e",
   "metadata": {},
   "source": [
    "We can now procceed to fit the data, for this we will fit all the wavelenghts simultaneously."
   ]
  },
  {
   "cell_type": "code",
   "execution_count": null,
   "id": "8a537a5c-deb7-4bf8-a0a4-c835c1ab0c37",
   "metadata": {},
   "outputs": [],
   "source": [
    "def leastsq_function(params, *args):\n",
    "    #Params and args, if different are wanted to be fitted or to be fitted separately move from args to params or vice-versa\n",
    "    \n",
    "    B0 = params[0]\n",
    "    N0= params[1]\n",
    "    \n",
    "    time = args[0]\n",
    "    FluxValue = args[1]\n",
    "    frequency = args[2]\n",
    "    distance = args[3]\n",
    "    r0 = args[4]\n",
    "    time0= args[5]\n",
    "    p = args[6]\n",
    "    s = args[7]\n",
    "    \n",
    "    #Starting the vectors\n",
    "    Fluxfit = []\n",
    "    for Flux, freq in zip(FluxValue, frequency):\n",
    "        Fluxfitaux= 1e3*FluxatTFull(time[i], time0, freq, p, B0, N0, distance, r0, s)\n",
    "        Fluxfit.append(abs(Fluxfitaux-Flux))\n",
    "\n",
    "    \n",
    "    return sum(Fluxfit)"
   ]
  },
  {
   "cell_type": "code",
   "execution_count": null,
   "id": "89a6b19f-7f52-431a-93a1-67eb01c75e19",
   "metadata": {},
   "outputs": [],
   "source": [
    "time=[]\n",
    "FluxDens=[]\n",
    "frequency=[]\n",
    "for i in np.arange(0, len(data)):\n",
    "    time.append(data[1][1].Days)\n",
    "    FluxDens.append(data[1][1].Flux)\n",
    "    frequency.append(float(wavelenghttofreq(data_2[0]*u.cm).cgs.value))\n",
    "\n",
    "frequencies=np.array(frequency)\n",
    "params0 = (B0, N0)\n",
    "args = (time, FluxDens, frequencies, d, r0, time0, p, s)\n",
    "result = scipy.optimize.leastsq(leastsq_function, params0, args=args)"
   ]
  },
  {
   "cell_type": "code",
   "execution_count": 159,
   "id": "fa0868ef-4bdf-43f2-98f6-a90a0be11d94",
   "metadata": {},
   "outputs": [
    {
     "data": {
      "image/png": "[encoded data removed]",
      "text/plain": [
       "<Figure size 640x480 with 1 Axes>"
      ]
     },
     "metadata": {},
     "output_type": "display_data"
    }
   ],
   "source": [
    "for i in np.arange(0,len(data)):\n",
    "    x= data[i][1].Days\n",
    "    y=data[i][1].Flux\n",
    "    \n",
    "    F1= 1e3*FluxatTFull(t, time0, wavelenghttofreq(float(data[i][0])*u.cm).cgs.value,\n",
    "                    p, B0, N0, d, r0, s) #The data is in mJy\n",
    "    plt.plot(t,F1) \n",
    "    plt.scatter(x,y, label=f'{data[i][0]} cm', s= 4) \n",
    "\n",
    "\n",
    "plt.xscale(\"log\")\n",
    "plt.yscale(\"log\")\n",
    "plt.ylim(0.1,400)\n",
    "plt.xlim(1,2000)\n",
    "plt.ylabel(\"Flux (mJy)\")\n",
    "plt.xlabel(\"Time (Days)\")\n",
    "plt.legend()\n",
    "plt.show()"
   ]
  },
  {
   "cell_type": "code",
   "execution_count": null,
   "id": "64ef012a-0678-4e27-8fe7-ef71a03911cd",
   "metadata": {
    "jp-MarkdownHeadingCollapsed": true
   },
   "outputs": [],
   "source": [
    "result[0]"
   ]
  },
  {
   "cell_type": "markdown",
   "id": "a7f6b8ce-cff6-4fe3-a036-fa7662facd8a",
   "metadata": {},
   "source": [
    "Im getting flux signicantly lower than expected on the free free absorption zone of the spectrum, this must be related to my calculation (or expression) of the absorption coefficient, I think it may be my Temperature expression or the Mw and vw I used."
   ]
  },
  {
   "cell_type": "code",
   "execution_count": null,
   "id": "852e51d8-b891-44ff-9e36-35c78a4cd40a",
   "metadata": {},
   "outputs": [],
   "source": [
    "FreeFreeOpticalDepth(2,3,np.array([4]),np.array([5]))"
   ]
  },
  {
   "cell_type": "code",
   "execution_count": null,
   "id": "dc51da19-9834-4803-8369-54a3ea6ef2e7",
   "metadata": {},
   "outputs": [],
   "source": [
    "np.arange(0,2)"
   ]
  },
  {
   "cell_type": "code",
   "execution_count": null,
   "id": "17589e81-2356-4f71-b691-af7ecdf0a853",
   "metadata": {},
   "outputs": [],
   "source": []
  }
 ],
 "metadata": {
  "kernelspec": {
   "display_name": "Python 3 (ipykernel)",
   "language": "python",
   "name": "python3"
  },
  "language_info": {
   "codemirror_mode": {
    "name": "ipython",
    "version": 3
   },
   "file_extension": ".py",
   "mimetype": "text/x-python",
   "name": "python",
   "nbconvert_exporter": "python",
   "pygments_lexer": "ipython3",
   "version": "3.11.7"
  }
 },
 "nbformat": 4,
 "nbformat_minor": 5
}
