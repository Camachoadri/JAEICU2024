{
 "cells": [
  {
   "cell_type": "code",
   "execution_count": 2,
   "id": "265fe030-fbb8-4be3-8f71-ca8196db47fa",
   "metadata": {},
   "outputs": [],
   "source": [
    "import numpy as np\n",
    "import matplotlib.pyplot as plt\n",
    "import scipy\n",
    "\n",
    "#gamma function\n",
    "from scipy import special, optimize\n",
    "\n",
    "\n",
    "#Fitting the spectrum\n",
    "from scipy.optimize import curve_fit\n",
    "\n",
    "#Using csv tables\n",
    "import pandas as pd\n",
    "\n",
    "#Astropy module to handle units\n",
    "from astropy import units as u\n",
    "from astropy.units import Quantity\n",
    "from astropy import constants as const\n",
    "\n",
    "#Importing the constant that will be needed\n",
    "from astropy.constants import c, k_B,m_e,e"
   ]
  },
  {
   "cell_type": "markdown",
   "id": "69a8c9a3-86fc-4ead-8fe3-38a63c063434",
   "metadata": {},
   "source": [
    "The goal of this notebook is to fit the radio emission of the supernova 1993J, data can be extracted from https://iopscience.iop.org/article/10.1086/523258/pdf and is also aviable in this Github. "
   ]
  },
  {
   "cell_type": "markdown",
   "id": "179c1ad7-625b-4a0a-8bad-06fa87d44d9e",
   "metadata": {
    "jp-MarkdownHeadingCollapsed": true
   },
   "source": [
    "# 1. Introduction."
   ]
  },
  {
   "cell_type": "markdown",
   "id": "784d74f9-2ec6-4ae3-bf7f-ade264462657",
   "metadata": {},
   "source": [
    "First, we need to save all the spectrum data in python variables."
   ]
  },
  {
   "cell_type": "code",
   "execution_count": 3,
   "id": "53d320f5-f210-4a74-9dd5-208932c6c1f4",
   "metadata": {},
   "outputs": [
    {
     "data": {
      "text/html": [
       "<div>\n",
       "<style scoped>\n",
       "    .dataframe tbody tr th:only-of-type {\n",
       "        vertical-align: middle;\n",
       "    }\n",
       "\n",
       "    .dataframe tbody tr th {\n",
       "        vertical-align: top;\n",
       "    }\n",
       "\n",
       "    .dataframe thead th {\n",
       "        text-align: right;\n",
       "    }\n",
       "</style>\n",
       "<table border=\"1\" class=\"dataframe\">\n",
       "  <thead>\n",
       "    <tr style=\"text-align: right;\">\n",
       "      <th></th>\n",
       "      <th>Days</th>\n",
       "      <th>Telescope</th>\n",
       "      <th>Flux</th>\n",
       "      <th>Error</th>\n",
       "    </tr>\n",
       "  </thead>\n",
       "  <tbody>\n",
       "    <tr>\n",
       "      <th>0</th>\n",
       "      <td>11.37</td>\n",
       "      <td>VLA B</td>\n",
       "      <td>18.940</td>\n",
       "      <td>1.905</td>\n",
       "    </tr>\n",
       "    <tr>\n",
       "      <th>1</th>\n",
       "      <td>12.33</td>\n",
       "      <td>VLA B</td>\n",
       "      <td>22.487</td>\n",
       "      <td>2.261</td>\n",
       "    </tr>\n",
       "    <tr>\n",
       "      <th>2</th>\n",
       "      <td>13.04</td>\n",
       "      <td>VLA B</td>\n",
       "      <td>25.753</td>\n",
       "      <td>2.576</td>\n",
       "    </tr>\n",
       "    <tr>\n",
       "      <th>3</th>\n",
       "      <td>13.46</td>\n",
       "      <td>VLA B</td>\n",
       "      <td>25.550</td>\n",
       "      <td>2.578</td>\n",
       "    </tr>\n",
       "    <tr>\n",
       "      <th>4</th>\n",
       "      <td>14.25</td>\n",
       "      <td>VLA B</td>\n",
       "      <td>28.640</td>\n",
       "      <td>2.875</td>\n",
       "    </tr>\n",
       "    <tr>\n",
       "      <th>...</th>\n",
       "      <td>...</td>\n",
       "      <td>...</td>\n",
       "      <td>...</td>\n",
       "      <td>...</td>\n",
       "    </tr>\n",
       "    <tr>\n",
       "      <th>77</th>\n",
       "      <td>3213.38</td>\n",
       "      <td>VLA D/A</td>\n",
       "      <td>2.495</td>\n",
       "      <td>0.282</td>\n",
       "    </tr>\n",
       "    <tr>\n",
       "      <th>78</th>\n",
       "      <td>3708.93</td>\n",
       "      <td>VLA A</td>\n",
       "      <td>1.928</td>\n",
       "      <td>0.237</td>\n",
       "    </tr>\n",
       "    <tr>\n",
       "      <th>79</th>\n",
       "      <td>3959.47</td>\n",
       "      <td>VLA B/C</td>\n",
       "      <td>1.792</td>\n",
       "      <td>0.191</td>\n",
       "    </tr>\n",
       "    <tr>\n",
       "      <th>80</th>\n",
       "      <td>4184.57</td>\n",
       "      <td>VLA A</td>\n",
       "      <td>0.967</td>\n",
       "      <td>0.217</td>\n",
       "    </tr>\n",
       "    <tr>\n",
       "      <th>81</th>\n",
       "      <td>4460.90</td>\n",
       "      <td>VLA B/C</td>\n",
       "      <td>0.897</td>\n",
       "      <td>0.139</td>\n",
       "    </tr>\n",
       "  </tbody>\n",
       "</table>\n",
       "<p>82 rows × 4 columns</p>\n",
       "</div>"
      ],
      "text/plain": [
       "       Days Telescope    Flux  Error\n",
       "0     11.37     VLA B  18.940  1.905\n",
       "1     12.33     VLA B  22.487  2.261\n",
       "2     13.04     VLA B  25.753  2.576\n",
       "3     13.46     VLA B  25.550  2.578\n",
       "4     14.25     VLA B  28.640  2.875\n",
       "..      ...       ...     ...    ...\n",
       "77  3213.38   VLA D/A   2.495  0.282\n",
       "78  3708.93     VLA A   1.928  0.237\n",
       "79  3959.47   VLA B/C   1.792  0.191\n",
       "80  4184.57     VLA A   0.967  0.217\n",
       "81  4460.90   VLA B/C   0.897  0.139\n",
       "\n",
       "[82 rows x 4 columns]"
      ]
     },
     "execution_count": 3,
     "metadata": {},
     "output_type": "execute_result"
    }
   ],
   "source": [
    "#Initialice the data ararys where the first value will be the wavelenght name\n",
    "data=[]\n",
    "\n",
    "data_1=[]\n",
    "data_2=[]\n",
    "data_3=[]\n",
    "data_6=[]\n",
    "data_20=[]\n",
    "\n",
    "#Extract the data\n",
    "data= pd.read_csv(\"Data/Datos SuperNova - 1.2_cm.csv\")\n",
    "data_1.extend(('1.2', data))\n",
    "\n",
    "data= pd.read_csv(\"Data/Datos SuperNova - 2_cm.csv\")\n",
    "data_2.extend(('2', data))\n",
    "\n",
    "data= pd.read_csv(\"Data/Datos SuperNova - 3.6_cm.csv\")\n",
    "data_3.extend(('3.6', data))\n",
    "\n",
    "data= pd.read_csv(\"Data/Datos SuperNova - 6_cm.csv\")\n",
    "data_6.extend(('6', data))\n",
    "\n",
    "data= pd.read_csv(\"Data/Datos SuperNova - 20_cm.csv\")\n",
    "data_20.extend(('21', data))\n",
    "\n",
    "data= []\n",
    "data.extend((data_1, data_2, data_3, data_6, data_20))\n",
    "\n",
    "#visualice the data, Flux is in mJy\n",
    "data[0][1]"
   ]
  },
  {
   "cell_type": "markdown",
   "id": "f9aa0469-1d74-46bd-b5a2-af5f68d7854d",
   "metadata": {},
   "source": [
    "Making a plot to visualice the data."
   ]
  },
  {
   "cell_type": "code",
   "execution_count": 4,
   "id": "dfa64b0f-4ebd-4cec-a9bc-ca14f0465a21",
   "metadata": {},
   "outputs": [
    {
     "data": {
      "text/plain": [
       "<matplotlib.legend.Legend at 0x7f0c6cb61d10>"
      ]
     },
     "execution_count": 4,
     "metadata": {},
     "output_type": "execute_result"
    },
    {
     "data": {
      "image/png": "[encoded data removed]",
      "text/plain": [
       "<Figure size 640x480 with 1 Axes>"
      ]
     },
     "metadata": {},
     "output_type": "display_data"
    }
   ],
   "source": [
    "for wavelenght in data:\n",
    "    plt.errorbar(wavelenght[1].Days, wavelenght[1].Flux, yerr=wavelenght[1].Error, \n",
    "                 fmt = '.', capsize=2, label= f'{wavelenght[0]} cm')\n",
    "plt.xscale(\"log\")\n",
    "plt.yscale(\"log\")\n",
    "plt.ylabel(\"Flux (mJy)\")\n",
    "plt.xlabel(\"Time (Days)\")\n",
    "plt.legend()"
   ]
  },
  {
   "cell_type": "code",
   "execution_count": 5,
   "id": "fcf3dc81-3187-4a55-ab5c-3061cfcce566",
   "metadata": {},
   "outputs": [
    {
     "data": {
      "text/plain": [
       "<matplotlib.legend.Legend at 0x7f0c63a326d0>"
      ]
     },
     "execution_count": 5,
     "metadata": {},
     "output_type": "execute_result"
    },
    {
     "data": {
      "image/png": "[encoded data removed]",
      "text/plain": [
       "<Figure size 640x480 with 1 Axes>"
      ]
     },
     "metadata": {},
     "output_type": "display_data"
    }
   ],
   "source": [
    "#array with all the days, we will make an array with all the list, remove duplicates and order it\n",
    "DayArray=[]\n",
    "DayArray=(list(data_1[1].Days) + list(data_2[1].Days)+ list(data_3[1].Days) + list(data_6[1].Days)\n",
    "          + list(data_20[1].Days))\n",
    "\n",
    "DayArray= list(set(DayArray))\n",
    "DayArray.sort()\n",
    "\n",
    "CopyArray= DayArray.copy()\n",
    "#Remove days with less than 1 wavelenght\n",
    "for i, dayStart in enumerate(DayArray):\n",
    "    counter=0\n",
    "    for wavelenght in data:\n",
    "        for days in wavelenght[1].Days:\n",
    "            if days == dayStart:\n",
    "                counter=counter+1\n",
    "    if counter < 3:\n",
    "        CopyArray.remove(dayStart)\n",
    "        \n",
    "#Select a day for the frequency plot\n",
    "DayArray=CopyArray.copy()\n",
    "day= DayArray[20]\n",
    "\n",
    "\n",
    "\n",
    "for wavelenght in data:\n",
    "    for i, days in enumerate(wavelenght[1].Days):\n",
    "        if days==day:\n",
    "            plt.errorbar(float(wavelenght[0]), wavelenght[1].Flux[i], yerr=wavelenght[1].Error[i], \n",
    "                         fmt = '.', capsize=2, label= f'{wavelenght[0]} cm')\n",
    "\n",
    "plt.xscale(\"log\")\n",
    "plt.yscale(\"log\")\n",
    "plt.ylabel(\"Flux (mJy)\")\n",
    "plt.xlabel(\"Observing wavelenght (cm)\")\n",
    "plt.xlim(right=200)\n",
    "plt.title(f'{day} days after explosion')\n",
    "plt.legend()"
   ]
  },
  {
   "cell_type": "markdown",
   "id": "d42608e0-04b4-4cfd-ad4b-bb04ec67a1d8",
   "metadata": {
    "jp-MarkdownHeadingCollapsed": true
   },
   "source": [
    "# 2. Theoretical preview and data."
   ]
  },
  {
   "cell_type": "markdown",
   "id": "ca6382ca-4860-4599-ac6a-b39ac8d1d121",
   "metadata": {},
   "source": [
    "In order to make this analysis we will be folowing the paper The role of synchrotron self-absorption in the late radio emission from SN 1993J (https://www.aanda.org/articles/aa/abs/2001/30/aah2783/aah2783.html)   (Pérez-Torres, Alberdi and Marcaide). We assume a modified standard interaction model (SIM), where we have a strong interaction between the supernova and the interacting medium; this interactions leads to a self-similarly expanding shell structure, and in this modified scenario the synchrotron emission comes from the shell formed short after the breakout. This emission is assumed to be due relativistic electron population $N(E,r)$ in a magnetic field $B(r)$, and that the injected electron distribution is driven by a power law\n",
    "$$\n",
    "            N(E,r)=N_0(r) E^{-p}\n",
    "$$\n",
    "We also have some more information from previus observations and asumptions: (i) distance to SN1993J is $D=3.6~Mpc$; (ii) the supernova exploded in March 28, 1993; (iii) supernova deceleration parameter is $m=0.86$; (iv) the width of the radio emiting shell is $\\Delta R = 0.3 R_{shock}$; (v) the index of the circumstellar density is $s=1.66$ and (vi) the same temperature proffile as FB98, i.e., \n",
    "$$\n",
    "        T_e(r) =max\\left[ T_{15}(10^{15}cm/r), 2 \\cdot 10^{5}~K \\right],\n",
    "$$\n",
    "where $T_{15}$ is the electron temperature in the circumstellar medium at $r= 10^{15}~cm$; in this case it is $1.7\\cdot 10^6~K$. The region change occurs for $r_l= 8.5 \\cdot 10^{15}~cm$."
   ]
  },
  {
   "cell_type": "code",
   "execution_count": 272,
   "id": "e3c609e7-e61e-4c50-88ff-ff3810ca90eb",
   "metadata": {},
   "outputs": [],
   "source": [
    "def ThermalElectronsTemp(radius):\n",
    "    \"\"\"\n",
    "    Returns the temperature of the thermal electrons in FB98 given a vector of radius in cm\n",
    "\n",
    "    Parameters\n",
    "    :radius: Radius in cm at which the temperature will be computed\n",
    "\n",
    "    Output\n",
    "    :Temperature: Array of temperature of the thermal electrons at the given radius array\n",
    "    \"\"\"\n",
    "\n",
    "    aux= np.array(1.7e6/radius)\n",
    "    aux2= 2.5e5*np.ones(aux.shape)\n",
    "    Temperature=np.zeros(aux.shape)\n",
    "    for i in np.arange(0, aux.size):\n",
    "        Temperature[i]= max([aux[i], aux2[i]])\n",
    "    return Temperature"
   ]
  },
  {
   "cell_type": "markdown",
   "id": "eadf5729-ce79-49c6-98cb-e27999e57a91",
   "metadata": {},
   "source": [
    "From their VLBI observations we know that \n",
    "$$\n",
    "            B \\propto r^{-1} ~~~~~~~~~~~ N_0 \\propto r^{-2}.\n",
    "$$\n",
    "The fitting parameters will be: \n",
    "    (i)   the spectral index of injected electron population, p\n",
    "    (ii)  Initial magnetic field $B_0$\n",
    "    (iii) Initial value of the injected function of electrons\n",
    "    (iv)  Low energy cut for relativistic electrons $\\gamma_{min}(r_0) = E_{min}(r_0)/m_ec^2$\n",
    "The reference radius is $r_0=6.35 \\cdot 10^{14}~cm$, corresponding to the outer shell radius at their first data point $t_0=2.34~days$."
   ]
  },
  {
   "cell_type": "markdown",
   "id": "86207fd9-360d-4691-94bd-7e89070c36fe",
   "metadata": {},
   "source": [
    "The expansion will be driven by \n",
    "$$\n",
    "        R_{shock} \\propto t^{0.86},\n",
    "$$\n",
    "meaning that 47.78 days after the explosion the supernova radius will be $r_l$."
   ]
  },
  {
   "cell_type": "code",
   "execution_count": 7,
   "id": "ff31d83e-dae1-453d-a87a-714544abc378",
   "metadata": {},
   "outputs": [],
   "source": [
    "def PLradius(time, time0, r0, a=0.86):\n",
    "    \"\"\"\n",
    "    PLradius gives the radius after a given t of an expanding object with initial radius and a given speed driven by a power law\n",
    "\n",
    "    Parameters\n",
    "    :time: time of the expansion\n",
    "    :time0: reference time\n",
    "    :r0: radius at reference time\n",
    "    :a: parameter of the power law\n",
    "\n",
    "    Output\n",
    "    :r: radius at the end of the expansion\n",
    "    \"\"\"\n",
    "    \n",
    "    r=r0*(time**a)/(time0**a)\n",
    "    return r\n",
    "\n",
    "def Br(r, B0, r0):\n",
    "    \"\"\"\n",
    "    Br returns the value of the magnetic field at a given r known the value B0 at r0\n",
    "\n",
    "    Parameters\n",
    "    :r: radius at which the magnetic field will be calculated\n",
    "    :B0: magnetic field at a starting radius\n",
    "    :r0: radius at starting\n",
    "\n",
    "    Output\n",
    "    :Br: Magentic field at a radius r of the object\n",
    "    \"\"\"\n",
    "    \n",
    "    Br=B0*((r/r0)**(-1))\n",
    "    return Br\n",
    "\n",
    "def Nr(r, N0, r0, p):\n",
    "    \"\"\"\n",
    "    Nr returns the value of the electron density at a given r known the value N0 at r0\n",
    "\n",
    "    Parameters\n",
    "    :r: radius at which the magnetic field will be calculated\n",
    "    :N0: electron density at a starting radius\n",
    "    :r0: radius at starting\n",
    "    :p: exponent of the power law\n",
    "\n",
    "    Output\n",
    "    :Nr: electron density at a radius r of the object\n",
    "    \"\"\"\n",
    "    \n",
    "    Nr=N0*(r/r0)**(-2)\n",
    "    return Nr"
   ]
  },
  {
   "cell_type": "markdown",
   "id": "bcfbf799-f0d9-47fe-aafe-c23f5215ebd2",
   "metadata": {},
   "source": [
    "From Pacholcyzk expression (3.53) we have that the synchrotron intensity from a power law population of electrons is given by (https://www.mpi-hd.mpg.de/personalhomes/frieger/HEA6.pdf)\n",
    "$$\n",
    "    I_\\nu = S(\\nu) \\int e^{-\\tau_\\nu}d\\tau_\\nu,\n",
    "$$\n",
    "where $S(\\nu_1)= \\frac{\\epsilon_\\nu}{\\kappa_\\nu}$ is the source function and $d\\tau_\\nu = \\kappa_\\nu  ds$. This way the flux is simply\n",
    "$$\n",
    "    F_\\nu = \\Omega I_\\nu = \\frac{\\pi R^2}{D^2}I_\\nu.\n",
    "$$\n",
    "We want model a system where free-free absoption and syncrothron self absortion are present, emission and absorption coefficient for a synchrotron source are\n",
    "$$\n",
    "\\begin{aligned}\n",
    "    \\epsilon_\\nu &=c_5(\\gamma) N_0B^{(\\gamma+1) / 2}\\left(\\frac{\\nu}{2 c_1}\\right)^{(1-\\gamma) / 2}, \\\\\n",
    "    \\kappa_\\nu & =c_6(\\gamma) N_0B^{(\\gamma+2) / 2}\\left(\\frac{\\nu}{2 c_1}\\right)^{-(\\gamma+4) / 2},\n",
    "\\end{aligned}\n",
    "$$\n",
    "The emission intensity from a free-free is given by   and the absorption coefficient for free-free absorption in a relativistic population of electrons is\n",
    "$$\n",
    "        \\kappa_{\\nu,ff} = 9.8 \\cdot 10^{-3} \\frac{n_{cs}^2}{T_e^{1.5} \\nu^{2.1}} \\left( 17.7 + ln\\frac{T^{1.5}}{\\nu} \\right)\\\\\n",
    "$$\n",
    "We will have 2 regions, the shell, containing the synchrotron process and thus it's emission and absorption; and the exterior, with free-free process. This way the final intensity will be the sum of the intensity of both regions.\n",
    "$$\n",
    "            I_\\nu = I_{synch}\\left(1-e^{\\tau_{ff}}\\right) = \\frac{\\epsilon_\\nu}{\\kappa_\\nu}\\cdot \\left(e^{-(R_{shock}-\\Delta R)\\kappa_\\nu}- e^{-R_{shock} \\kappa_\\nu} \\right)e^{\\tau_{ff}}\n",
    "$$\n",
    "where the optical depth is $d\\tau_\\nu = \\kappa_\\nu ds$."
   ]
  },
  {
   "cell_type": "code",
   "execution_count": 215,
   "id": "ccb3be73-6336-479f-b8ea-ccaa487b8481",
   "metadata": {},
   "outputs": [],
   "source": [
    "#Defining absorption and emission coefficients\n",
    "def SynchrotronEmissionCoeff(p, B, N0, frequency):\n",
    "    \"\"\"\n",
    "    Returns the emission coefficient for a synchrotron emisison of a population of relativistic electrons\n",
    "\n",
    "    Parameters\n",
    "    :p: Coefficient of the power law defining the electron population\n",
    "    :B: Magnetic field\n",
    "    :N0: Constant of the power law\n",
    "    :frequency: frequency at which the emission coefficient want to be calculated\n",
    "\n",
    "    Output\n",
    "    :EmissionCoeff: Emission coefficient value\n",
    "    \"\"\"\n",
    "\n",
    "    EmissionCoeff=Pacholcyzk5(p)*N0*B**((p+1)/2)*(frequency/(2*c1))**((1-p)/2)\n",
    "    return EmissionCoeff\n",
    "\n",
    "def SynchrotronAbsorptionCoeff(p, B, N0, frequency):\n",
    "    \"\"\"\n",
    "    Returns the absorption coefficient for a synchrotron population of relativistic electrons\n",
    "\n",
    "    Parameters\n",
    "    :p: Coefficient of the power law defining the electron population\n",
    "    :B: Magnetic field\n",
    "    :N0: Constant of the power law\n",
    "    :frequency: frequency at which the absorption coefficient want to be calculated\n",
    "\n",
    "    Output\n",
    "    :AbsorptionCoeff: absorption coefficient value\n",
    "    \"\"\"\n",
    "\n",
    "    AbsorptionCoeff=Pacholcyzk6(p)*N0*B**((p+2)/2)*(frequency/(2*c1))**(-(p+4)/2)\n",
    "    return AbsorptionCoeff\n",
    "\n",
    "\n",
    "def FreeFreeAbsorptionCoeff(Te, Ne, frequency):\n",
    "    \"\"\"\n",
    "    Returns the absorption coefficient for a free free process in cgs units\n",
    "\n",
    "    Parameters\n",
    "    :Te: Temperature of the electrons\n",
    "    :Ne: Electron number density\n",
    "    :frequency: frequency at which the absorption coefficient want to be calculated\n",
    "\n",
    "    Output\n",
    "    :AbsorptionCoeff: absorption coefficient value\n",
    "    \"\"\"\n",
    "\n",
    "    AbsorptionCoeff=(9.8e-3*Ne*Ne/(Te**(1.5)*frequency**(2.1)))*(17.7+np.log(Te**(1.5)/frequency))\n",
    "    return AbsorptionCoeff"
   ]
  },
  {
   "cell_type": "markdown",
   "id": "6de2333d-7b6d-4b88-81de-146520653632",
   "metadata": {},
   "source": [
    "The constants $c_i$ (Pacholzyzk)\n",
    "$$\n",
    "c_1=\\frac{3 e}{4 \\pi m^3 c^5},\n",
    "$$\n",
    "\n",
    "$$\n",
    "c_5=\\frac{\\sqrt{3}}{16 \\pi} \\frac{e^3}{m c^2}\\left(\\frac{\\gamma+7 / 3}{\\gamma+1}\\right) \\Gamma\\left(\\frac{3 \\gamma-1}{12}\\right) \\Gamma\\left(\\frac{3 \\gamma+7}{12}\\right),\n",
    "$$\n",
    "\n",
    "$$\n",
    "c_6=\\frac{\\sqrt{3} \\pi}{72} e m^5 c^{10}\\left(\\gamma+\\frac{10}{3}\\right) \\Gamma\\left(\\frac{3 \\gamma+2}{12}\\right) \\Gamma\\left(\\frac{3 \\gamma+10}{12}\\right),\n",
    "$$"
   ]
  },
  {
   "cell_type": "code",
   "execution_count": 9,
   "id": "3c037da0-896a-40f2-bcef-312a7cc72280",
   "metadata": {},
   "outputs": [],
   "source": [
    "#Defininf Pacholcyzk's constants\n",
    "c1=(const.e.esu*3/(4*np.pi*const.m_e**3*c**5)).cgs.value\n",
    "\n",
    "def Pacholcyzk5(p):\n",
    "    \"\"\"\n",
    "    Pacholcyzk5 returns the value of the Pacholcyzk c5 constant given p\n",
    "    Parameters\n",
    "    :p: Coefficient of the power law defining the electron population\n",
    "\n",
    "    Output\n",
    "    :c5: Value of the constant\n",
    "    \"\"\"\n",
    "    c5=3**0.5/(16*np.pi)*(const.e.esu**3/(const.m_e*const.c**2))*(p+7/3)/(p+1)*scipy.special.gamma((3*p-1)/12)*scipy.special.gamma((3*p+7)/12)\n",
    "    #return only the value in cgs units to make possible a fit\n",
    "    return c5.cgs.value\n",
    "    \n",
    "def Pacholcyzk6(p):\n",
    "    \"\"\"\n",
    "    Pacholcyzk6 returns the value of the Pacholcyzk c6 constant given p\n",
    "    Parameters\n",
    "    :p: Coefficient of the power law defining the electron population\n",
    "\n",
    "    Output\n",
    "    :c6: Value of the constant\n",
    "    \"\"\"\n",
    "    c6=np.pi*3**0.5/(72)*const.e.esu*const.m_e**5*const.c**10*(p+10/3)*scipy.special.gamma((3*p+2)/12)*scipy.special.gamma((3*p+10)/12)\n",
    "    return c6.cgs.value"
   ]
  },
  {
   "cell_type": "markdown",
   "id": "fb4168bc-d66d-4708-a45a-0789c7e6e295",
   "metadata": {},
   "source": [
    "The thermal electron density for free-free process is characterized by\n",
    "$$\n",
    "            n_{cs}=1.27 \\cdot 10^8 M_W(r/6.35\\cdot 10^{14} cm)^{-s} cm^{-3},\n",
    "$$\n",
    "where, for this case $s=1.66$ and $M_W$ is the wind parameter\n",
    "$$\n",
    "            M_W = \\frac{\\dot{M}}{10^{-5} M_\\odot~yr^{-1}} (v_w/10 km/s)^{-1},\n",
    "$$\n",
    "where $\\dot{M}$ and $v_w$ are the mass loss rate and velocity of the presupernova wind. These come from the observations, and are obtained by Fransson, Lundqvist and Chevalier in (https://ui.adsabs.harvard.edu/abs/1996ApJ...461..993F/abstract), with a value of\n",
    "$$\n",
    "        \\dot{M} \\approx 4 \\cdot 10^{-5}~\\frac{M_{\\odot}}{yr}~~~~~~~v_w= 10~ \\frac{km}{s},\n",
    "$$\n",
    "so the value for the thermal electron density is\n",
    "$$\n",
    "                n_{cs}= 5.08\\cdot 10^{8}\\left(\\frac{r}{6.35\\cdot 10^{14} cm}\\right)^{-1.66} cm^{-3},\n",
    "$$"
   ]
  },
  {
   "cell_type": "code",
   "execution_count": 262,
   "id": "bf14e5bc-94ba-42b8-9022-3f1e29b33796",
   "metadata": {},
   "outputs": [],
   "source": [
    "def ThermalElectronDensity(radius):\n",
    "    \"\"\"\n",
    "    Returns thermal electron density for a given expansion radius in cm for 1993J\n",
    "\n",
    "    Parameters\n",
    "    :radius: Radius at which the density will be computed\n",
    "\n",
    "    Output\n",
    "    :n: thermal electron density in cgs\n",
    "    \"\"\"\n",
    "\n",
    "    n= 5.08e8*(radius/6.35e14)**(-1.66)\n",
    "    return n\n",
    "\n",
    "def SourceFuncSynch(p, B, N0, frequency):\n",
    "    \"\"\"\n",
    "    returns the value of the source function for a given frequency\n",
    "\n",
    "    Parameters\n",
    "    :p: Exponent of the power law of electron population\n",
    "    :B: Value of the magnetic field\n",
    "    :N0: Constant of the power law\n",
    "    :Ne: Thermal electron number density\n",
    "    :Te: Temperature of the electrons\n",
    "    :frequency: frequency at which the source function want to be calculated\n",
    "    \n",
    "    Output\n",
    "    :S: Value of the source function at the given frequency\n",
    "    \"\"\"\n",
    "\n",
    "    S=SynchrotronEmissionCoeff(p, B, N0, frequency)/(SynchrotronAbsorptionCoeff(p, B, N0, frequency))\n",
    "    return S"
   ]
  },
  {
   "cell_type": "markdown",
   "id": "671ce399-1a5f-4da1-ad24-1c1b25710f04",
   "metadata": {},
   "source": [
    "We can now compute the intensity and the flux."
   ]
  },
  {
   "cell_type": "code",
   "execution_count": 283,
   "id": "a643a86f-2413-4036-a5ac-c58f7174fd5e",
   "metadata": {},
   "outputs": [],
   "source": [
    "def SpecIntSynch(p, B, N, radius, shellRadius, frequency):\n",
    "    \"\"\"\n",
    "    SpecIntSynch returns the specific intensity of a population of relativistic electrons driven by a power law at a given\n",
    "    frequency\n",
    "\n",
    "    Paramenters\n",
    "    :p: exponent of the power law\n",
    "    :B: Magnetic field\n",
    "    :N0: Constant of the power law\n",
    "    :Te: Temperature of the electrons\n",
    "    :radius: Starting radius of the shell\n",
    "    :shellRadius: diference between bigger and smaller radius of the emitting shell\n",
    "    :frequency: frequency at which the specific intensity is computed\n",
    "\n",
    "    Output\n",
    "    :I: specific intensity at the given frequency\n",
    "    \"\"\"\n",
    "\n",
    "    S =SourceFuncSynch(p, B, N, frequency)\n",
    "    kappa= SynchrotronAbsorptionCoeff(p, B, N, frequency)\n",
    "    Te=ThermalElectronsTemp(radius)\n",
    "    Ne=ThermalElectronDensity(radius)\n",
    "    kappa_ff=FreeFreeAbsorptionCoeff(Te, Ne,frequency)\n",
    "    absorption_ff= np.exp(-radius*kappa_ff)\n",
    "    \n",
    "    #I=S*(np.exp(-(radius - shellRadius)*kappa) - np.exp(-radius*kappa))*absorption_ff\n",
    "    I=S*(1-np.exp(- shellRadius*kappa))*absorption_ff\n",
    "    return I\n",
    "\n",
    "\n",
    "def solidangle(radius, distance):\n",
    "    \"\"\"\n",
    "    solidangle gives the solid angle of a source at distance d and size r in the small angle approximation.If units are \n",
    "    desired at the output, they must be inserted in the parameters with unit module\n",
    "\n",
    "    Parameters\n",
    "    :radius: radius of the source\n",
    "    :distance: distance from Earth to source\n",
    "\n",
    "    Outputs\n",
    "    :omega: solid angle of the source\n",
    "    \"\"\"\n",
    "    #Applying the expresion for the solid angle in the small angle approximation\n",
    "    omega= np.pi * (radius**2)/(distance**2)\n",
    "    return omega"
   ]
  },
  {
   "cell_type": "code",
   "execution_count": 278,
   "id": "a9b64827-4713-4ee2-b6f7-5df31ca07b63",
   "metadata": {},
   "outputs": [],
   "source": [
    "\n",
    "def FluxatT(time, time0, frequency, p, B0, N0, distance, r0, a=0.86, offset=0):\n",
    "    \"\"\"\n",
    "    Flux returns the value of the flux foor a population of relativistic electrons driven by a power law at a given frequency\n",
    "\n",
    "    Parameters\n",
    "    :time: Time at wich the flux is calculated\n",
    "    :frequency: frequency at which the specific intensity is computed\n",
    "    :p: exponent of the power law describing electron population\n",
    "    :B0: Magnetic field when radius is r0\n",
    "    :N0: Constant of the power law\n",
    "    :distance: Distance to the source\n",
    "    :r0: reference radius of the source\n",
    "    :speed: speed of the expansion\n",
    "    :a: exponent of the power law describing expansion\n",
    "    :offset: Optional parameter to make a fit with the offset of the time\n",
    "    \n",
    "    Output\n",
    "    :F: Flux of the source\n",
    "    \"\"\"\n",
    "    #Computing the radius at a given time\n",
    "    r=PLradius(time+offset, time0, r0, a)\n",
    "    #Computing number density and magentic field for the corresponding r\n",
    "    B= Br(r, B0, r0)\n",
    "    N= Nr(r, N0, r0, p)\n",
    "    \n",
    "    F=solidangle(r, distance)*SpecIntSynch(p, B, N, r, 0.3*r, frequency)\n",
    "    return F*1e23 #In order to get from cgs to Jy"
   ]
  },
  {
   "cell_type": "markdown",
   "id": "5eb4f35a-3eb2-476b-be53-6b86d45b8e54",
   "metadata": {},
   "source": [
    "We defined our function with frequencies, but sometimes data is given in wavelenght or viceversa, here we make some functions to change between them."
   ]
  },
  {
   "cell_type": "code",
   "execution_count": 13,
   "id": "b44b85b9-7714-4865-a0a7-6b11cd7d64b2",
   "metadata": {},
   "outputs": [],
   "source": [
    "def freqtowavelenght(frequency):\n",
    "    \"\"\"\n",
    "    Transforms from frequency to wavelenght\n",
    "\n",
    "    Parameters\n",
    "    :frequency: Input frequency\n",
    "\n",
    "    Output\n",
    "    :wavelenght:\n",
    "    \"\"\"\n",
    "    frequency=frequency.to(u.Hz)\n",
    "    return (const.c/frequency).decompose()\n",
    "\n",
    "def wavelenghttofreq(wavelenght):\n",
    "    \"\"\"\n",
    "    Transforms from wavelenght to frequency\n",
    "\n",
    "    Parameters\n",
    "    :wavelenght: Input wavelenght\n",
    "\n",
    "    Output\n",
    "    :frequency:\n",
    "    \"\"\"\n",
    "    wavelenght=wavelenght.to(u.m)\n",
    "    return (const.c/wavelenght).decompose()"
   ]
  },
  {
   "cell_type": "markdown",
   "id": "34d55c3c-7763-4b9a-b351-6b27af278f18",
   "metadata": {},
   "source": [
    "# 3. Plots and fit."
   ]
  },
  {
   "cell_type": "markdown",
   "id": "94b77261-bb95-4caa-99b0-4c0a7964ea3b",
   "metadata": {},
   "source": [
    "First, let's try to plot the synchrotron zone and check for magnitude orders of the parameters"
   ]
  },
  {
   "cell_type": "code",
   "execution_count": 291,
   "id": "2d09a7ce-b86b-4071-aa3c-6c6bc2a1d1ab",
   "metadata": {},
   "outputs": [
    {
     "data": {
      "image/png": "[encoded data removed]",
      "text/plain": [
       "<Figure size 640x480 with 1 Axes>"
      ]
     },
     "metadata": {},
     "output_type": "display_data"
    }
   ],
   "source": [
    "#Checking with the values given by Miguel et al\n",
    "p=3.\n",
    "d=(3.6*1e6*u.pc).to(u.cm).value  #Known distance to the binary\n",
    "B0=( 27*u.G).value\n",
    "r0= (6.35e14*u.cm).value \n",
    "time0=(2.34*u.day).value #This changes the resut\n",
    "N0= (6.7e-7*u.erg**(p-1)/u.cm**3).value \n",
    "\n",
    "x= data_2[1].Days\n",
    "y=data_2[1].Flux\n",
    "\n",
    "t=np.linspace(1, 4000, 1000000)\n",
    "\n",
    "F1= 1e3*FluxatT(t, time0, wavelenghttofreq(2*u.cm).cgs.value, p, B0, N0, d, r0) #The data is in mJy\n",
    "\n",
    "plt.plot(t,F1,'r') \n",
    "\n",
    "plt.scatter(x,y) \n",
    "\n",
    "\n",
    "plt.xscale(\"log\")\n",
    "plt.yscale(\"log\")\n",
    "plt.ylim(0.1,400)\n",
    "plt.xlim(1,2000)\n",
    "plt.ylabel(\"Flux (mJy)\")\n",
    "plt.xlabel(\"Time (Days)\")\n",
    "plt.show()\n"
   ]
  },
  {
   "cell_type": "markdown",
   "id": "1142a1ca-f589-4a5f-bfc6-e7bd9d318888",
   "metadata": {},
   "source": [
    "We can make the same but for frequency plot for a given time."
   ]
  },
  {
   "cell_type": "code",
   "execution_count": 280,
   "id": "6cec07f2-288d-4c21-8b8f-711a699a47d0",
   "metadata": {},
   "outputs": [
    {
     "data": {
      "text/plain": [
       "<matplotlib.legend.Legend at 0x7f0c5b0cd750>"
      ]
     },
     "execution_count": 280,
     "metadata": {},
     "output_type": "execute_result"
    },
    {
     "data": {
      "image/png": "[encoded data removed]",
      "text/plain": [
       "<Figure size 640x480 with 1 Axes>"
      ]
     },
     "metadata": {},
     "output_type": "display_data"
    }
   ],
   "source": [
    "day= DayArray[80]\n",
    "WavelenghtArray= [1.2*u.cm, 2*u.cm, 3.6*u.cm, 6*u.cm, 20*u.cm]\n",
    "WavelenghtContinum= np.linspace(0.1*u.cm, max(WavelenghtArray), 10000)\n",
    "\n",
    "F1= 1e3*FluxatT(np.array([day]), time0, wavelenghttofreq(WavelenghtContinum).value, p, B0, N0, d, r0)\n",
    "\n",
    "plt.plot(WavelenghtContinum,F1,'r') #The data is in mJy\n",
    "for wavelenght in data:\n",
    "    for i, days in enumerate(wavelenght[1].Days):\n",
    "        if days==day:\n",
    "            plt.errorbar((float(wavelenght[0])),\n",
    "                         wavelenght[1].Flux[i], yerr=wavelenght[1].Error[i], \n",
    "                         fmt = '.', capsize=2, label= f'{wavelenght[0]} cm')\n",
    "\n",
    "plt.xscale(\"log\")\n",
    "plt.yscale(\"log\")\n",
    "plt.ylim(0.1,200)\n",
    "plt.xlim(1)\n",
    "plt.ylabel(\"Flux (mJy)\")\n",
    "plt.xlabel(\"Observing wavelenght (cm)\")\n",
    "plt.title(f'{day} days after explosion')\n",
    "plt.legend()"
   ]
  },
  {
   "cell_type": "code",
   "execution_count": 275,
   "id": "2604c84f-5bc0-4ae8-9d8f-8ae6c2f5e7ab",
   "metadata": {},
   "outputs": [],
   "source": [
    "radius=np.array([PLradius(100, 2.34, r0)])\n",
    "Te=ThermalElectronsTemp(radius)\n",
    "Ne=ThermalElectronDensity(radius)\n",
    "kappa_ff=FreeFreeAbsorptionCoeff(Te, Ne, wavelenghttofreq(2*u.cm).value)\n",
    "absorption_ff= np.exp(-PLradius(10, 2.34, r0)*kappa_ff)"
   ]
  },
  {
   "cell_type": "code",
   "execution_count": 276,
   "id": "7406856b-9e62-41fd-918e-e688149e8098",
   "metadata": {},
   "outputs": [
    {
     "data": {
      "text/plain": [
       "array([0.99455791])"
      ]
     },
     "execution_count": 276,
     "metadata": {},
     "output_type": "execute_result"
    }
   ],
   "source": [
    "absorption_ff"
   ]
  },
  {
   "cell_type": "code",
   "execution_count": 251,
   "id": "70fda02e-8d70-4f4b-ad27-25ee07be809f",
   "metadata": {},
   "outputs": [],
   "source": [
    "radius=PLradius(10, 2.34, r0)"
   ]
  },
  {
   "cell_type": "code",
   "execution_count": 267,
   "id": "ee947f97-f838-4d15-ad22-71bfb3ca3db9",
   "metadata": {},
   "outputs": [
    {
     "data": {
      "text/plain": [
       "array([-1.88353945e-08])"
      ]
     },
     "execution_count": 267,
     "metadata": {},
     "output_type": "execute_result"
    }
   ],
   "source": [
    "kappa_ff"
   ]
  },
  {
   "cell_type": "code",
   "execution_count": 269,
   "id": "b7f37916-10d4-4279-a25c-094ac851e1f4",
   "metadata": {},
   "outputs": [
    {
     "data": {
      "text/plain": [
       "array([-4.35618789])"
      ]
     },
     "execution_count": 269,
     "metadata": {},
     "output_type": "execute_result"
    }
   ],
   "source": [
    "(17.7+np.log(Te**(1.5)/wavelenghttofreq(2*u.cm).value))"
   ]
  },
  {
   "cell_type": "code",
   "execution_count": 270,
   "id": "636803a9-bd84-474c-9be1-558d43a47cc8",
   "metadata": {},
   "outputs": [
    {
     "data": {
      "text/plain": [
       "14989622900.0"
      ]
     },
     "execution_count": 270,
     "metadata": {},
     "output_type": "execute_result"
    }
   ],
   "source": [
    "wavelenghttofreq(2*u.cm).value"
   ]
  },
  {
   "cell_type": "code",
   "execution_count": 271,
   "id": "53415aa6-de5f-4570-bc53-37db4e43e5a3",
   "metadata": {},
   "outputs": [
    {
     "data": {
      "text/plain": [
       "array([2.5])"
      ]
     },
     "execution_count": 271,
     "metadata": {},
     "output_type": "execute_result"
    }
   ],
   "source": [
    "Te"
   ]
  },
  {
   "cell_type": "markdown",
   "id": "10a543dd-3e77-459a-9d20-bce3f42b4090",
   "metadata": {},
   "source": [
    " BACKUP I STILL DONT KNO IF IT IS LIKE THIS I THINK IT NOT ANYWAYS\n",
    "\n",
    "With this, the absorption coeffcient of the external free free can be writen as\n",
    "$$\n",
    "    \\begin{aligned}\n",
    "        &\\begin{aligned}\n",
    "         \\kappa_{ff,1}= 9.8 \\cdot 10^{-3}\\left[5.08\\left(\\frac{r}{6.35\\cdot 10^{14} }\\right)^{-1.66} \\right]^2 \\left[\\frac{r_{15}}{1.7\\cdot 10^6 }\\right]^{1.5}\\nu^{-2.1}&\\left( 17.7 +  ln\\frac{\\left[\\frac{r_{15}}{1.7\\cdot 10^6}\\right]^{-1.5}}{\\nu} \\right) = 2.53 \\cdot 10^{82} \\frac{r^{-4.82}}{\\nu^{2.1}}\\\\\n",
    "         &\\Longrightarrow \\tau_{ff,1}= -6.62 \\cdot 10^{81} \\frac{r^{-3.82}}{\\nu^{2.1}}\n",
    "        \\end{aligned} \\\\\n",
    "        &\\begin{aligned}\n",
    "        \\kappa_{ff,2}= 9.8 \\cdot 10^{-3}\\left[5.08\\left(\\frac{r}{6.35\\cdot 10^{14} }\\right)^{-1.66} \\right]^2 \\left[\\frac{1}{2 \\cdot 10^{5} }\\right]^{1.5} \\nu^{-2.1}&\\left( 36 -ln \\nu \\right)= 3.22 \\cdot 10^{58} \\frac{r^{-3.32}}{\\nu^{2.1}}\\\\\n",
    "        &\\Longrightarrow \\tau_{ff,1}= -1.39 \\cdot 10^{58} \\frac{r^{-2.32}}{\\nu^{2.1}}.\n",
    "        \\end{aligned}\n",
    "    \\end{aligned}\n",
    "$$\n",
    "On the other hand, the Source functions can be writen as\n",
    "$$\n",
    "    \\begin{aligned}\n",
    "        S_{ff,1}&= \\nu^2 \\frac{5.22 \\cdot 10^{-19}}{r}, \\\\\n",
    "        S_{ff,2}&= \\nu^2 6.15\\cdot 10^{-35}.\n",
    "    \\end{aligned}        \n",
    "$$\n",
    "where the region change occurs for $r_l= 8.5 \\cdot 10^{15}~cm$, and all units are in cgs."
   ]
  },
  {
   "cell_type": "code",
   "execution_count": null,
   "id": "74ac4f5f-e52e-47fc-9221-60c2425bee37",
   "metadata": {},
   "outputs": [],
   "source": []
  }
 ],
 "metadata": {
  "kernelspec": {
   "display_name": "Python 3 (ipykernel)",
   "language": "python",
   "name": "python3"
  },
  "language_info": {
   "codemirror_mode": {
    "name": "ipython",
    "version": 3
   },
   "file_extension": ".py",
   "mimetype": "text/x-python",
   "name": "python",
   "nbconvert_exporter": "python",
   "pygments_lexer": "ipython3",
   "version": "3.11.7"
  }
 },
 "nbformat": 4,
 "nbformat_minor": 5
}
