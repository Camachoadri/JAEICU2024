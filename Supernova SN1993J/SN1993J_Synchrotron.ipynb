{
 "cells": [
  {
   "cell_type": "code",
   "execution_count": 13,
   "id": "265fe030-fbb8-4be3-8f71-ca8196db47fa",
   "metadata": {},
   "outputs": [],
   "source": [
    "import numpy as np\n",
    "import matplotlib.pyplot as plt\n",
    "import scipy\n",
    "\n",
    "#Fitting the spectrum\n",
    "from scipy.optimize import curve_fit\n",
    "\n",
    "#Packages for using tables in astropy\n",
    "from astropy.table import QTable\n",
    "from astropy.io import ascii\n",
    "\n",
    "#Using csv tables\n",
    "import pandas as pd"
   ]
  },
  {
   "cell_type": "markdown",
   "id": "69a8c9a3-86fc-4ead-8fe3-38a63c063434",
   "metadata": {},
   "source": [
    "The goal of this notebook is to fit the radio emission of the supernova 1993J, data can be extracted from https://iopscience.iop.org/article/10.1086/523258/pdf and is also aviable in this Github. "
   ]
  },
  {
   "cell_type": "markdown",
   "id": "179c1ad7-625b-4a0a-8bad-06fa87d44d9e",
   "metadata": {},
   "source": [
    "# Introduction."
   ]
  },
  {
   "cell_type": "markdown",
   "id": "784d74f9-2ec6-4ae3-bf7f-ade264462657",
   "metadata": {},
   "source": [
    "First, we need to save all the spectrum data in python variables."
   ]
  },
  {
   "cell_type": "code",
   "execution_count": 50,
   "id": "53d320f5-f210-4a74-9dd5-208932c6c1f4",
   "metadata": {},
   "outputs": [
    {
     "data": {
      "text/html": [
       "<div>\n",
       "<style scoped>\n",
       "    .dataframe tbody tr th:only-of-type {\n",
       "        vertical-align: middle;\n",
       "    }\n",
       "\n",
       "    .dataframe tbody tr th {\n",
       "        vertical-align: top;\n",
       "    }\n",
       "\n",
       "    .dataframe thead th {\n",
       "        text-align: right;\n",
       "    }\n",
       "</style>\n",
       "<table border=\"1\" class=\"dataframe\">\n",
       "  <thead>\n",
       "    <tr style=\"text-align: right;\">\n",
       "      <th></th>\n",
       "      <th>Days</th>\n",
       "      <th>Telescope</th>\n",
       "      <th>Flux</th>\n",
       "      <th>Error</th>\n",
       "    </tr>\n",
       "  </thead>\n",
       "  <tbody>\n",
       "    <tr>\n",
       "      <th>0</th>\n",
       "      <td>11.37</td>\n",
       "      <td>VLA B</td>\n",
       "      <td>18.940</td>\n",
       "      <td>1.905</td>\n",
       "    </tr>\n",
       "    <tr>\n",
       "      <th>1</th>\n",
       "      <td>12.33</td>\n",
       "      <td>VLA B</td>\n",
       "      <td>22.487</td>\n",
       "      <td>2.261</td>\n",
       "    </tr>\n",
       "    <tr>\n",
       "      <th>2</th>\n",
       "      <td>13.04</td>\n",
       "      <td>VLA B</td>\n",
       "      <td>25.753</td>\n",
       "      <td>2.576</td>\n",
       "    </tr>\n",
       "    <tr>\n",
       "      <th>3</th>\n",
       "      <td>13.46</td>\n",
       "      <td>VLA B</td>\n",
       "      <td>25.550</td>\n",
       "      <td>2.578</td>\n",
       "    </tr>\n",
       "    <tr>\n",
       "      <th>4</th>\n",
       "      <td>14.25</td>\n",
       "      <td>VLA B</td>\n",
       "      <td>28.640</td>\n",
       "      <td>2.875</td>\n",
       "    </tr>\n",
       "    <tr>\n",
       "      <th>...</th>\n",
       "      <td>...</td>\n",
       "      <td>...</td>\n",
       "      <td>...</td>\n",
       "      <td>...</td>\n",
       "    </tr>\n",
       "    <tr>\n",
       "      <th>77</th>\n",
       "      <td>3213.38</td>\n",
       "      <td>VLA D/A</td>\n",
       "      <td>2.495</td>\n",
       "      <td>0.282</td>\n",
       "    </tr>\n",
       "    <tr>\n",
       "      <th>78</th>\n",
       "      <td>3708.93</td>\n",
       "      <td>VLA A</td>\n",
       "      <td>1.928</td>\n",
       "      <td>0.237</td>\n",
       "    </tr>\n",
       "    <tr>\n",
       "      <th>79</th>\n",
       "      <td>3959.47</td>\n",
       "      <td>VLA B/C</td>\n",
       "      <td>1.792</td>\n",
       "      <td>0.191</td>\n",
       "    </tr>\n",
       "    <tr>\n",
       "      <th>80</th>\n",
       "      <td>4184.57</td>\n",
       "      <td>VLA A</td>\n",
       "      <td>0.967</td>\n",
       "      <td>0.217</td>\n",
       "    </tr>\n",
       "    <tr>\n",
       "      <th>81</th>\n",
       "      <td>4460.90</td>\n",
       "      <td>VLA B/C</td>\n",
       "      <td>0.897</td>\n",
       "      <td>0.139</td>\n",
       "    </tr>\n",
       "  </tbody>\n",
       "</table>\n",
       "<p>82 rows × 4 columns</p>\n",
       "</div>"
      ],
      "text/plain": [
       "       Days Telescope    Flux  Error\n",
       "0     11.37     VLA B  18.940  1.905\n",
       "1     12.33     VLA B  22.487  2.261\n",
       "2     13.04     VLA B  25.753  2.576\n",
       "3     13.46     VLA B  25.550  2.578\n",
       "4     14.25     VLA B  28.640  2.875\n",
       "..      ...       ...     ...    ...\n",
       "77  3213.38   VLA D/A   2.495  0.282\n",
       "78  3708.93     VLA A   1.928  0.237\n",
       "79  3959.47   VLA B/C   1.792  0.191\n",
       "80  4184.57     VLA A   0.967  0.217\n",
       "81  4460.90   VLA B/C   0.897  0.139\n",
       "\n",
       "[82 rows x 4 columns]"
      ]
     },
     "execution_count": 50,
     "metadata": {},
     "output_type": "execute_result"
    }
   ],
   "source": [
    "data_1= pd.read_csv(\"Data/Datos SuperNova - 1.2_cm.csv\")\n",
    "data_2= pd.read_csv(\"Data/Datos SuperNova - 2_cm.csv\")\n",
    "data_3= pd.read_csv(\"Data/Datos SuperNova - 3.6_cm.csv\")\n",
    "data_6= pd.read_csv(\"Data/Datos SuperNova - 6_cm.csv\")\n",
    "data_20= pd.read_csv(\"Data/Datos SuperNova - 20_cm.csv\")\n",
    "\n",
    "data_1"
   ]
  }
 ],
 "metadata": {
  "kernelspec": {
   "display_name": "Python 3 (ipykernel)",
   "language": "python",
   "name": "python3"
  },
  "language_info": {
   "codemirror_mode": {
    "name": "ipython",
    "version": 3
   },
   "file_extension": ".py",
   "mimetype": "text/x-python",
   "name": "python",
   "nbconvert_exporter": "python",
   "pygments_lexer": "ipython3",
   "version": "3.11.7"
  }
 },
 "nbformat": 4,
 "nbformat_minor": 5
}
