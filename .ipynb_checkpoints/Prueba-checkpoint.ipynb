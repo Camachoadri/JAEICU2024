{
 "cells": [
  {
   "cell_type": "code",
   "execution_count": 82,
   "id": "15fa3c15-58db-40d1-925d-0de258862e8f",
   "metadata": {},
   "outputs": [],
   "source": [
    "import numpy as np\n",
    "import matplotlib.pyplot as plt\n",
    "import math\n",
    "\n",
    "from ipywidgets import interact, interactive, fixed, interact_manual\n",
    "import ipywidgets as widget"
   ]
  },
  {
   "cell_type": "code",
   "execution_count": 110,
   "id": "97476102-7211-407e-8735-a2b641f6fbe1",
   "metadata": {},
   "outputs": [
    {
     "data": {
      "application/vnd.jupyter.widget-view+json": {
       "model_id": "f27a1a277b744fd1921f6c1fd7437a59",
       "version_major": 2,
       "version_minor": 0
      },
      "text/plain": [
       "interactive(children=(FloatSlider(value=2.5, description='delta', max=7.5, min=-2.5), Output()), _dom_classes=…"
      ]
     },
     "metadata": {},
     "output_type": "display_data"
    }
   ],
   "source": [
    "def f(delta):\n",
    "    size=1000\n",
    "    x= np.linspace(0.1, 10, size)\n",
    "    S=np.zeros(size)\n",
    "    for i in np.arange(0,size-1):\n",
    "        S[i]= x[i]**(5/2)*(1- math.exp(-x[i]**(-(delta+4)/2)))\n",
    "\n",
    "    plt.xscale(\"log\")\n",
    "    plt.yscale(\"log\")\n",
    "    plt.ylabel(\"Spectrum\")\n",
    "    plt.xlabel(\"v/v_1\")\n",
    "    plt.plot(x,S)\n",
    "    return delta\n",
    "    \n",
    "interact(f, delta=2.5);"
   ]
  }
 ],
 "metadata": {
  "kernelspec": {
   "display_name": "Python 3 (ipykernel)",
   "language": "python",
   "name": "python3"
  },
  "language_info": {
   "codemirror_mode": {
    "name": "ipython",
    "version": 3
   },
   "file_extension": ".py",
   "mimetype": "text/x-python",
   "name": "python",
   "nbconvert_exporter": "python",
   "pygments_lexer": "ipython3",
   "version": "3.11.7"
  }
 },
 "nbformat": 4,
 "nbformat_minor": 5
}
